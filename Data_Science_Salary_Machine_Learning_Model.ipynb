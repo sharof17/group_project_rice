{
  "cells": [
    {
      "cell_type": "markdown",
      "id": "5ab98ac8",
      "metadata": {
        "id": "5ab98ac8"
      },
      "source": [
        "# Connecting to Database"
      ]
    },
    {
      "cell_type": "code",
      "execution_count": 1,
      "id": "f2bc7e9d",
      "metadata": {
        "colab": {
          "base_uri": "https://localhost:8080/"
        },
        "id": "f2bc7e9d",
        "outputId": "5500039b-97de-455a-95b5-fb85bcb92c26"
      },
      "outputs": [
        {
          "output_type": "stream",
          "name": "stdout",
          "text": [
            "\r0% [Working]\r            \rGet:1 http://security.ubuntu.com/ubuntu bionic-security InRelease [88.7 kB]\n",
            "\r0% [Waiting for headers] [1 InRelease 14.2 kB/88.7 kB 16%] [Connected to cloud.\r                                                                               \rHit:2 http://archive.ubuntu.com/ubuntu bionic InRelease\n",
            "\r0% [1 InRelease 88.7 kB/88.7 kB 100%] [Connected to cloud.r-project.org (65.9.8\r                                                                               \rGet:3 http://archive.ubuntu.com/ubuntu bionic-updates InRelease [88.7 kB]\n",
            "\r                                                                               \rHit:4 http://ppa.launchpad.net/c2d4u.team/c2d4u4.0+/ubuntu bionic InRelease\n",
            "\r                                                                               \rHit:5 http://ppa.launchpad.net/cran/libgit2/ubuntu bionic InRelease\n",
            "\r0% [Waiting for headers] [Waiting for headers] [Waiting for headers] [Waiting f\r                                                                               \rGet:6 http://archive.ubuntu.com/ubuntu bionic-backports InRelease [83.3 kB]\n",
            "\r                                                                               \rGet:7 https://cloud.r-project.org/bin/linux/ubuntu bionic-cran40/ InRelease [3,626 B]\n",
            "\r0% [6 InRelease 20.0 kB/83.3 kB 24%] [Waiting for headers] [Waiting for headers\r0% [2 InRelease gpgv 242 kB] [6 InRelease 30.1 kB/83.3 kB 36%] [Waiting for hea\r                                                                               \rGet:8 http://ppa.launchpad.net/deadsnakes/ppa/ubuntu bionic InRelease [15.9 kB]\n",
            "Hit:9 http://ppa.launchpad.net/graphics-drivers/ppa/ubuntu bionic InRelease\n",
            "Ign:10 https://developer.download.nvidia.com/compute/machine-learning/repos/ubuntu1804/x86_64  InRelease\n",
            "Hit:11 https://developer.download.nvidia.com/compute/cuda/repos/ubuntu1804/x86_64  InRelease\n",
            "Hit:12 https://developer.download.nvidia.com/compute/machine-learning/repos/ubuntu1804/x86_64  Release\n",
            "Get:13 http://archive.ubuntu.com/ubuntu bionic-updates/restricted amd64 Packages [1,232 kB]\n",
            "Get:14 http://archive.ubuntu.com/ubuntu bionic-updates/main amd64 Packages [3,454 kB]\n",
            "Get:15 http://ppa.launchpad.net/deadsnakes/ppa/ubuntu bionic/main amd64 Packages [44.0 kB]\n",
            "Fetched 5,009 kB in 3s (1,905 kB/s)\n",
            "Reading package lists... Done\n"
          ]
        }
      ],
      "source": [
        "import os\n",
        "# Find the latest version of spark 3.0  from http://www.apache.org/dist/spark/ and enter as the spark version\n",
        "# For example:\n",
        "# spark_version = 'spark-3.0.3'\n",
        "spark_version = 'spark-3.3.0'\n",
        "os.environ['SPARK_VERSION']=spark_version\n",
        "\n",
        "# Install Spark and Java\n",
        "!apt-get update\n",
        "!apt-get install openjdk-11-jdk-headless -qq > /dev/null\n",
        "!wget -q http://www.apache.org/dist/spark/spark-3.3.0/spark-3.3.0-bin-hadoop2.tgz\n",
        "!tar xf spark-3.3.0-bin-hadoop2.tgz\n",
        "!pip install -q findspark\n",
        "\n",
        "# Set Environment Variables\n",
        "os.environ[\"JAVA_HOME\"] = \"/usr/lib/jvm/java-11-openjdk-amd64\"\n",
        "os.environ[\"SPARK_HOME\"] = f\"/content/{spark_version}-bin-hadoop2\"\n",
        "\n",
        "# Start a SparkSession\n",
        "import findspark\n",
        "findspark.init()"
      ]
    },
    {
      "cell_type": "code",
      "execution_count": 2,
      "id": "494c6709",
      "metadata": {
        "colab": {
          "base_uri": "https://localhost:8080/"
        },
        "id": "494c6709",
        "outputId": "98fc608a-380c-4931-e989-888af9c3ff4b"
      },
      "outputs": [
        {
          "output_type": "stream",
          "name": "stdout",
          "text": [
            "--2022-10-17 18:12:27--  https://jdbc.postgresql.org/download/postgresql-42.2.9.jar\n",
            "Resolving jdbc.postgresql.org (jdbc.postgresql.org)... 72.32.157.228, 2001:4800:3e1:1::228\n",
            "Connecting to jdbc.postgresql.org (jdbc.postgresql.org)|72.32.157.228|:443... connected.\n",
            "HTTP request sent, awaiting response... 200 OK\n",
            "Length: 914037 (893K) [application/java-archive]\n",
            "Saving to: ‘postgresql-42.2.9.jar’\n",
            "\n",
            "postgresql-42.2.9.j 100%[===================>] 892.61K  1.44MB/s    in 0.6s    \n",
            "\n",
            "2022-10-17 18:12:28 (1.44 MB/s) - ‘postgresql-42.2.9.jar’ saved [914037/914037]\n",
            "\n"
          ]
        }
      ],
      "source": [
        "!wget https://jdbc.postgresql.org/download/postgresql-42.2.9.jar"
      ]
    },
    {
      "cell_type": "code",
      "execution_count": 3,
      "id": "e6260475",
      "metadata": {
        "id": "e6260475"
      },
      "outputs": [],
      "source": [
        "from pyspark.sql import SparkSession\n",
        "spark = SparkSession.builder.appName(\"CloudETL\").config(\"spark.driver.extraClassPath\",\"/content/postgresql-42.2.9.jar\").getOrCreate()"
      ]
    },
    {
      "cell_type": "code",
      "execution_count": 4,
      "id": "6dff0277",
      "metadata": {
        "colab": {
          "base_uri": "https://localhost:8080/"
        },
        "id": "6dff0277",
        "outputId": "fb952c18-5ebd-40f5-f459-7f7b3115ca78"
      },
      "outputs": [
        {
          "output_type": "stream",
          "name": "stdout",
          "text": [
            "+---+----------+-------------------+----------+-----+--------------------+-----------------------+-----------------+--------------+----------+---------------+-------+---------+-------------+-----+\n",
            "|_c0|responseid|          timestamp|   company|level|               title|totalyearlycompensation|yearsofexperience|yearsatcompany|basesalary|stockgrantvalue|  bonus|rowNumber|         city|state|\n",
            "+---+----------+-------------------+----------+-----+--------------------+-----------------------+-----------------+--------------+----------+---------------+-------+---------+-------------+-----+\n",
            "|  0|        A1|2017-06-07 11:33:00|    ORACLE|   L3|     Product Manager|                 127000|              1.5|           1.5|    107000|        20000.0|10000.0|        1| Redwood City|   CA|\n",
            "|  1|        A2|2017-06-10 17:11:00|      EBAY| SE 2|   Software Engineer|                 100000|              5.0|           3.0|         0|            0.0|    0.0|        2|San Francisco|   CA|\n",
            "|  2|        A3|2017-06-11 14:53:00|    AMAZON|   L7|     Product Manager|                 310000|              8.0|           0.0|    155000|            0.0|    0.0|        3|      Seattle|   WA|\n",
            "|  3|        A4|2017-06-17 00:23:00|     APPLE|   M1|Software Engineer...|                 372000|              7.0|           5.0|    157000|       180000.0|35000.0|        7|    Sunnyvale|   CA|\n",
            "|  4|        A5|2017-06-20 10:58:00| MICROSOFT|   60|   Software Engineer|                 157000|              5.0|           3.0|         0|            0.0|    0.0|        9|Mountain View|   CA|\n",
            "|  5|        A6|2017-06-21 17:27:00| MICROSOFT|   63|   Software Engineer|                 208000|              8.5|           8.5|         0|            0.0|    0.0|       11|      Seattle|   WA|\n",
            "|  6|        A7|2017-06-22 12:37:00| MICROSOFT|   65|Software Engineer...|                 300000|             15.0|          11.0|    180000|        65000.0|55000.0|       12|      Redmond|   WA|\n",
            "|  7|        A8|2017-06-22 13:55:00| MICROSOFT|   62|   Software Engineer|                 156000|              4.0|           4.0|    135000|         8000.0|13000.0|       13|      Seattle|   WA|\n",
            "|  8|        A9|2017-06-22 23:08:00| MICROSOFT|   59|   Software Engineer|                 120000|              3.0|           1.0|         0|            0.0|    0.0|       15|      Redmond|   WA|\n",
            "|  9|       A10|2017-06-26 21:25:00| MICROSOFT|   63|   Software Engineer|                 201000|             12.0|           6.0|    157000|        26000.0|28000.0|       16|      Seattle|   WA|\n",
            "| 10|       A11|2017-06-30 16:29:00|SALESFORCE|    9|Software Engineer...|                 450000|             16.0|           3.0|    230000|       100000.0|45000.0|       18|San Francisco|   CA|\n",
            "| 11|       A12|2017-07-02 14:16:00| MICROSOFT|Sde 2|   Software Engineer|                 155000|              5.0|           3.0|    126000|            0.0|    0.0|       19|     Bellevue|   WA|\n",
            "| 12|       A13|2017-07-03 19:28:00| MICROSOFT|   63|     Product Manager|                 150000|             10.0|          10.0|         0|            0.0|    0.0|       20|      Redmond|   WA|\n",
            "| 13|       A14|2017-07-07 22:29:00| MICROSOFT|   63|   Software Engineer|                 191000|              7.0|           7.0|    152000|        17000.0|22000.0|       21|      Seattle|   WA|\n",
            "| 14|       A15|2017-07-14 21:36:00|    AMAZON|   L6|Software Engineer...|                 287000|             12.0|           1.0|    160000|            0.0|    0.0|       23|      Seattle|   WA|\n",
            "| 15|       A16|2017-07-16 16:50:00|    AMAZON|   L5|   Software Engineer|                 218000|             10.0|           0.0|    150000|         7000.0|61000.0|       25|      Seattle|   WA|\n",
            "| 16|       A17|2017-07-20 22:35:00|  FACEBOOK|   E3|   Software Engineer|                 168000|              1.0|           1.0|         0|            0.0|    0.0|       27|   Menlo Park|   CA|\n",
            "| 17|       A18|2017-07-22 22:20:00|      UBER|   5a|   Software Engineer|                 160000|              9.0|           1.0|         0|            0.0|    0.0|       29|San Francisco|   CA|\n",
            "| 19|       A20|2017-07-24 23:14:00| MICROSOFT|   64|   Software Engineer|                 195000|              9.0|           9.0|         0|            0.0|    0.0|       31|      Redmond|   WA|\n",
            "| 20|       A21|2017-07-25 14:44:00|      OATH|  IC4|   Software Engineer|                 155000|              8.0|           7.0|    125000|        30000.0|15000.0|       33|    Sunnyvale|   CA|\n",
            "+---+----------+-------------------+----------+-----+--------------------+-----------------------+-----------------+--------------+----------+---------------+-------+---------+-------------+-----+\n",
            "only showing top 20 rows\n",
            "\n"
          ]
        }
      ],
      "source": [
        "# Salary Data\n",
        "# Read in data from S3 Buckets\n",
        "from pyspark import SparkFiles\n",
        "url=\"https://group-project-data-bucket.s3.amazonaws.com/clean_salary_data.csv\"\n",
        "spark.sparkContext.addFile(url)\n",
        "salary_data = spark.read.csv(SparkFiles.get(\"clean_salary_data.csv\"), sep=\",\", header=True, inferSchema=True)\n",
        "\n",
        "# Show Dataset\n",
        "salary_data.show()"
      ]
    },
    {
      "cell_type": "code",
      "source": [
        "# Survey Participants Data\n",
        "# Read in data from S3 Buckets\n",
        "from pyspark import SparkFiles\n",
        "url=\"https://group-project-data-bucket.s3.amazonaws.com/clean_participants_data.csv\"\n",
        "spark.sparkContext.addFile(url)\n",
        "participants_data = spark.read.csv(SparkFiles.get(\"clean_participants_data.csv\"), sep=\",\", header=True, inferSchema=True)\n",
        "\n",
        "# Show DataFrame\n",
        "participants_data.show()"
      ],
      "metadata": {
        "colab": {
          "base_uri": "https://localhost:8080/"
        },
        "id": "E1Lg86m2LFwm",
        "outputId": "19a84242-acc9-4092-daa4-621afa4ae14d"
      },
      "id": "E1Lg86m2LFwm",
      "execution_count": 5,
      "outputs": [
        {
          "output_type": "stream",
          "name": "stdout",
          "text": [
            "+---+----------+-------------------+-------+------------+--------------+----------------+----------------+----------+------------+----------+----------+----------------+----------+-------------+-------+---------+---------+\n",
            "|_c0|responseid|          timestamp| gender|otherdetails|Masters_Degree|Bachelors_Degree|Doctorate_Degree|Highschool|Some_College|Race_Asian|Race_White|Race_Two_Or_More|Race_Black|Race_Hispanic|   Race|Education|rowNumber|\n",
            "+---+----------+-------------------+-------+------------+--------------+----------------+----------------+----------+------------+----------+----------+----------------+----------+-------------+-------+---------+---------+\n",
            "|  0|        A1|2017-06-07 11:33:00|Unknown|     Unknown|             0|               0|               0|         0|           0|         0|         0|               0|         0|            0|Unknown|  Unknown|        1|\n",
            "|  1|        A2|2017-06-10 17:11:00|Unknown|     Unknown|             0|               0|               0|         0|           0|         0|         0|               0|         0|            0|Unknown|  Unknown|        2|\n",
            "|  2|        A3|2017-06-11 14:53:00|Unknown|     Unknown|             0|               0|               0|         0|           0|         0|         0|               0|         0|            0|Unknown|  Unknown|        3|\n",
            "|  3|        A4|2017-06-17 00:23:00|Unknown|     Unknown|             0|               0|               0|         0|           0|         0|         0|               0|         0|            0|Unknown|  Unknown|        7|\n",
            "|  4|        A5|2017-06-20 10:58:00|Unknown|     Unknown|             0|               0|               0|         0|           0|         0|         0|               0|         0|            0|Unknown|  Unknown|        9|\n",
            "|  5|        A6|2017-06-21 17:27:00|Unknown|     Unknown|             0|               0|               0|         0|           0|         0|         0|               0|         0|            0|Unknown|  Unknown|       11|\n",
            "|  6|        A7|2017-06-22 12:37:00|Unknown|     Unknown|             0|               0|               0|         0|           0|         0|         0|               0|         0|            0|Unknown|  Unknown|       12|\n",
            "|  7|        A8|2017-06-22 13:55:00|Unknown|     Unknown|             0|               0|               0|         0|           0|         0|         0|               0|         0|            0|Unknown|  Unknown|       13|\n",
            "|  8|        A9|2017-06-22 23:08:00|Unknown|     Unknown|             0|               0|               0|         0|           0|         0|         0|               0|         0|            0|Unknown|  Unknown|       15|\n",
            "|  9|       A10|2017-06-26 21:25:00|Unknown|     Unknown|             0|               0|               0|         0|           0|         0|         0|               0|         0|            0|Unknown|  Unknown|       16|\n",
            "| 10|       A11|2017-06-30 16:29:00|Unknown|     Unknown|             0|               0|               0|         0|           0|         0|         0|               0|         0|            0|Unknown|  Unknown|       18|\n",
            "| 11|       A12|2017-07-02 14:16:00|Unknown|     Unknown|             0|               0|               0|         0|           0|         0|         0|               0|         0|            0|Unknown|  Unknown|       19|\n",
            "| 12|       A13|2017-07-03 19:28:00|Unknown|     Unknown|             0|               0|               0|         0|           0|         0|         0|               0|         0|            0|Unknown|  Unknown|       20|\n",
            "| 13|       A14|2017-07-07 22:29:00|Unknown|     Unknown|             0|               0|               0|         0|           0|         0|         0|               0|         0|            0|Unknown|  Unknown|       21|\n",
            "| 14|       A15|2017-07-14 21:36:00|Unknown|     Unknown|             0|               0|               0|         0|           0|         0|         0|               0|         0|            0|Unknown|  Unknown|       23|\n",
            "| 15|       A16|2017-07-16 16:50:00|Unknown|     Unknown|             0|               0|               0|         0|           0|         0|         0|               0|         0|            0|Unknown|  Unknown|       25|\n",
            "| 16|       A17|2017-07-20 22:35:00|Unknown|     Unknown|             0|               0|               0|         0|           0|         0|         0|               0|         0|            0|Unknown|  Unknown|       27|\n",
            "| 17|       A18|2017-07-22 22:20:00|Unknown|     Unknown|             0|               0|               0|         0|           0|         0|         0|               0|         0|            0|Unknown|  Unknown|       29|\n",
            "| 18|       A19|2017-07-24 12:21:00|Unknown|     Unknown|             0|               0|               0|         0|           0|         0|         0|               0|         0|            0|Unknown|  Unknown|       30|\n",
            "| 19|       A20|2017-07-24 23:14:00|Unknown|     Unknown|             0|               0|               0|         0|           0|         0|         0|               0|         0|            0|Unknown|  Unknown|       31|\n",
            "+---+----------+-------------------+-------+------------+--------------+----------------+----------------+----------+------------+----------+----------+----------------+----------+-------------+-------+---------+---------+\n",
            "only showing top 20 rows\n",
            "\n"
          ]
        }
      ]
    },
    {
      "cell_type": "markdown",
      "metadata": {
        "id": "uaDVN950Xpm9"
      },
      "source": [
        "# Preprocessing"
      ],
      "id": "uaDVN950Xpm9"
    },
    {
      "cell_type": "markdown",
      "source": [
        "## Developing Salary Dataframe for prediction model"
      ],
      "metadata": {
        "id": "QhGncl7F5ODS"
      },
      "id": "QhGncl7F5ODS"
    },
    {
      "cell_type": "code",
      "execution_count": 6,
      "id": "64365b9c",
      "metadata": {
        "id": "64365b9c"
      },
      "outputs": [],
      "source": [
        "#Import dependancies\n",
        "import numpy as np\n",
        "import pandas as pd \n",
        "import matplotlib.pyplot as plt\n",
        "import seaborn as sns\n",
        "from scipy import stats"
      ]
    },
    {
      "cell_type": "code",
      "source": [
        "salary_df = salary_data.toPandas()\n",
        "salary_df.head() "
      ],
      "metadata": {
        "colab": {
          "base_uri": "https://localhost:8080/",
          "height": 374
        },
        "id": "aY08QlcxfH-o",
        "outputId": "8832a8f9-94aa-4893-ac48-755b51ce5201"
      },
      "id": "aY08QlcxfH-o",
      "execution_count": 7,
      "outputs": [
        {
          "output_type": "execute_result",
          "data": {
            "text/plain": [
              "   _c0 responseid           timestamp    company level  \\\n",
              "0    0         A1 2017-06-07 11:33:00     ORACLE    L3   \n",
              "1    1         A2 2017-06-10 17:11:00       EBAY  SE 2   \n",
              "2    2         A3 2017-06-11 14:53:00     AMAZON    L7   \n",
              "3    3         A4 2017-06-17 00:23:00      APPLE    M1   \n",
              "4    4         A5 2017-06-20 10:58:00  MICROSOFT    60   \n",
              "\n",
              "                          title  totalyearlycompensation  yearsofexperience  \\\n",
              "0               Product Manager                   127000                1.5   \n",
              "1             Software Engineer                   100000                5.0   \n",
              "2               Product Manager                   310000                8.0   \n",
              "3  Software Engineering Manager                   372000                7.0   \n",
              "4             Software Engineer                   157000                5.0   \n",
              "\n",
              "   yearsatcompany  basesalary  stockgrantvalue    bonus  rowNumber  \\\n",
              "0             1.5      107000          20000.0  10000.0          1   \n",
              "1             3.0           0              0.0      0.0          2   \n",
              "2             0.0      155000              0.0      0.0          3   \n",
              "3             5.0      157000         180000.0  35000.0          7   \n",
              "4             3.0           0              0.0      0.0          9   \n",
              "\n",
              "            city state  \n",
              "0   Redwood City    CA  \n",
              "1  San Francisco    CA  \n",
              "2        Seattle    WA  \n",
              "3      Sunnyvale    CA  \n",
              "4  Mountain View    CA  "
            ],
            "text/html": [
              "\n",
              "  <div id=\"df-d214c0bd-b644-4de5-8aa1-3bdbdf7284d3\">\n",
              "    <div class=\"colab-df-container\">\n",
              "      <div>\n",
              "<style scoped>\n",
              "    .dataframe tbody tr th:only-of-type {\n",
              "        vertical-align: middle;\n",
              "    }\n",
              "\n",
              "    .dataframe tbody tr th {\n",
              "        vertical-align: top;\n",
              "    }\n",
              "\n",
              "    .dataframe thead th {\n",
              "        text-align: right;\n",
              "    }\n",
              "</style>\n",
              "<table border=\"1\" class=\"dataframe\">\n",
              "  <thead>\n",
              "    <tr style=\"text-align: right;\">\n",
              "      <th></th>\n",
              "      <th>_c0</th>\n",
              "      <th>responseid</th>\n",
              "      <th>timestamp</th>\n",
              "      <th>company</th>\n",
              "      <th>level</th>\n",
              "      <th>title</th>\n",
              "      <th>totalyearlycompensation</th>\n",
              "      <th>yearsofexperience</th>\n",
              "      <th>yearsatcompany</th>\n",
              "      <th>basesalary</th>\n",
              "      <th>stockgrantvalue</th>\n",
              "      <th>bonus</th>\n",
              "      <th>rowNumber</th>\n",
              "      <th>city</th>\n",
              "      <th>state</th>\n",
              "    </tr>\n",
              "  </thead>\n",
              "  <tbody>\n",
              "    <tr>\n",
              "      <th>0</th>\n",
              "      <td>0</td>\n",
              "      <td>A1</td>\n",
              "      <td>2017-06-07 11:33:00</td>\n",
              "      <td>ORACLE</td>\n",
              "      <td>L3</td>\n",
              "      <td>Product Manager</td>\n",
              "      <td>127000</td>\n",
              "      <td>1.5</td>\n",
              "      <td>1.5</td>\n",
              "      <td>107000</td>\n",
              "      <td>20000.0</td>\n",
              "      <td>10000.0</td>\n",
              "      <td>1</td>\n",
              "      <td>Redwood City</td>\n",
              "      <td>CA</td>\n",
              "    </tr>\n",
              "    <tr>\n",
              "      <th>1</th>\n",
              "      <td>1</td>\n",
              "      <td>A2</td>\n",
              "      <td>2017-06-10 17:11:00</td>\n",
              "      <td>EBAY</td>\n",
              "      <td>SE 2</td>\n",
              "      <td>Software Engineer</td>\n",
              "      <td>100000</td>\n",
              "      <td>5.0</td>\n",
              "      <td>3.0</td>\n",
              "      <td>0</td>\n",
              "      <td>0.0</td>\n",
              "      <td>0.0</td>\n",
              "      <td>2</td>\n",
              "      <td>San Francisco</td>\n",
              "      <td>CA</td>\n",
              "    </tr>\n",
              "    <tr>\n",
              "      <th>2</th>\n",
              "      <td>2</td>\n",
              "      <td>A3</td>\n",
              "      <td>2017-06-11 14:53:00</td>\n",
              "      <td>AMAZON</td>\n",
              "      <td>L7</td>\n",
              "      <td>Product Manager</td>\n",
              "      <td>310000</td>\n",
              "      <td>8.0</td>\n",
              "      <td>0.0</td>\n",
              "      <td>155000</td>\n",
              "      <td>0.0</td>\n",
              "      <td>0.0</td>\n",
              "      <td>3</td>\n",
              "      <td>Seattle</td>\n",
              "      <td>WA</td>\n",
              "    </tr>\n",
              "    <tr>\n",
              "      <th>3</th>\n",
              "      <td>3</td>\n",
              "      <td>A4</td>\n",
              "      <td>2017-06-17 00:23:00</td>\n",
              "      <td>APPLE</td>\n",
              "      <td>M1</td>\n",
              "      <td>Software Engineering Manager</td>\n",
              "      <td>372000</td>\n",
              "      <td>7.0</td>\n",
              "      <td>5.0</td>\n",
              "      <td>157000</td>\n",
              "      <td>180000.0</td>\n",
              "      <td>35000.0</td>\n",
              "      <td>7</td>\n",
              "      <td>Sunnyvale</td>\n",
              "      <td>CA</td>\n",
              "    </tr>\n",
              "    <tr>\n",
              "      <th>4</th>\n",
              "      <td>4</td>\n",
              "      <td>A5</td>\n",
              "      <td>2017-06-20 10:58:00</td>\n",
              "      <td>MICROSOFT</td>\n",
              "      <td>60</td>\n",
              "      <td>Software Engineer</td>\n",
              "      <td>157000</td>\n",
              "      <td>5.0</td>\n",
              "      <td>3.0</td>\n",
              "      <td>0</td>\n",
              "      <td>0.0</td>\n",
              "      <td>0.0</td>\n",
              "      <td>9</td>\n",
              "      <td>Mountain View</td>\n",
              "      <td>CA</td>\n",
              "    </tr>\n",
              "  </tbody>\n",
              "</table>\n",
              "</div>\n",
              "      <button class=\"colab-df-convert\" onclick=\"convertToInteractive('df-d214c0bd-b644-4de5-8aa1-3bdbdf7284d3')\"\n",
              "              title=\"Convert this dataframe to an interactive table.\"\n",
              "              style=\"display:none;\">\n",
              "        \n",
              "  <svg xmlns=\"http://www.w3.org/2000/svg\" height=\"24px\"viewBox=\"0 0 24 24\"\n",
              "       width=\"24px\">\n",
              "    <path d=\"M0 0h24v24H0V0z\" fill=\"none\"/>\n",
              "    <path d=\"M18.56 5.44l.94 2.06.94-2.06 2.06-.94-2.06-.94-.94-2.06-.94 2.06-2.06.94zm-11 1L8.5 8.5l.94-2.06 2.06-.94-2.06-.94L8.5 2.5l-.94 2.06-2.06.94zm10 10l.94 2.06.94-2.06 2.06-.94-2.06-.94-.94-2.06-.94 2.06-2.06.94z\"/><path d=\"M17.41 7.96l-1.37-1.37c-.4-.4-.92-.59-1.43-.59-.52 0-1.04.2-1.43.59L10.3 9.45l-7.72 7.72c-.78.78-.78 2.05 0 2.83L4 21.41c.39.39.9.59 1.41.59.51 0 1.02-.2 1.41-.59l7.78-7.78 2.81-2.81c.8-.78.8-2.07 0-2.86zM5.41 20L4 18.59l7.72-7.72 1.47 1.35L5.41 20z\"/>\n",
              "  </svg>\n",
              "      </button>\n",
              "      \n",
              "  <style>\n",
              "    .colab-df-container {\n",
              "      display:flex;\n",
              "      flex-wrap:wrap;\n",
              "      gap: 12px;\n",
              "    }\n",
              "\n",
              "    .colab-df-convert {\n",
              "      background-color: #E8F0FE;\n",
              "      border: none;\n",
              "      border-radius: 50%;\n",
              "      cursor: pointer;\n",
              "      display: none;\n",
              "      fill: #1967D2;\n",
              "      height: 32px;\n",
              "      padding: 0 0 0 0;\n",
              "      width: 32px;\n",
              "    }\n",
              "\n",
              "    .colab-df-convert:hover {\n",
              "      background-color: #E2EBFA;\n",
              "      box-shadow: 0px 1px 2px rgba(60, 64, 67, 0.3), 0px 1px 3px 1px rgba(60, 64, 67, 0.15);\n",
              "      fill: #174EA6;\n",
              "    }\n",
              "\n",
              "    [theme=dark] .colab-df-convert {\n",
              "      background-color: #3B4455;\n",
              "      fill: #D2E3FC;\n",
              "    }\n",
              "\n",
              "    [theme=dark] .colab-df-convert:hover {\n",
              "      background-color: #434B5C;\n",
              "      box-shadow: 0px 1px 3px 1px rgba(0, 0, 0, 0.15);\n",
              "      filter: drop-shadow(0px 1px 2px rgba(0, 0, 0, 0.3));\n",
              "      fill: #FFFFFF;\n",
              "    }\n",
              "  </style>\n",
              "\n",
              "      <script>\n",
              "        const buttonEl =\n",
              "          document.querySelector('#df-d214c0bd-b644-4de5-8aa1-3bdbdf7284d3 button.colab-df-convert');\n",
              "        buttonEl.style.display =\n",
              "          google.colab.kernel.accessAllowed ? 'block' : 'none';\n",
              "\n",
              "        async function convertToInteractive(key) {\n",
              "          const element = document.querySelector('#df-d214c0bd-b644-4de5-8aa1-3bdbdf7284d3');\n",
              "          const dataTable =\n",
              "            await google.colab.kernel.invokeFunction('convertToInteractive',\n",
              "                                                     [key], {});\n",
              "          if (!dataTable) return;\n",
              "\n",
              "          const docLinkHtml = 'Like what you see? Visit the ' +\n",
              "            '<a target=\"_blank\" href=https://colab.research.google.com/notebooks/data_table.ipynb>data table notebook</a>'\n",
              "            + ' to learn more about interactive tables.';\n",
              "          element.innerHTML = '';\n",
              "          dataTable['output_type'] = 'display_data';\n",
              "          await google.colab.output.renderOutput(dataTable, element);\n",
              "          const docLink = document.createElement('div');\n",
              "          docLink.innerHTML = docLinkHtml;\n",
              "          element.appendChild(docLink);\n",
              "        }\n",
              "      </script>\n",
              "    </div>\n",
              "  </div>\n",
              "  "
            ]
          },
          "metadata": {},
          "execution_count": 7
        }
      ]
    },
    {
      "cell_type": "code",
      "source": [
        "participants_df = participants_data.toPandas()\n",
        "participants_df = participants_df.rename(columns={\"timestamp\": \"time\", \"_c0\": \"_c02\"})\n",
        "participants_df.head()"
      ],
      "metadata": {
        "colab": {
          "base_uri": "https://localhost:8080/",
          "height": 444
        },
        "id": "eEm-gTczNIyY",
        "outputId": "f3ae99a4-ce0f-41a1-d70c-7db52394dcd2"
      },
      "id": "eEm-gTczNIyY",
      "execution_count": 8,
      "outputs": [
        {
          "output_type": "execute_result",
          "data": {
            "text/plain": [
              "  _c02 responseid                 time   gender otherdetails Masters_Degree  \\\n",
              "0    0         A1  2017-06-07 11:33:00  Unknown      Unknown              0   \n",
              "1    1         A2  2017-06-10 17:11:00  Unknown      Unknown              0   \n",
              "2    2         A3  2017-06-11 14:53:00  Unknown      Unknown              0   \n",
              "3    3         A4  2017-06-17 00:23:00  Unknown      Unknown              0   \n",
              "4    4         A5  2017-06-20 10:58:00  Unknown      Unknown              0   \n",
              "\n",
              "  Bachelors_Degree Doctorate_Degree Highschool Some_College Race_Asian  \\\n",
              "0                0                0          0            0          0   \n",
              "1                0                0          0            0          0   \n",
              "2                0                0          0            0          0   \n",
              "3                0                0          0            0          0   \n",
              "4                0                0          0            0          0   \n",
              "\n",
              "  Race_White Race_Two_Or_More  Race_Black Race_Hispanic     Race Education  \\\n",
              "0          0                0         0.0             0  Unknown   Unknown   \n",
              "1          0                0         0.0             0  Unknown   Unknown   \n",
              "2          0                0         0.0             0  Unknown   Unknown   \n",
              "3          0                0         0.0             0  Unknown   Unknown   \n",
              "4          0                0         0.0             0  Unknown   Unknown   \n",
              "\n",
              "  rowNumber  \n",
              "0         1  \n",
              "1         2  \n",
              "2         3  \n",
              "3         7  \n",
              "4         9  "
            ],
            "text/html": [
              "\n",
              "  <div id=\"df-c33cdad6-48c6-4e9d-92f2-e0744798df19\">\n",
              "    <div class=\"colab-df-container\">\n",
              "      <div>\n",
              "<style scoped>\n",
              "    .dataframe tbody tr th:only-of-type {\n",
              "        vertical-align: middle;\n",
              "    }\n",
              "\n",
              "    .dataframe tbody tr th {\n",
              "        vertical-align: top;\n",
              "    }\n",
              "\n",
              "    .dataframe thead th {\n",
              "        text-align: right;\n",
              "    }\n",
              "</style>\n",
              "<table border=\"1\" class=\"dataframe\">\n",
              "  <thead>\n",
              "    <tr style=\"text-align: right;\">\n",
              "      <th></th>\n",
              "      <th>_c02</th>\n",
              "      <th>responseid</th>\n",
              "      <th>time</th>\n",
              "      <th>gender</th>\n",
              "      <th>otherdetails</th>\n",
              "      <th>Masters_Degree</th>\n",
              "      <th>Bachelors_Degree</th>\n",
              "      <th>Doctorate_Degree</th>\n",
              "      <th>Highschool</th>\n",
              "      <th>Some_College</th>\n",
              "      <th>Race_Asian</th>\n",
              "      <th>Race_White</th>\n",
              "      <th>Race_Two_Or_More</th>\n",
              "      <th>Race_Black</th>\n",
              "      <th>Race_Hispanic</th>\n",
              "      <th>Race</th>\n",
              "      <th>Education</th>\n",
              "      <th>rowNumber</th>\n",
              "    </tr>\n",
              "  </thead>\n",
              "  <tbody>\n",
              "    <tr>\n",
              "      <th>0</th>\n",
              "      <td>0</td>\n",
              "      <td>A1</td>\n",
              "      <td>2017-06-07 11:33:00</td>\n",
              "      <td>Unknown</td>\n",
              "      <td>Unknown</td>\n",
              "      <td>0</td>\n",
              "      <td>0</td>\n",
              "      <td>0</td>\n",
              "      <td>0</td>\n",
              "      <td>0</td>\n",
              "      <td>0</td>\n",
              "      <td>0</td>\n",
              "      <td>0</td>\n",
              "      <td>0.0</td>\n",
              "      <td>0</td>\n",
              "      <td>Unknown</td>\n",
              "      <td>Unknown</td>\n",
              "      <td>1</td>\n",
              "    </tr>\n",
              "    <tr>\n",
              "      <th>1</th>\n",
              "      <td>1</td>\n",
              "      <td>A2</td>\n",
              "      <td>2017-06-10 17:11:00</td>\n",
              "      <td>Unknown</td>\n",
              "      <td>Unknown</td>\n",
              "      <td>0</td>\n",
              "      <td>0</td>\n",
              "      <td>0</td>\n",
              "      <td>0</td>\n",
              "      <td>0</td>\n",
              "      <td>0</td>\n",
              "      <td>0</td>\n",
              "      <td>0</td>\n",
              "      <td>0.0</td>\n",
              "      <td>0</td>\n",
              "      <td>Unknown</td>\n",
              "      <td>Unknown</td>\n",
              "      <td>2</td>\n",
              "    </tr>\n",
              "    <tr>\n",
              "      <th>2</th>\n",
              "      <td>2</td>\n",
              "      <td>A3</td>\n",
              "      <td>2017-06-11 14:53:00</td>\n",
              "      <td>Unknown</td>\n",
              "      <td>Unknown</td>\n",
              "      <td>0</td>\n",
              "      <td>0</td>\n",
              "      <td>0</td>\n",
              "      <td>0</td>\n",
              "      <td>0</td>\n",
              "      <td>0</td>\n",
              "      <td>0</td>\n",
              "      <td>0</td>\n",
              "      <td>0.0</td>\n",
              "      <td>0</td>\n",
              "      <td>Unknown</td>\n",
              "      <td>Unknown</td>\n",
              "      <td>3</td>\n",
              "    </tr>\n",
              "    <tr>\n",
              "      <th>3</th>\n",
              "      <td>3</td>\n",
              "      <td>A4</td>\n",
              "      <td>2017-06-17 00:23:00</td>\n",
              "      <td>Unknown</td>\n",
              "      <td>Unknown</td>\n",
              "      <td>0</td>\n",
              "      <td>0</td>\n",
              "      <td>0</td>\n",
              "      <td>0</td>\n",
              "      <td>0</td>\n",
              "      <td>0</td>\n",
              "      <td>0</td>\n",
              "      <td>0</td>\n",
              "      <td>0.0</td>\n",
              "      <td>0</td>\n",
              "      <td>Unknown</td>\n",
              "      <td>Unknown</td>\n",
              "      <td>7</td>\n",
              "    </tr>\n",
              "    <tr>\n",
              "      <th>4</th>\n",
              "      <td>4</td>\n",
              "      <td>A5</td>\n",
              "      <td>2017-06-20 10:58:00</td>\n",
              "      <td>Unknown</td>\n",
              "      <td>Unknown</td>\n",
              "      <td>0</td>\n",
              "      <td>0</td>\n",
              "      <td>0</td>\n",
              "      <td>0</td>\n",
              "      <td>0</td>\n",
              "      <td>0</td>\n",
              "      <td>0</td>\n",
              "      <td>0</td>\n",
              "      <td>0.0</td>\n",
              "      <td>0</td>\n",
              "      <td>Unknown</td>\n",
              "      <td>Unknown</td>\n",
              "      <td>9</td>\n",
              "    </tr>\n",
              "  </tbody>\n",
              "</table>\n",
              "</div>\n",
              "      <button class=\"colab-df-convert\" onclick=\"convertToInteractive('df-c33cdad6-48c6-4e9d-92f2-e0744798df19')\"\n",
              "              title=\"Convert this dataframe to an interactive table.\"\n",
              "              style=\"display:none;\">\n",
              "        \n",
              "  <svg xmlns=\"http://www.w3.org/2000/svg\" height=\"24px\"viewBox=\"0 0 24 24\"\n",
              "       width=\"24px\">\n",
              "    <path d=\"M0 0h24v24H0V0z\" fill=\"none\"/>\n",
              "    <path d=\"M18.56 5.44l.94 2.06.94-2.06 2.06-.94-2.06-.94-.94-2.06-.94 2.06-2.06.94zm-11 1L8.5 8.5l.94-2.06 2.06-.94-2.06-.94L8.5 2.5l-.94 2.06-2.06.94zm10 10l.94 2.06.94-2.06 2.06-.94-2.06-.94-.94-2.06-.94 2.06-2.06.94z\"/><path d=\"M17.41 7.96l-1.37-1.37c-.4-.4-.92-.59-1.43-.59-.52 0-1.04.2-1.43.59L10.3 9.45l-7.72 7.72c-.78.78-.78 2.05 0 2.83L4 21.41c.39.39.9.59 1.41.59.51 0 1.02-.2 1.41-.59l7.78-7.78 2.81-2.81c.8-.78.8-2.07 0-2.86zM5.41 20L4 18.59l7.72-7.72 1.47 1.35L5.41 20z\"/>\n",
              "  </svg>\n",
              "      </button>\n",
              "      \n",
              "  <style>\n",
              "    .colab-df-container {\n",
              "      display:flex;\n",
              "      flex-wrap:wrap;\n",
              "      gap: 12px;\n",
              "    }\n",
              "\n",
              "    .colab-df-convert {\n",
              "      background-color: #E8F0FE;\n",
              "      border: none;\n",
              "      border-radius: 50%;\n",
              "      cursor: pointer;\n",
              "      display: none;\n",
              "      fill: #1967D2;\n",
              "      height: 32px;\n",
              "      padding: 0 0 0 0;\n",
              "      width: 32px;\n",
              "    }\n",
              "\n",
              "    .colab-df-convert:hover {\n",
              "      background-color: #E2EBFA;\n",
              "      box-shadow: 0px 1px 2px rgba(60, 64, 67, 0.3), 0px 1px 3px 1px rgba(60, 64, 67, 0.15);\n",
              "      fill: #174EA6;\n",
              "    }\n",
              "\n",
              "    [theme=dark] .colab-df-convert {\n",
              "      background-color: #3B4455;\n",
              "      fill: #D2E3FC;\n",
              "    }\n",
              "\n",
              "    [theme=dark] .colab-df-convert:hover {\n",
              "      background-color: #434B5C;\n",
              "      box-shadow: 0px 1px 3px 1px rgba(0, 0, 0, 0.15);\n",
              "      filter: drop-shadow(0px 1px 2px rgba(0, 0, 0, 0.3));\n",
              "      fill: #FFFFFF;\n",
              "    }\n",
              "  </style>\n",
              "\n",
              "      <script>\n",
              "        const buttonEl =\n",
              "          document.querySelector('#df-c33cdad6-48c6-4e9d-92f2-e0744798df19 button.colab-df-convert');\n",
              "        buttonEl.style.display =\n",
              "          google.colab.kernel.accessAllowed ? 'block' : 'none';\n",
              "\n",
              "        async function convertToInteractive(key) {\n",
              "          const element = document.querySelector('#df-c33cdad6-48c6-4e9d-92f2-e0744798df19');\n",
              "          const dataTable =\n",
              "            await google.colab.kernel.invokeFunction('convertToInteractive',\n",
              "                                                     [key], {});\n",
              "          if (!dataTable) return;\n",
              "\n",
              "          const docLinkHtml = 'Like what you see? Visit the ' +\n",
              "            '<a target=\"_blank\" href=https://colab.research.google.com/notebooks/data_table.ipynb>data table notebook</a>'\n",
              "            + ' to learn more about interactive tables.';\n",
              "          element.innerHTML = '';\n",
              "          dataTable['output_type'] = 'display_data';\n",
              "          await google.colab.output.renderOutput(dataTable, element);\n",
              "          const docLink = document.createElement('div');\n",
              "          docLink.innerHTML = docLinkHtml;\n",
              "          element.appendChild(docLink);\n",
              "        }\n",
              "      </script>\n",
              "    </div>\n",
              "  </div>\n",
              "  "
            ]
          },
          "metadata": {},
          "execution_count": 8
        }
      ]
    },
    {
      "cell_type": "code",
      "source": [
        "# Merge salary and participants tables\n",
        "salary_df = salary_df.merge(participants_df, left_on='responseid', right_on='responseid')\n",
        "salary_df.head()"
      ],
      "metadata": {
        "colab": {
          "base_uri": "https://localhost:8080/",
          "height": 404
        },
        "id": "wAOilLImNVmy",
        "outputId": "e173ef78-22be-40d4-faf3-43e3b73a1579"
      },
      "id": "wAOilLImNVmy",
      "execution_count": 11,
      "outputs": [
        {
          "output_type": "execute_result",
          "data": {
            "text/plain": [
              "   _c0 responseid           timestamp    company level  \\\n",
              "0    0         A1 2017-06-07 11:33:00     ORACLE    L3   \n",
              "1    1         A2 2017-06-10 17:11:00       EBAY  SE 2   \n",
              "2    2         A3 2017-06-11 14:53:00     AMAZON    L7   \n",
              "3    3         A4 2017-06-17 00:23:00      APPLE    M1   \n",
              "4    4         A5 2017-06-20 10:58:00  MICROSOFT    60   \n",
              "\n",
              "                          title  totalyearlycompensation  yearsofexperience  \\\n",
              "0               Product Manager                   127000                1.5   \n",
              "1             Software Engineer                   100000                5.0   \n",
              "2               Product Manager                   310000                8.0   \n",
              "3  Software Engineering Manager                   372000                7.0   \n",
              "4             Software Engineer                   157000                5.0   \n",
              "\n",
              "   yearsatcompany  basesalary  ...  Highschool  Some_College  Race_Asian  \\\n",
              "0             1.5      107000  ...           0             0           0   \n",
              "1             3.0           0  ...           0             0           0   \n",
              "2             0.0      155000  ...           0             0           0   \n",
              "3             5.0      157000  ...           0             0           0   \n",
              "4             3.0           0  ...           0             0           0   \n",
              "\n",
              "  Race_White Race_Two_Or_More Race_Black Race_Hispanic     Race Education  \\\n",
              "0          0                0        0.0             0  Unknown   Unknown   \n",
              "1          0                0        0.0             0  Unknown   Unknown   \n",
              "2          0                0        0.0             0  Unknown   Unknown   \n",
              "3          0                0        0.0             0  Unknown   Unknown   \n",
              "4          0                0        0.0             0  Unknown   Unknown   \n",
              "\n",
              "  rowNumber_y  \n",
              "0           1  \n",
              "1           2  \n",
              "2           3  \n",
              "3           7  \n",
              "4           9  \n",
              "\n",
              "[5 rows x 32 columns]"
            ],
            "text/html": [
              "\n",
              "  <div id=\"df-180c1f35-9210-4808-af7e-facf0ac9d763\">\n",
              "    <div class=\"colab-df-container\">\n",
              "      <div>\n",
              "<style scoped>\n",
              "    .dataframe tbody tr th:only-of-type {\n",
              "        vertical-align: middle;\n",
              "    }\n",
              "\n",
              "    .dataframe tbody tr th {\n",
              "        vertical-align: top;\n",
              "    }\n",
              "\n",
              "    .dataframe thead th {\n",
              "        text-align: right;\n",
              "    }\n",
              "</style>\n",
              "<table border=\"1\" class=\"dataframe\">\n",
              "  <thead>\n",
              "    <tr style=\"text-align: right;\">\n",
              "      <th></th>\n",
              "      <th>_c0</th>\n",
              "      <th>responseid</th>\n",
              "      <th>timestamp</th>\n",
              "      <th>company</th>\n",
              "      <th>level</th>\n",
              "      <th>title</th>\n",
              "      <th>totalyearlycompensation</th>\n",
              "      <th>yearsofexperience</th>\n",
              "      <th>yearsatcompany</th>\n",
              "      <th>basesalary</th>\n",
              "      <th>...</th>\n",
              "      <th>Highschool</th>\n",
              "      <th>Some_College</th>\n",
              "      <th>Race_Asian</th>\n",
              "      <th>Race_White</th>\n",
              "      <th>Race_Two_Or_More</th>\n",
              "      <th>Race_Black</th>\n",
              "      <th>Race_Hispanic</th>\n",
              "      <th>Race</th>\n",
              "      <th>Education</th>\n",
              "      <th>rowNumber_y</th>\n",
              "    </tr>\n",
              "  </thead>\n",
              "  <tbody>\n",
              "    <tr>\n",
              "      <th>0</th>\n",
              "      <td>0</td>\n",
              "      <td>A1</td>\n",
              "      <td>2017-06-07 11:33:00</td>\n",
              "      <td>ORACLE</td>\n",
              "      <td>L3</td>\n",
              "      <td>Product Manager</td>\n",
              "      <td>127000</td>\n",
              "      <td>1.5</td>\n",
              "      <td>1.5</td>\n",
              "      <td>107000</td>\n",
              "      <td>...</td>\n",
              "      <td>0</td>\n",
              "      <td>0</td>\n",
              "      <td>0</td>\n",
              "      <td>0</td>\n",
              "      <td>0</td>\n",
              "      <td>0.0</td>\n",
              "      <td>0</td>\n",
              "      <td>Unknown</td>\n",
              "      <td>Unknown</td>\n",
              "      <td>1</td>\n",
              "    </tr>\n",
              "    <tr>\n",
              "      <th>1</th>\n",
              "      <td>1</td>\n",
              "      <td>A2</td>\n",
              "      <td>2017-06-10 17:11:00</td>\n",
              "      <td>EBAY</td>\n",
              "      <td>SE 2</td>\n",
              "      <td>Software Engineer</td>\n",
              "      <td>100000</td>\n",
              "      <td>5.0</td>\n",
              "      <td>3.0</td>\n",
              "      <td>0</td>\n",
              "      <td>...</td>\n",
              "      <td>0</td>\n",
              "      <td>0</td>\n",
              "      <td>0</td>\n",
              "      <td>0</td>\n",
              "      <td>0</td>\n",
              "      <td>0.0</td>\n",
              "      <td>0</td>\n",
              "      <td>Unknown</td>\n",
              "      <td>Unknown</td>\n",
              "      <td>2</td>\n",
              "    </tr>\n",
              "    <tr>\n",
              "      <th>2</th>\n",
              "      <td>2</td>\n",
              "      <td>A3</td>\n",
              "      <td>2017-06-11 14:53:00</td>\n",
              "      <td>AMAZON</td>\n",
              "      <td>L7</td>\n",
              "      <td>Product Manager</td>\n",
              "      <td>310000</td>\n",
              "      <td>8.0</td>\n",
              "      <td>0.0</td>\n",
              "      <td>155000</td>\n",
              "      <td>...</td>\n",
              "      <td>0</td>\n",
              "      <td>0</td>\n",
              "      <td>0</td>\n",
              "      <td>0</td>\n",
              "      <td>0</td>\n",
              "      <td>0.0</td>\n",
              "      <td>0</td>\n",
              "      <td>Unknown</td>\n",
              "      <td>Unknown</td>\n",
              "      <td>3</td>\n",
              "    </tr>\n",
              "    <tr>\n",
              "      <th>3</th>\n",
              "      <td>3</td>\n",
              "      <td>A4</td>\n",
              "      <td>2017-06-17 00:23:00</td>\n",
              "      <td>APPLE</td>\n",
              "      <td>M1</td>\n",
              "      <td>Software Engineering Manager</td>\n",
              "      <td>372000</td>\n",
              "      <td>7.0</td>\n",
              "      <td>5.0</td>\n",
              "      <td>157000</td>\n",
              "      <td>...</td>\n",
              "      <td>0</td>\n",
              "      <td>0</td>\n",
              "      <td>0</td>\n",
              "      <td>0</td>\n",
              "      <td>0</td>\n",
              "      <td>0.0</td>\n",
              "      <td>0</td>\n",
              "      <td>Unknown</td>\n",
              "      <td>Unknown</td>\n",
              "      <td>7</td>\n",
              "    </tr>\n",
              "    <tr>\n",
              "      <th>4</th>\n",
              "      <td>4</td>\n",
              "      <td>A5</td>\n",
              "      <td>2017-06-20 10:58:00</td>\n",
              "      <td>MICROSOFT</td>\n",
              "      <td>60</td>\n",
              "      <td>Software Engineer</td>\n",
              "      <td>157000</td>\n",
              "      <td>5.0</td>\n",
              "      <td>3.0</td>\n",
              "      <td>0</td>\n",
              "      <td>...</td>\n",
              "      <td>0</td>\n",
              "      <td>0</td>\n",
              "      <td>0</td>\n",
              "      <td>0</td>\n",
              "      <td>0</td>\n",
              "      <td>0.0</td>\n",
              "      <td>0</td>\n",
              "      <td>Unknown</td>\n",
              "      <td>Unknown</td>\n",
              "      <td>9</td>\n",
              "    </tr>\n",
              "  </tbody>\n",
              "</table>\n",
              "<p>5 rows × 32 columns</p>\n",
              "</div>\n",
              "      <button class=\"colab-df-convert\" onclick=\"convertToInteractive('df-180c1f35-9210-4808-af7e-facf0ac9d763')\"\n",
              "              title=\"Convert this dataframe to an interactive table.\"\n",
              "              style=\"display:none;\">\n",
              "        \n",
              "  <svg xmlns=\"http://www.w3.org/2000/svg\" height=\"24px\"viewBox=\"0 0 24 24\"\n",
              "       width=\"24px\">\n",
              "    <path d=\"M0 0h24v24H0V0z\" fill=\"none\"/>\n",
              "    <path d=\"M18.56 5.44l.94 2.06.94-2.06 2.06-.94-2.06-.94-.94-2.06-.94 2.06-2.06.94zm-11 1L8.5 8.5l.94-2.06 2.06-.94-2.06-.94L8.5 2.5l-.94 2.06-2.06.94zm10 10l.94 2.06.94-2.06 2.06-.94-2.06-.94-.94-2.06-.94 2.06-2.06.94z\"/><path d=\"M17.41 7.96l-1.37-1.37c-.4-.4-.92-.59-1.43-.59-.52 0-1.04.2-1.43.59L10.3 9.45l-7.72 7.72c-.78.78-.78 2.05 0 2.83L4 21.41c.39.39.9.59 1.41.59.51 0 1.02-.2 1.41-.59l7.78-7.78 2.81-2.81c.8-.78.8-2.07 0-2.86zM5.41 20L4 18.59l7.72-7.72 1.47 1.35L5.41 20z\"/>\n",
              "  </svg>\n",
              "      </button>\n",
              "      \n",
              "  <style>\n",
              "    .colab-df-container {\n",
              "      display:flex;\n",
              "      flex-wrap:wrap;\n",
              "      gap: 12px;\n",
              "    }\n",
              "\n",
              "    .colab-df-convert {\n",
              "      background-color: #E8F0FE;\n",
              "      border: none;\n",
              "      border-radius: 50%;\n",
              "      cursor: pointer;\n",
              "      display: none;\n",
              "      fill: #1967D2;\n",
              "      height: 32px;\n",
              "      padding: 0 0 0 0;\n",
              "      width: 32px;\n",
              "    }\n",
              "\n",
              "    .colab-df-convert:hover {\n",
              "      background-color: #E2EBFA;\n",
              "      box-shadow: 0px 1px 2px rgba(60, 64, 67, 0.3), 0px 1px 3px 1px rgba(60, 64, 67, 0.15);\n",
              "      fill: #174EA6;\n",
              "    }\n",
              "\n",
              "    [theme=dark] .colab-df-convert {\n",
              "      background-color: #3B4455;\n",
              "      fill: #D2E3FC;\n",
              "    }\n",
              "\n",
              "    [theme=dark] .colab-df-convert:hover {\n",
              "      background-color: #434B5C;\n",
              "      box-shadow: 0px 1px 3px 1px rgba(0, 0, 0, 0.15);\n",
              "      filter: drop-shadow(0px 1px 2px rgba(0, 0, 0, 0.3));\n",
              "      fill: #FFFFFF;\n",
              "    }\n",
              "  </style>\n",
              "\n",
              "      <script>\n",
              "        const buttonEl =\n",
              "          document.querySelector('#df-180c1f35-9210-4808-af7e-facf0ac9d763 button.colab-df-convert');\n",
              "        buttonEl.style.display =\n",
              "          google.colab.kernel.accessAllowed ? 'block' : 'none';\n",
              "\n",
              "        async function convertToInteractive(key) {\n",
              "          const element = document.querySelector('#df-180c1f35-9210-4808-af7e-facf0ac9d763');\n",
              "          const dataTable =\n",
              "            await google.colab.kernel.invokeFunction('convertToInteractive',\n",
              "                                                     [key], {});\n",
              "          if (!dataTable) return;\n",
              "\n",
              "          const docLinkHtml = 'Like what you see? Visit the ' +\n",
              "            '<a target=\"_blank\" href=https://colab.research.google.com/notebooks/data_table.ipynb>data table notebook</a>'\n",
              "            + ' to learn more about interactive tables.';\n",
              "          element.innerHTML = '';\n",
              "          dataTable['output_type'] = 'display_data';\n",
              "          await google.colab.output.renderOutput(dataTable, element);\n",
              "          const docLink = document.createElement('div');\n",
              "          docLink.innerHTML = docLinkHtml;\n",
              "          element.appendChild(docLink);\n",
              "        }\n",
              "      </script>\n",
              "    </div>\n",
              "  </div>\n",
              "  "
            ]
          },
          "metadata": {},
          "execution_count": 11
        }
      ]
    },
    {
      "cell_type": "code",
      "source": [
        "# Information about the dataframe\n",
        "salary_df.info()"
      ],
      "metadata": {
        "colab": {
          "base_uri": "https://localhost:8080/"
        },
        "id": "-5Hp67dUl5kL",
        "outputId": "4977c9c4-01df-418a-e2c2-ed0a0cad760e"
      },
      "id": "-5Hp67dUl5kL",
      "execution_count": 12,
      "outputs": [
        {
          "output_type": "stream",
          "name": "stdout",
          "text": [
            "<class 'pandas.core.frame.DataFrame'>\n",
            "Int64Index: 52746 entries, 0 to 52745\n",
            "Data columns (total 32 columns):\n",
            " #   Column                   Non-Null Count  Dtype         \n",
            "---  ------                   --------------  -----         \n",
            " 0   _c0                      52746 non-null  int32         \n",
            " 1   responseid               52746 non-null  object        \n",
            " 2   timestamp                52746 non-null  datetime64[ns]\n",
            " 3   company                  52746 non-null  object        \n",
            " 4   level                    52746 non-null  object        \n",
            " 5   title                    52746 non-null  object        \n",
            " 6   totalyearlycompensation  52746 non-null  int32         \n",
            " 7   yearsofexperience        52746 non-null  float64       \n",
            " 8   yearsatcompany           52746 non-null  float64       \n",
            " 9   basesalary               52746 non-null  int32         \n",
            " 10  stockgrantvalue          52746 non-null  float64       \n",
            " 11  bonus                    52746 non-null  float64       \n",
            " 12  rowNumber_x              52746 non-null  int32         \n",
            " 13  city                     52746 non-null  object        \n",
            " 14  state                    52746 non-null  object        \n",
            " 15  _c02                     52746 non-null  object        \n",
            " 16  time                     52746 non-null  object        \n",
            " 17  gender                   52746 non-null  object        \n",
            " 18  otherdetails             52746 non-null  object        \n",
            " 19  Masters_Degree           52744 non-null  object        \n",
            " 20  Bachelors_Degree         52744 non-null  object        \n",
            " 21  Doctorate_Degree         52744 non-null  object        \n",
            " 22  Highschool               52744 non-null  object        \n",
            " 23  Some_College             52744 non-null  object        \n",
            " 24  Race_Asian               52744 non-null  object        \n",
            " 25  Race_White               52744 non-null  object        \n",
            " 26  Race_Two_Or_More         52744 non-null  object        \n",
            " 27  Race_Black               52744 non-null  float64       \n",
            " 28  Race_Hispanic            52744 non-null  object        \n",
            " 29  Race                     52744 non-null  object        \n",
            " 30  Education                52744 non-null  object        \n",
            " 31  rowNumber_y              52744 non-null  object        \n",
            "dtypes: datetime64[ns](1), float64(5), int32(4), object(22)\n",
            "memory usage: 12.5+ MB\n"
          ]
        }
      ]
    },
    {
      "cell_type": "code",
      "source": [
        "# Export joined table\n",
        "salary_df.to_csv('clean_joined_salary_data.csv', index = False)"
      ],
      "metadata": {
        "id": "26Qvi-8rM7Ba"
      },
      "id": "26Qvi-8rM7Ba",
      "execution_count": 14,
      "outputs": []
    },
    {
      "cell_type": "code",
      "source": [
        "# Create dataframe with only columns relevant for the prediction model\n",
        "ml_df = salary_df[['timestamp','company', 'title','totalyearlycompensation', 'yearsofexperience','basesalary','stockgrantvalue','bonus', 'gender', 'Race', 'Education']]\n",
        "ml_df.head(5)"
      ],
      "metadata": {
        "colab": {
          "base_uri": "https://localhost:8080/",
          "height": 374
        },
        "id": "gnaOqplgl5yx",
        "outputId": "f197e1e3-53f7-4522-8897-4e040870dd89"
      },
      "id": "gnaOqplgl5yx",
      "execution_count": 15,
      "outputs": [
        {
          "output_type": "execute_result",
          "data": {
            "text/plain": [
              "            timestamp    company                         title  \\\n",
              "0 2017-06-07 11:33:00     ORACLE               Product Manager   \n",
              "1 2017-06-10 17:11:00       EBAY             Software Engineer   \n",
              "2 2017-06-11 14:53:00     AMAZON               Product Manager   \n",
              "3 2017-06-17 00:23:00      APPLE  Software Engineering Manager   \n",
              "4 2017-06-20 10:58:00  MICROSOFT             Software Engineer   \n",
              "\n",
              "   totalyearlycompensation  yearsofexperience  basesalary  stockgrantvalue  \\\n",
              "0                   127000                1.5      107000          20000.0   \n",
              "1                   100000                5.0           0              0.0   \n",
              "2                   310000                8.0      155000              0.0   \n",
              "3                   372000                7.0      157000         180000.0   \n",
              "4                   157000                5.0           0              0.0   \n",
              "\n",
              "     bonus   gender     Race Education  \n",
              "0  10000.0  Unknown  Unknown   Unknown  \n",
              "1      0.0  Unknown  Unknown   Unknown  \n",
              "2      0.0  Unknown  Unknown   Unknown  \n",
              "3  35000.0  Unknown  Unknown   Unknown  \n",
              "4      0.0  Unknown  Unknown   Unknown  "
            ],
            "text/html": [
              "\n",
              "  <div id=\"df-3bebc740-e5c3-440e-81d4-fd62e40b7a99\">\n",
              "    <div class=\"colab-df-container\">\n",
              "      <div>\n",
              "<style scoped>\n",
              "    .dataframe tbody tr th:only-of-type {\n",
              "        vertical-align: middle;\n",
              "    }\n",
              "\n",
              "    .dataframe tbody tr th {\n",
              "        vertical-align: top;\n",
              "    }\n",
              "\n",
              "    .dataframe thead th {\n",
              "        text-align: right;\n",
              "    }\n",
              "</style>\n",
              "<table border=\"1\" class=\"dataframe\">\n",
              "  <thead>\n",
              "    <tr style=\"text-align: right;\">\n",
              "      <th></th>\n",
              "      <th>timestamp</th>\n",
              "      <th>company</th>\n",
              "      <th>title</th>\n",
              "      <th>totalyearlycompensation</th>\n",
              "      <th>yearsofexperience</th>\n",
              "      <th>basesalary</th>\n",
              "      <th>stockgrantvalue</th>\n",
              "      <th>bonus</th>\n",
              "      <th>gender</th>\n",
              "      <th>Race</th>\n",
              "      <th>Education</th>\n",
              "    </tr>\n",
              "  </thead>\n",
              "  <tbody>\n",
              "    <tr>\n",
              "      <th>0</th>\n",
              "      <td>2017-06-07 11:33:00</td>\n",
              "      <td>ORACLE</td>\n",
              "      <td>Product Manager</td>\n",
              "      <td>127000</td>\n",
              "      <td>1.5</td>\n",
              "      <td>107000</td>\n",
              "      <td>20000.0</td>\n",
              "      <td>10000.0</td>\n",
              "      <td>Unknown</td>\n",
              "      <td>Unknown</td>\n",
              "      <td>Unknown</td>\n",
              "    </tr>\n",
              "    <tr>\n",
              "      <th>1</th>\n",
              "      <td>2017-06-10 17:11:00</td>\n",
              "      <td>EBAY</td>\n",
              "      <td>Software Engineer</td>\n",
              "      <td>100000</td>\n",
              "      <td>5.0</td>\n",
              "      <td>0</td>\n",
              "      <td>0.0</td>\n",
              "      <td>0.0</td>\n",
              "      <td>Unknown</td>\n",
              "      <td>Unknown</td>\n",
              "      <td>Unknown</td>\n",
              "    </tr>\n",
              "    <tr>\n",
              "      <th>2</th>\n",
              "      <td>2017-06-11 14:53:00</td>\n",
              "      <td>AMAZON</td>\n",
              "      <td>Product Manager</td>\n",
              "      <td>310000</td>\n",
              "      <td>8.0</td>\n",
              "      <td>155000</td>\n",
              "      <td>0.0</td>\n",
              "      <td>0.0</td>\n",
              "      <td>Unknown</td>\n",
              "      <td>Unknown</td>\n",
              "      <td>Unknown</td>\n",
              "    </tr>\n",
              "    <tr>\n",
              "      <th>3</th>\n",
              "      <td>2017-06-17 00:23:00</td>\n",
              "      <td>APPLE</td>\n",
              "      <td>Software Engineering Manager</td>\n",
              "      <td>372000</td>\n",
              "      <td>7.0</td>\n",
              "      <td>157000</td>\n",
              "      <td>180000.0</td>\n",
              "      <td>35000.0</td>\n",
              "      <td>Unknown</td>\n",
              "      <td>Unknown</td>\n",
              "      <td>Unknown</td>\n",
              "    </tr>\n",
              "    <tr>\n",
              "      <th>4</th>\n",
              "      <td>2017-06-20 10:58:00</td>\n",
              "      <td>MICROSOFT</td>\n",
              "      <td>Software Engineer</td>\n",
              "      <td>157000</td>\n",
              "      <td>5.0</td>\n",
              "      <td>0</td>\n",
              "      <td>0.0</td>\n",
              "      <td>0.0</td>\n",
              "      <td>Unknown</td>\n",
              "      <td>Unknown</td>\n",
              "      <td>Unknown</td>\n",
              "    </tr>\n",
              "  </tbody>\n",
              "</table>\n",
              "</div>\n",
              "      <button class=\"colab-df-convert\" onclick=\"convertToInteractive('df-3bebc740-e5c3-440e-81d4-fd62e40b7a99')\"\n",
              "              title=\"Convert this dataframe to an interactive table.\"\n",
              "              style=\"display:none;\">\n",
              "        \n",
              "  <svg xmlns=\"http://www.w3.org/2000/svg\" height=\"24px\"viewBox=\"0 0 24 24\"\n",
              "       width=\"24px\">\n",
              "    <path d=\"M0 0h24v24H0V0z\" fill=\"none\"/>\n",
              "    <path d=\"M18.56 5.44l.94 2.06.94-2.06 2.06-.94-2.06-.94-.94-2.06-.94 2.06-2.06.94zm-11 1L8.5 8.5l.94-2.06 2.06-.94-2.06-.94L8.5 2.5l-.94 2.06-2.06.94zm10 10l.94 2.06.94-2.06 2.06-.94-2.06-.94-.94-2.06-.94 2.06-2.06.94z\"/><path d=\"M17.41 7.96l-1.37-1.37c-.4-.4-.92-.59-1.43-.59-.52 0-1.04.2-1.43.59L10.3 9.45l-7.72 7.72c-.78.78-.78 2.05 0 2.83L4 21.41c.39.39.9.59 1.41.59.51 0 1.02-.2 1.41-.59l7.78-7.78 2.81-2.81c.8-.78.8-2.07 0-2.86zM5.41 20L4 18.59l7.72-7.72 1.47 1.35L5.41 20z\"/>\n",
              "  </svg>\n",
              "      </button>\n",
              "      \n",
              "  <style>\n",
              "    .colab-df-container {\n",
              "      display:flex;\n",
              "      flex-wrap:wrap;\n",
              "      gap: 12px;\n",
              "    }\n",
              "\n",
              "    .colab-df-convert {\n",
              "      background-color: #E8F0FE;\n",
              "      border: none;\n",
              "      border-radius: 50%;\n",
              "      cursor: pointer;\n",
              "      display: none;\n",
              "      fill: #1967D2;\n",
              "      height: 32px;\n",
              "      padding: 0 0 0 0;\n",
              "      width: 32px;\n",
              "    }\n",
              "\n",
              "    .colab-df-convert:hover {\n",
              "      background-color: #E2EBFA;\n",
              "      box-shadow: 0px 1px 2px rgba(60, 64, 67, 0.3), 0px 1px 3px 1px rgba(60, 64, 67, 0.15);\n",
              "      fill: #174EA6;\n",
              "    }\n",
              "\n",
              "    [theme=dark] .colab-df-convert {\n",
              "      background-color: #3B4455;\n",
              "      fill: #D2E3FC;\n",
              "    }\n",
              "\n",
              "    [theme=dark] .colab-df-convert:hover {\n",
              "      background-color: #434B5C;\n",
              "      box-shadow: 0px 1px 3px 1px rgba(0, 0, 0, 0.15);\n",
              "      filter: drop-shadow(0px 1px 2px rgba(0, 0, 0, 0.3));\n",
              "      fill: #FFFFFF;\n",
              "    }\n",
              "  </style>\n",
              "\n",
              "      <script>\n",
              "        const buttonEl =\n",
              "          document.querySelector('#df-3bebc740-e5c3-440e-81d4-fd62e40b7a99 button.colab-df-convert');\n",
              "        buttonEl.style.display =\n",
              "          google.colab.kernel.accessAllowed ? 'block' : 'none';\n",
              "\n",
              "        async function convertToInteractive(key) {\n",
              "          const element = document.querySelector('#df-3bebc740-e5c3-440e-81d4-fd62e40b7a99');\n",
              "          const dataTable =\n",
              "            await google.colab.kernel.invokeFunction('convertToInteractive',\n",
              "                                                     [key], {});\n",
              "          if (!dataTable) return;\n",
              "\n",
              "          const docLinkHtml = 'Like what you see? Visit the ' +\n",
              "            '<a target=\"_blank\" href=https://colab.research.google.com/notebooks/data_table.ipynb>data table notebook</a>'\n",
              "            + ' to learn more about interactive tables.';\n",
              "          element.innerHTML = '';\n",
              "          dataTable['output_type'] = 'display_data';\n",
              "          await google.colab.output.renderOutput(dataTable, element);\n",
              "          const docLink = document.createElement('div');\n",
              "          docLink.innerHTML = docLinkHtml;\n",
              "          element.appendChild(docLink);\n",
              "        }\n",
              "      </script>\n",
              "    </div>\n",
              "  </div>\n",
              "  "
            ]
          },
          "metadata": {},
          "execution_count": 15
        }
      ]
    },
    {
      "cell_type": "code",
      "source": [
        "# Look for missing values\n",
        "ml_df.isna().sum()"
      ],
      "metadata": {
        "colab": {
          "base_uri": "https://localhost:8080/"
        },
        "id": "obcgYZsVl59t",
        "outputId": "13cd7ec3-b844-4da1-ca82-ee2a15a0b2f7"
      },
      "id": "obcgYZsVl59t",
      "execution_count": 16,
      "outputs": [
        {
          "output_type": "execute_result",
          "data": {
            "text/plain": [
              "timestamp                  0\n",
              "company                    0\n",
              "title                      0\n",
              "totalyearlycompensation    0\n",
              "yearsofexperience          0\n",
              "basesalary                 0\n",
              "stockgrantvalue            0\n",
              "bonus                      0\n",
              "gender                     0\n",
              "Race                       2\n",
              "Education                  2\n",
              "dtype: int64"
            ]
          },
          "metadata": {},
          "execution_count": 16
        }
      ]
    },
    {
      "cell_type": "code",
      "source": [
        "# Add a Year  and quarter column and from timestamp column\n",
        "ml_df['yearposted'] = pd.DatetimeIndex(ml_df['timestamp']).year\n",
        "ml_df['yearquarter'] = ml_df['timestamp'].dt.to_period(\"Q\").astype('str')\n",
        "ml_df = ml_df.drop(['timestamp'], axis = 1)\n",
        "ml_df.head(5)"
      ],
      "metadata": {
        "colab": {
          "base_uri": "https://localhost:8080/",
          "height": 589
        },
        "id": "6Jbge44Q1aUp",
        "outputId": "2879fbdb-e9b3-41d7-d09c-fd343441e3b4"
      },
      "id": "6Jbge44Q1aUp",
      "execution_count": 17,
      "outputs": [
        {
          "output_type": "stream",
          "name": "stderr",
          "text": [
            "/usr/local/lib/python3.7/dist-packages/ipykernel_launcher.py:2: SettingWithCopyWarning: \n",
            "A value is trying to be set on a copy of a slice from a DataFrame.\n",
            "Try using .loc[row_indexer,col_indexer] = value instead\n",
            "\n",
            "See the caveats in the documentation: https://pandas.pydata.org/pandas-docs/stable/user_guide/indexing.html#returning-a-view-versus-a-copy\n",
            "  \n",
            "/usr/local/lib/python3.7/dist-packages/ipykernel_launcher.py:3: SettingWithCopyWarning: \n",
            "A value is trying to be set on a copy of a slice from a DataFrame.\n",
            "Try using .loc[row_indexer,col_indexer] = value instead\n",
            "\n",
            "See the caveats in the documentation: https://pandas.pydata.org/pandas-docs/stable/user_guide/indexing.html#returning-a-view-versus-a-copy\n",
            "  This is separate from the ipykernel package so we can avoid doing imports until\n"
          ]
        },
        {
          "output_type": "execute_result",
          "data": {
            "text/plain": [
              "     company                         title  totalyearlycompensation  \\\n",
              "0     ORACLE               Product Manager                   127000   \n",
              "1       EBAY             Software Engineer                   100000   \n",
              "2     AMAZON               Product Manager                   310000   \n",
              "3      APPLE  Software Engineering Manager                   372000   \n",
              "4  MICROSOFT             Software Engineer                   157000   \n",
              "\n",
              "   yearsofexperience  basesalary  stockgrantvalue    bonus   gender     Race  \\\n",
              "0                1.5      107000          20000.0  10000.0  Unknown  Unknown   \n",
              "1                5.0           0              0.0      0.0  Unknown  Unknown   \n",
              "2                8.0      155000              0.0      0.0  Unknown  Unknown   \n",
              "3                7.0      157000         180000.0  35000.0  Unknown  Unknown   \n",
              "4                5.0           0              0.0      0.0  Unknown  Unknown   \n",
              "\n",
              "  Education  yearposted yearquarter  \n",
              "0   Unknown        2017      2017Q2  \n",
              "1   Unknown        2017      2017Q2  \n",
              "2   Unknown        2017      2017Q2  \n",
              "3   Unknown        2017      2017Q2  \n",
              "4   Unknown        2017      2017Q2  "
            ],
            "text/html": [
              "\n",
              "  <div id=\"df-d5374711-1ffb-45a8-86ae-ecdfeafd6c18\">\n",
              "    <div class=\"colab-df-container\">\n",
              "      <div>\n",
              "<style scoped>\n",
              "    .dataframe tbody tr th:only-of-type {\n",
              "        vertical-align: middle;\n",
              "    }\n",
              "\n",
              "    .dataframe tbody tr th {\n",
              "        vertical-align: top;\n",
              "    }\n",
              "\n",
              "    .dataframe thead th {\n",
              "        text-align: right;\n",
              "    }\n",
              "</style>\n",
              "<table border=\"1\" class=\"dataframe\">\n",
              "  <thead>\n",
              "    <tr style=\"text-align: right;\">\n",
              "      <th></th>\n",
              "      <th>company</th>\n",
              "      <th>title</th>\n",
              "      <th>totalyearlycompensation</th>\n",
              "      <th>yearsofexperience</th>\n",
              "      <th>basesalary</th>\n",
              "      <th>stockgrantvalue</th>\n",
              "      <th>bonus</th>\n",
              "      <th>gender</th>\n",
              "      <th>Race</th>\n",
              "      <th>Education</th>\n",
              "      <th>yearposted</th>\n",
              "      <th>yearquarter</th>\n",
              "    </tr>\n",
              "  </thead>\n",
              "  <tbody>\n",
              "    <tr>\n",
              "      <th>0</th>\n",
              "      <td>ORACLE</td>\n",
              "      <td>Product Manager</td>\n",
              "      <td>127000</td>\n",
              "      <td>1.5</td>\n",
              "      <td>107000</td>\n",
              "      <td>20000.0</td>\n",
              "      <td>10000.0</td>\n",
              "      <td>Unknown</td>\n",
              "      <td>Unknown</td>\n",
              "      <td>Unknown</td>\n",
              "      <td>2017</td>\n",
              "      <td>2017Q2</td>\n",
              "    </tr>\n",
              "    <tr>\n",
              "      <th>1</th>\n",
              "      <td>EBAY</td>\n",
              "      <td>Software Engineer</td>\n",
              "      <td>100000</td>\n",
              "      <td>5.0</td>\n",
              "      <td>0</td>\n",
              "      <td>0.0</td>\n",
              "      <td>0.0</td>\n",
              "      <td>Unknown</td>\n",
              "      <td>Unknown</td>\n",
              "      <td>Unknown</td>\n",
              "      <td>2017</td>\n",
              "      <td>2017Q2</td>\n",
              "    </tr>\n",
              "    <tr>\n",
              "      <th>2</th>\n",
              "      <td>AMAZON</td>\n",
              "      <td>Product Manager</td>\n",
              "      <td>310000</td>\n",
              "      <td>8.0</td>\n",
              "      <td>155000</td>\n",
              "      <td>0.0</td>\n",
              "      <td>0.0</td>\n",
              "      <td>Unknown</td>\n",
              "      <td>Unknown</td>\n",
              "      <td>Unknown</td>\n",
              "      <td>2017</td>\n",
              "      <td>2017Q2</td>\n",
              "    </tr>\n",
              "    <tr>\n",
              "      <th>3</th>\n",
              "      <td>APPLE</td>\n",
              "      <td>Software Engineering Manager</td>\n",
              "      <td>372000</td>\n",
              "      <td>7.0</td>\n",
              "      <td>157000</td>\n",
              "      <td>180000.0</td>\n",
              "      <td>35000.0</td>\n",
              "      <td>Unknown</td>\n",
              "      <td>Unknown</td>\n",
              "      <td>Unknown</td>\n",
              "      <td>2017</td>\n",
              "      <td>2017Q2</td>\n",
              "    </tr>\n",
              "    <tr>\n",
              "      <th>4</th>\n",
              "      <td>MICROSOFT</td>\n",
              "      <td>Software Engineer</td>\n",
              "      <td>157000</td>\n",
              "      <td>5.0</td>\n",
              "      <td>0</td>\n",
              "      <td>0.0</td>\n",
              "      <td>0.0</td>\n",
              "      <td>Unknown</td>\n",
              "      <td>Unknown</td>\n",
              "      <td>Unknown</td>\n",
              "      <td>2017</td>\n",
              "      <td>2017Q2</td>\n",
              "    </tr>\n",
              "  </tbody>\n",
              "</table>\n",
              "</div>\n",
              "      <button class=\"colab-df-convert\" onclick=\"convertToInteractive('df-d5374711-1ffb-45a8-86ae-ecdfeafd6c18')\"\n",
              "              title=\"Convert this dataframe to an interactive table.\"\n",
              "              style=\"display:none;\">\n",
              "        \n",
              "  <svg xmlns=\"http://www.w3.org/2000/svg\" height=\"24px\"viewBox=\"0 0 24 24\"\n",
              "       width=\"24px\">\n",
              "    <path d=\"M0 0h24v24H0V0z\" fill=\"none\"/>\n",
              "    <path d=\"M18.56 5.44l.94 2.06.94-2.06 2.06-.94-2.06-.94-.94-2.06-.94 2.06-2.06.94zm-11 1L8.5 8.5l.94-2.06 2.06-.94-2.06-.94L8.5 2.5l-.94 2.06-2.06.94zm10 10l.94 2.06.94-2.06 2.06-.94-2.06-.94-.94-2.06-.94 2.06-2.06.94z\"/><path d=\"M17.41 7.96l-1.37-1.37c-.4-.4-.92-.59-1.43-.59-.52 0-1.04.2-1.43.59L10.3 9.45l-7.72 7.72c-.78.78-.78 2.05 0 2.83L4 21.41c.39.39.9.59 1.41.59.51 0 1.02-.2 1.41-.59l7.78-7.78 2.81-2.81c.8-.78.8-2.07 0-2.86zM5.41 20L4 18.59l7.72-7.72 1.47 1.35L5.41 20z\"/>\n",
              "  </svg>\n",
              "      </button>\n",
              "      \n",
              "  <style>\n",
              "    .colab-df-container {\n",
              "      display:flex;\n",
              "      flex-wrap:wrap;\n",
              "      gap: 12px;\n",
              "    }\n",
              "\n",
              "    .colab-df-convert {\n",
              "      background-color: #E8F0FE;\n",
              "      border: none;\n",
              "      border-radius: 50%;\n",
              "      cursor: pointer;\n",
              "      display: none;\n",
              "      fill: #1967D2;\n",
              "      height: 32px;\n",
              "      padding: 0 0 0 0;\n",
              "      width: 32px;\n",
              "    }\n",
              "\n",
              "    .colab-df-convert:hover {\n",
              "      background-color: #E2EBFA;\n",
              "      box-shadow: 0px 1px 2px rgba(60, 64, 67, 0.3), 0px 1px 3px 1px rgba(60, 64, 67, 0.15);\n",
              "      fill: #174EA6;\n",
              "    }\n",
              "\n",
              "    [theme=dark] .colab-df-convert {\n",
              "      background-color: #3B4455;\n",
              "      fill: #D2E3FC;\n",
              "    }\n",
              "\n",
              "    [theme=dark] .colab-df-convert:hover {\n",
              "      background-color: #434B5C;\n",
              "      box-shadow: 0px 1px 3px 1px rgba(0, 0, 0, 0.15);\n",
              "      filter: drop-shadow(0px 1px 2px rgba(0, 0, 0, 0.3));\n",
              "      fill: #FFFFFF;\n",
              "    }\n",
              "  </style>\n",
              "\n",
              "      <script>\n",
              "        const buttonEl =\n",
              "          document.querySelector('#df-d5374711-1ffb-45a8-86ae-ecdfeafd6c18 button.colab-df-convert');\n",
              "        buttonEl.style.display =\n",
              "          google.colab.kernel.accessAllowed ? 'block' : 'none';\n",
              "\n",
              "        async function convertToInteractive(key) {\n",
              "          const element = document.querySelector('#df-d5374711-1ffb-45a8-86ae-ecdfeafd6c18');\n",
              "          const dataTable =\n",
              "            await google.colab.kernel.invokeFunction('convertToInteractive',\n",
              "                                                     [key], {});\n",
              "          if (!dataTable) return;\n",
              "\n",
              "          const docLinkHtml = 'Like what you see? Visit the ' +\n",
              "            '<a target=\"_blank\" href=https://colab.research.google.com/notebooks/data_table.ipynb>data table notebook</a>'\n",
              "            + ' to learn more about interactive tables.';\n",
              "          element.innerHTML = '';\n",
              "          dataTable['output_type'] = 'display_data';\n",
              "          await google.colab.output.renderOutput(dataTable, element);\n",
              "          const docLink = document.createElement('div');\n",
              "          docLink.innerHTML = docLinkHtml;\n",
              "          element.appendChild(docLink);\n",
              "        }\n",
              "      </script>\n",
              "    </div>\n",
              "  </div>\n",
              "  "
            ]
          },
          "metadata": {},
          "execution_count": 17
        }
      ]
    },
    {
      "cell_type": "markdown",
      "source": [
        "## Remove rows where base salary equals $0"
      ],
      "metadata": {
        "id": "kAJqM11DI338"
      },
      "id": "kAJqM11DI338"
    },
    {
      "cell_type": "code",
      "source": [
        "ml_df = ml_df.loc[ml_df['basesalary'] > 0]"
      ],
      "metadata": {
        "id": "Pq9cn-nJI9_x"
      },
      "id": "Pq9cn-nJI9_x",
      "execution_count": 18,
      "outputs": []
    },
    {
      "cell_type": "code",
      "source": [
        "ml_df.head()"
      ],
      "metadata": {
        "colab": {
          "base_uri": "https://localhost:8080/",
          "height": 392
        },
        "id": "56gKKAhYI1ta",
        "outputId": "ac1714cd-c3f2-4dad-dd3a-ec869fe67de7"
      },
      "id": "56gKKAhYI1ta",
      "execution_count": 19,
      "outputs": [
        {
          "output_type": "execute_result",
          "data": {
            "text/plain": [
              "     company                         title  totalyearlycompensation  \\\n",
              "0     ORACLE               Product Manager                   127000   \n",
              "2     AMAZON               Product Manager                   310000   \n",
              "3      APPLE  Software Engineering Manager                   372000   \n",
              "6  MICROSOFT  Software Engineering Manager                   300000   \n",
              "7  MICROSOFT             Software Engineer                   156000   \n",
              "\n",
              "   yearsofexperience  basesalary  stockgrantvalue    bonus   gender     Race  \\\n",
              "0                1.5      107000          20000.0  10000.0  Unknown  Unknown   \n",
              "2                8.0      155000              0.0      0.0  Unknown  Unknown   \n",
              "3                7.0      157000         180000.0  35000.0  Unknown  Unknown   \n",
              "6               15.0      180000          65000.0  55000.0  Unknown  Unknown   \n",
              "7                4.0      135000           8000.0  13000.0  Unknown  Unknown   \n",
              "\n",
              "  Education  yearposted yearquarter  \n",
              "0   Unknown        2017      2017Q2  \n",
              "2   Unknown        2017      2017Q2  \n",
              "3   Unknown        2017      2017Q2  \n",
              "6   Unknown        2017      2017Q2  \n",
              "7   Unknown        2017      2017Q2  "
            ],
            "text/html": [
              "\n",
              "  <div id=\"df-71f79db7-9d1a-4d49-a688-c7ba9bfd4461\">\n",
              "    <div class=\"colab-df-container\">\n",
              "      <div>\n",
              "<style scoped>\n",
              "    .dataframe tbody tr th:only-of-type {\n",
              "        vertical-align: middle;\n",
              "    }\n",
              "\n",
              "    .dataframe tbody tr th {\n",
              "        vertical-align: top;\n",
              "    }\n",
              "\n",
              "    .dataframe thead th {\n",
              "        text-align: right;\n",
              "    }\n",
              "</style>\n",
              "<table border=\"1\" class=\"dataframe\">\n",
              "  <thead>\n",
              "    <tr style=\"text-align: right;\">\n",
              "      <th></th>\n",
              "      <th>company</th>\n",
              "      <th>title</th>\n",
              "      <th>totalyearlycompensation</th>\n",
              "      <th>yearsofexperience</th>\n",
              "      <th>basesalary</th>\n",
              "      <th>stockgrantvalue</th>\n",
              "      <th>bonus</th>\n",
              "      <th>gender</th>\n",
              "      <th>Race</th>\n",
              "      <th>Education</th>\n",
              "      <th>yearposted</th>\n",
              "      <th>yearquarter</th>\n",
              "    </tr>\n",
              "  </thead>\n",
              "  <tbody>\n",
              "    <tr>\n",
              "      <th>0</th>\n",
              "      <td>ORACLE</td>\n",
              "      <td>Product Manager</td>\n",
              "      <td>127000</td>\n",
              "      <td>1.5</td>\n",
              "      <td>107000</td>\n",
              "      <td>20000.0</td>\n",
              "      <td>10000.0</td>\n",
              "      <td>Unknown</td>\n",
              "      <td>Unknown</td>\n",
              "      <td>Unknown</td>\n",
              "      <td>2017</td>\n",
              "      <td>2017Q2</td>\n",
              "    </tr>\n",
              "    <tr>\n",
              "      <th>2</th>\n",
              "      <td>AMAZON</td>\n",
              "      <td>Product Manager</td>\n",
              "      <td>310000</td>\n",
              "      <td>8.0</td>\n",
              "      <td>155000</td>\n",
              "      <td>0.0</td>\n",
              "      <td>0.0</td>\n",
              "      <td>Unknown</td>\n",
              "      <td>Unknown</td>\n",
              "      <td>Unknown</td>\n",
              "      <td>2017</td>\n",
              "      <td>2017Q2</td>\n",
              "    </tr>\n",
              "    <tr>\n",
              "      <th>3</th>\n",
              "      <td>APPLE</td>\n",
              "      <td>Software Engineering Manager</td>\n",
              "      <td>372000</td>\n",
              "      <td>7.0</td>\n",
              "      <td>157000</td>\n",
              "      <td>180000.0</td>\n",
              "      <td>35000.0</td>\n",
              "      <td>Unknown</td>\n",
              "      <td>Unknown</td>\n",
              "      <td>Unknown</td>\n",
              "      <td>2017</td>\n",
              "      <td>2017Q2</td>\n",
              "    </tr>\n",
              "    <tr>\n",
              "      <th>6</th>\n",
              "      <td>MICROSOFT</td>\n",
              "      <td>Software Engineering Manager</td>\n",
              "      <td>300000</td>\n",
              "      <td>15.0</td>\n",
              "      <td>180000</td>\n",
              "      <td>65000.0</td>\n",
              "      <td>55000.0</td>\n",
              "      <td>Unknown</td>\n",
              "      <td>Unknown</td>\n",
              "      <td>Unknown</td>\n",
              "      <td>2017</td>\n",
              "      <td>2017Q2</td>\n",
              "    </tr>\n",
              "    <tr>\n",
              "      <th>7</th>\n",
              "      <td>MICROSOFT</td>\n",
              "      <td>Software Engineer</td>\n",
              "      <td>156000</td>\n",
              "      <td>4.0</td>\n",
              "      <td>135000</td>\n",
              "      <td>8000.0</td>\n",
              "      <td>13000.0</td>\n",
              "      <td>Unknown</td>\n",
              "      <td>Unknown</td>\n",
              "      <td>Unknown</td>\n",
              "      <td>2017</td>\n",
              "      <td>2017Q2</td>\n",
              "    </tr>\n",
              "  </tbody>\n",
              "</table>\n",
              "</div>\n",
              "      <button class=\"colab-df-convert\" onclick=\"convertToInteractive('df-71f79db7-9d1a-4d49-a688-c7ba9bfd4461')\"\n",
              "              title=\"Convert this dataframe to an interactive table.\"\n",
              "              style=\"display:none;\">\n",
              "        \n",
              "  <svg xmlns=\"http://www.w3.org/2000/svg\" height=\"24px\"viewBox=\"0 0 24 24\"\n",
              "       width=\"24px\">\n",
              "    <path d=\"M0 0h24v24H0V0z\" fill=\"none\"/>\n",
              "    <path d=\"M18.56 5.44l.94 2.06.94-2.06 2.06-.94-2.06-.94-.94-2.06-.94 2.06-2.06.94zm-11 1L8.5 8.5l.94-2.06 2.06-.94-2.06-.94L8.5 2.5l-.94 2.06-2.06.94zm10 10l.94 2.06.94-2.06 2.06-.94-2.06-.94-.94-2.06-.94 2.06-2.06.94z\"/><path d=\"M17.41 7.96l-1.37-1.37c-.4-.4-.92-.59-1.43-.59-.52 0-1.04.2-1.43.59L10.3 9.45l-7.72 7.72c-.78.78-.78 2.05 0 2.83L4 21.41c.39.39.9.59 1.41.59.51 0 1.02-.2 1.41-.59l7.78-7.78 2.81-2.81c.8-.78.8-2.07 0-2.86zM5.41 20L4 18.59l7.72-7.72 1.47 1.35L5.41 20z\"/>\n",
              "  </svg>\n",
              "      </button>\n",
              "      \n",
              "  <style>\n",
              "    .colab-df-container {\n",
              "      display:flex;\n",
              "      flex-wrap:wrap;\n",
              "      gap: 12px;\n",
              "    }\n",
              "\n",
              "    .colab-df-convert {\n",
              "      background-color: #E8F0FE;\n",
              "      border: none;\n",
              "      border-radius: 50%;\n",
              "      cursor: pointer;\n",
              "      display: none;\n",
              "      fill: #1967D2;\n",
              "      height: 32px;\n",
              "      padding: 0 0 0 0;\n",
              "      width: 32px;\n",
              "    }\n",
              "\n",
              "    .colab-df-convert:hover {\n",
              "      background-color: #E2EBFA;\n",
              "      box-shadow: 0px 1px 2px rgba(60, 64, 67, 0.3), 0px 1px 3px 1px rgba(60, 64, 67, 0.15);\n",
              "      fill: #174EA6;\n",
              "    }\n",
              "\n",
              "    [theme=dark] .colab-df-convert {\n",
              "      background-color: #3B4455;\n",
              "      fill: #D2E3FC;\n",
              "    }\n",
              "\n",
              "    [theme=dark] .colab-df-convert:hover {\n",
              "      background-color: #434B5C;\n",
              "      box-shadow: 0px 1px 3px 1px rgba(0, 0, 0, 0.15);\n",
              "      filter: drop-shadow(0px 1px 2px rgba(0, 0, 0, 0.3));\n",
              "      fill: #FFFFFF;\n",
              "    }\n",
              "  </style>\n",
              "\n",
              "      <script>\n",
              "        const buttonEl =\n",
              "          document.querySelector('#df-71f79db7-9d1a-4d49-a688-c7ba9bfd4461 button.colab-df-convert');\n",
              "        buttonEl.style.display =\n",
              "          google.colab.kernel.accessAllowed ? 'block' : 'none';\n",
              "\n",
              "        async function convertToInteractive(key) {\n",
              "          const element = document.querySelector('#df-71f79db7-9d1a-4d49-a688-c7ba9bfd4461');\n",
              "          const dataTable =\n",
              "            await google.colab.kernel.invokeFunction('convertToInteractive',\n",
              "                                                     [key], {});\n",
              "          if (!dataTable) return;\n",
              "\n",
              "          const docLinkHtml = 'Like what you see? Visit the ' +\n",
              "            '<a target=\"_blank\" href=https://colab.research.google.com/notebooks/data_table.ipynb>data table notebook</a>'\n",
              "            + ' to learn more about interactive tables.';\n",
              "          element.innerHTML = '';\n",
              "          dataTable['output_type'] = 'display_data';\n",
              "          await google.colab.output.renderOutput(dataTable, element);\n",
              "          const docLink = document.createElement('div');\n",
              "          docLink.innerHTML = docLinkHtml;\n",
              "          element.appendChild(docLink);\n",
              "        }\n",
              "      </script>\n",
              "    </div>\n",
              "  </div>\n",
              "  "
            ]
          },
          "metadata": {},
          "execution_count": 19
        }
      ]
    },
    {
      "cell_type": "code",
      "source": [
        "# # Export joined table\n",
        "from pathlib import Path\n",
        "\n",
        "if not Path(\"./Resources\").exists():\n",
        "  print(\"doesn't exist\")\n",
        "  Path(\"./Resources\").mkdir(exist_ok=True)\n",
        "\n",
        "ml_df.to_csv('clean_joinced_salary_data.csv', index = False)"
      ],
      "metadata": {
        "id": "yiPIEzxQRoZ3"
      },
      "id": "yiPIEzxQRoZ3",
      "execution_count": 20,
      "outputs": []
    },
    {
      "cell_type": "markdown",
      "source": [
        "### Job Title Column"
      ],
      "metadata": {
        "id": "Jd-6VrQRv4KU"
      },
      "id": "Jd-6VrQRv4KU"
    },
    {
      "cell_type": "code",
      "source": [
        "ml_df['title']"
      ],
      "metadata": {
        "colab": {
          "base_uri": "https://localhost:8080/"
        },
        "id": "cPzxgfSIv6NQ",
        "outputId": "5ec7cf80-ede9-4668-86c2-369a7088bfd5"
      },
      "id": "cPzxgfSIv6NQ",
      "execution_count": 21,
      "outputs": [
        {
          "output_type": "execute_result",
          "data": {
            "text/plain": [
              "0                     Product Manager\n",
              "2                     Product Manager\n",
              "3        Software Engineering Manager\n",
              "6        Software Engineering Manager\n",
              "7                   Software Engineer\n",
              "                     ...             \n",
              "52741               Software Engineer\n",
              "52742               Software Engineer\n",
              "52743               Software Engineer\n",
              "52744               Software Engineer\n",
              "52745               Software Engineer\n",
              "Name: title, Length: 50690, dtype: object"
            ]
          },
          "metadata": {},
          "execution_count": 21
        }
      ]
    },
    {
      "cell_type": "code",
      "source": [
        "# Filter to only jobs related to Data Scientist and Analyst\n",
        "ml_df = ml_df[(ml_df.title == \"Data Scientist\") | (ml_df.title == 'Business Analyst')]\n",
        "ml_df.head()\n"
      ],
      "metadata": {
        "colab": {
          "base_uri": "https://localhost:8080/",
          "height": 357
        },
        "id": "V6ynhgIPwOHo",
        "outputId": "c307f1f5-8dde-486e-8ecc-7ffdd248ce17"
      },
      "id": "V6ynhgIPwOHo",
      "execution_count": 22,
      "outputs": [
        {
          "output_type": "execute_result",
          "data": {
            "text/plain": [
              "       company           title  totalyearlycompensation  yearsofexperience  \\\n",
              "399   LINKEDIN  Data Scientist                   233000                4.0   \n",
              "420  MICROSOFT  Data Scientist                   218000               11.0   \n",
              "432    TWITTER  Data Scientist                   500000                4.0   \n",
              "466   FACEBOOK  Data Scientist                   370000                8.0   \n",
              "470     AMAZON  Data Scientist                   200000                3.0   \n",
              "\n",
              "     basesalary  stockgrantvalue    bonus gender     Race Education  \\\n",
              "399      162000         220000.0  10000.0   Male  Unknown   Unknown   \n",
              "420      165000          28000.0  23000.0   Male  Unknown   Unknown   \n",
              "432      200000         280000.0  20000.0   Male  Unknown   Unknown   \n",
              "466      190000         140000.0  40000.0   Male  Unknown   Unknown   \n",
              "470      150000         105000.0  81000.0   Male  Unknown   Unknown   \n",
              "\n",
              "     yearposted yearquarter  \n",
              "399        2018      2018Q2  \n",
              "420        2018      2018Q2  \n",
              "432        2018      2018Q2  \n",
              "466        2018      2018Q2  \n",
              "470        2018      2018Q2  "
            ],
            "text/html": [
              "\n",
              "  <div id=\"df-eda1d2ef-d8a2-48c1-9bff-125d162ffd6f\">\n",
              "    <div class=\"colab-df-container\">\n",
              "      <div>\n",
              "<style scoped>\n",
              "    .dataframe tbody tr th:only-of-type {\n",
              "        vertical-align: middle;\n",
              "    }\n",
              "\n",
              "    .dataframe tbody tr th {\n",
              "        vertical-align: top;\n",
              "    }\n",
              "\n",
              "    .dataframe thead th {\n",
              "        text-align: right;\n",
              "    }\n",
              "</style>\n",
              "<table border=\"1\" class=\"dataframe\">\n",
              "  <thead>\n",
              "    <tr style=\"text-align: right;\">\n",
              "      <th></th>\n",
              "      <th>company</th>\n",
              "      <th>title</th>\n",
              "      <th>totalyearlycompensation</th>\n",
              "      <th>yearsofexperience</th>\n",
              "      <th>basesalary</th>\n",
              "      <th>stockgrantvalue</th>\n",
              "      <th>bonus</th>\n",
              "      <th>gender</th>\n",
              "      <th>Race</th>\n",
              "      <th>Education</th>\n",
              "      <th>yearposted</th>\n",
              "      <th>yearquarter</th>\n",
              "    </tr>\n",
              "  </thead>\n",
              "  <tbody>\n",
              "    <tr>\n",
              "      <th>399</th>\n",
              "      <td>LINKEDIN</td>\n",
              "      <td>Data Scientist</td>\n",
              "      <td>233000</td>\n",
              "      <td>4.0</td>\n",
              "      <td>162000</td>\n",
              "      <td>220000.0</td>\n",
              "      <td>10000.0</td>\n",
              "      <td>Male</td>\n",
              "      <td>Unknown</td>\n",
              "      <td>Unknown</td>\n",
              "      <td>2018</td>\n",
              "      <td>2018Q2</td>\n",
              "    </tr>\n",
              "    <tr>\n",
              "      <th>420</th>\n",
              "      <td>MICROSOFT</td>\n",
              "      <td>Data Scientist</td>\n",
              "      <td>218000</td>\n",
              "      <td>11.0</td>\n",
              "      <td>165000</td>\n",
              "      <td>28000.0</td>\n",
              "      <td>23000.0</td>\n",
              "      <td>Male</td>\n",
              "      <td>Unknown</td>\n",
              "      <td>Unknown</td>\n",
              "      <td>2018</td>\n",
              "      <td>2018Q2</td>\n",
              "    </tr>\n",
              "    <tr>\n",
              "      <th>432</th>\n",
              "      <td>TWITTER</td>\n",
              "      <td>Data Scientist</td>\n",
              "      <td>500000</td>\n",
              "      <td>4.0</td>\n",
              "      <td>200000</td>\n",
              "      <td>280000.0</td>\n",
              "      <td>20000.0</td>\n",
              "      <td>Male</td>\n",
              "      <td>Unknown</td>\n",
              "      <td>Unknown</td>\n",
              "      <td>2018</td>\n",
              "      <td>2018Q2</td>\n",
              "    </tr>\n",
              "    <tr>\n",
              "      <th>466</th>\n",
              "      <td>FACEBOOK</td>\n",
              "      <td>Data Scientist</td>\n",
              "      <td>370000</td>\n",
              "      <td>8.0</td>\n",
              "      <td>190000</td>\n",
              "      <td>140000.0</td>\n",
              "      <td>40000.0</td>\n",
              "      <td>Male</td>\n",
              "      <td>Unknown</td>\n",
              "      <td>Unknown</td>\n",
              "      <td>2018</td>\n",
              "      <td>2018Q2</td>\n",
              "    </tr>\n",
              "    <tr>\n",
              "      <th>470</th>\n",
              "      <td>AMAZON</td>\n",
              "      <td>Data Scientist</td>\n",
              "      <td>200000</td>\n",
              "      <td>3.0</td>\n",
              "      <td>150000</td>\n",
              "      <td>105000.0</td>\n",
              "      <td>81000.0</td>\n",
              "      <td>Male</td>\n",
              "      <td>Unknown</td>\n",
              "      <td>Unknown</td>\n",
              "      <td>2018</td>\n",
              "      <td>2018Q2</td>\n",
              "    </tr>\n",
              "  </tbody>\n",
              "</table>\n",
              "</div>\n",
              "      <button class=\"colab-df-convert\" onclick=\"convertToInteractive('df-eda1d2ef-d8a2-48c1-9bff-125d162ffd6f')\"\n",
              "              title=\"Convert this dataframe to an interactive table.\"\n",
              "              style=\"display:none;\">\n",
              "        \n",
              "  <svg xmlns=\"http://www.w3.org/2000/svg\" height=\"24px\"viewBox=\"0 0 24 24\"\n",
              "       width=\"24px\">\n",
              "    <path d=\"M0 0h24v24H0V0z\" fill=\"none\"/>\n",
              "    <path d=\"M18.56 5.44l.94 2.06.94-2.06 2.06-.94-2.06-.94-.94-2.06-.94 2.06-2.06.94zm-11 1L8.5 8.5l.94-2.06 2.06-.94-2.06-.94L8.5 2.5l-.94 2.06-2.06.94zm10 10l.94 2.06.94-2.06 2.06-.94-2.06-.94-.94-2.06-.94 2.06-2.06.94z\"/><path d=\"M17.41 7.96l-1.37-1.37c-.4-.4-.92-.59-1.43-.59-.52 0-1.04.2-1.43.59L10.3 9.45l-7.72 7.72c-.78.78-.78 2.05 0 2.83L4 21.41c.39.39.9.59 1.41.59.51 0 1.02-.2 1.41-.59l7.78-7.78 2.81-2.81c.8-.78.8-2.07 0-2.86zM5.41 20L4 18.59l7.72-7.72 1.47 1.35L5.41 20z\"/>\n",
              "  </svg>\n",
              "      </button>\n",
              "      \n",
              "  <style>\n",
              "    .colab-df-container {\n",
              "      display:flex;\n",
              "      flex-wrap:wrap;\n",
              "      gap: 12px;\n",
              "    }\n",
              "\n",
              "    .colab-df-convert {\n",
              "      background-color: #E8F0FE;\n",
              "      border: none;\n",
              "      border-radius: 50%;\n",
              "      cursor: pointer;\n",
              "      display: none;\n",
              "      fill: #1967D2;\n",
              "      height: 32px;\n",
              "      padding: 0 0 0 0;\n",
              "      width: 32px;\n",
              "    }\n",
              "\n",
              "    .colab-df-convert:hover {\n",
              "      background-color: #E2EBFA;\n",
              "      box-shadow: 0px 1px 2px rgba(60, 64, 67, 0.3), 0px 1px 3px 1px rgba(60, 64, 67, 0.15);\n",
              "      fill: #174EA6;\n",
              "    }\n",
              "\n",
              "    [theme=dark] .colab-df-convert {\n",
              "      background-color: #3B4455;\n",
              "      fill: #D2E3FC;\n",
              "    }\n",
              "\n",
              "    [theme=dark] .colab-df-convert:hover {\n",
              "      background-color: #434B5C;\n",
              "      box-shadow: 0px 1px 3px 1px rgba(0, 0, 0, 0.15);\n",
              "      filter: drop-shadow(0px 1px 2px rgba(0, 0, 0, 0.3));\n",
              "      fill: #FFFFFF;\n",
              "    }\n",
              "  </style>\n",
              "\n",
              "      <script>\n",
              "        const buttonEl =\n",
              "          document.querySelector('#df-eda1d2ef-d8a2-48c1-9bff-125d162ffd6f button.colab-df-convert');\n",
              "        buttonEl.style.display =\n",
              "          google.colab.kernel.accessAllowed ? 'block' : 'none';\n",
              "\n",
              "        async function convertToInteractive(key) {\n",
              "          const element = document.querySelector('#df-eda1d2ef-d8a2-48c1-9bff-125d162ffd6f');\n",
              "          const dataTable =\n",
              "            await google.colab.kernel.invokeFunction('convertToInteractive',\n",
              "                                                     [key], {});\n",
              "          if (!dataTable) return;\n",
              "\n",
              "          const docLinkHtml = 'Like what you see? Visit the ' +\n",
              "            '<a target=\"_blank\" href=https://colab.research.google.com/notebooks/data_table.ipynb>data table notebook</a>'\n",
              "            + ' to learn more about interactive tables.';\n",
              "          element.innerHTML = '';\n",
              "          dataTable['output_type'] = 'display_data';\n",
              "          await google.colab.output.renderOutput(dataTable, element);\n",
              "          const docLink = document.createElement('div');\n",
              "          docLink.innerHTML = docLinkHtml;\n",
              "          element.appendChild(docLink);\n",
              "        }\n",
              "      </script>\n",
              "    </div>\n",
              "  </div>\n",
              "  "
            ]
          },
          "metadata": {},
          "execution_count": 22
        }
      ]
    },
    {
      "cell_type": "code",
      "source": [
        "# Check current information\n",
        "ml_df.info()"
      ],
      "metadata": {
        "colab": {
          "base_uri": "https://localhost:8080/"
        },
        "id": "1FSzgaPB7iKV",
        "outputId": "b1826626-441c-433c-ea67-c59d599b6b20"
      },
      "id": "1FSzgaPB7iKV",
      "execution_count": 23,
      "outputs": [
        {
          "output_type": "stream",
          "name": "stdout",
          "text": [
            "<class 'pandas.core.frame.DataFrame'>\n",
            "Int64Index: 2858 entries, 399 to 52727\n",
            "Data columns (total 12 columns):\n",
            " #   Column                   Non-Null Count  Dtype  \n",
            "---  ------                   --------------  -----  \n",
            " 0   company                  2858 non-null   object \n",
            " 1   title                    2858 non-null   object \n",
            " 2   totalyearlycompensation  2858 non-null   int32  \n",
            " 3   yearsofexperience        2858 non-null   float64\n",
            " 4   basesalary               2858 non-null   int32  \n",
            " 5   stockgrantvalue          2858 non-null   float64\n",
            " 6   bonus                    2858 non-null   float64\n",
            " 7   gender                   2858 non-null   object \n",
            " 8   Race                     2858 non-null   object \n",
            " 9   Education                2858 non-null   object \n",
            " 10  yearposted               2858 non-null   int64  \n",
            " 11  yearquarter              2858 non-null   object \n",
            "dtypes: float64(3), int32(2), int64(1), object(6)\n",
            "memory usage: 267.9+ KB\n"
          ]
        }
      ]
    },
    {
      "cell_type": "markdown",
      "source": [
        "## Develop quick insights"
      ],
      "metadata": {
        "id": "1SoQMF327vjk"
      },
      "id": "1SoQMF327vjk"
    },
    {
      "cell_type": "markdown",
      "source": [
        "### Scatter Plot"
      ],
      "metadata": {
        "id": "v0TdqMfP8L4_"
      },
      "id": "v0TdqMfP8L4_"
    },
    {
      "cell_type": "code",
      "source": [
        "# Years of Experience\n",
        "plt.figure(figsize=(12,8))\n",
        "sns.scatterplot('yearsofexperience','totalyearlycompensation', data = ml_df, hue = \"title\", palette='mako').set(title='Experience vs. Total Compensation')\n",
        "plt.show()"
      ],
      "metadata": {
        "colab": {
          "base_uri": "https://localhost:8080/",
          "height": 569
        },
        "id": "SlXfFBqj8Kze",
        "outputId": "35e525e2-d24a-4989-b80e-8e3d39475829"
      },
      "id": "SlXfFBqj8Kze",
      "execution_count": 24,
      "outputs": [
        {
          "output_type": "stream",
          "name": "stderr",
          "text": [
            "/usr/local/lib/python3.7/dist-packages/seaborn/_decorators.py:43: FutureWarning: Pass the following variables as keyword args: x, y. From version 0.12, the only valid positional argument will be `data`, and passing other arguments without an explicit keyword will result in an error or misinterpretation.\n",
            "  FutureWarning\n"
          ]
        },
        {
          "output_type": "display_data",
          "data": {
            "text/plain": [
              "<Figure size 864x576 with 1 Axes>"
            ],
            "image/png": "[encoded data removed]"
          },
          "metadata": {
            "needs_background": "light"
          }
        }
      ]
    },
    {
      "cell_type": "code",
      "source": [
        "# Year Posted\n",
        "plt.figure(figsize=(12,8))\n",
        "sns.barplot('yearposted','totalyearlycompensation', data = ml_df, hue = \"title\", palette='mako').set(title='Year Posted vs. Total Compensation')\n",
        "plt.show()"
      ],
      "metadata": {
        "id": "cpBp_LGT74ZM",
        "colab": {
          "base_uri": "https://localhost:8080/",
          "height": 569
        },
        "outputId": "4ebbd562-460e-4435-b756-10ebded75136"
      },
      "id": "cpBp_LGT74ZM",
      "execution_count": 25,
      "outputs": [
        {
          "output_type": "stream",
          "name": "stderr",
          "text": [
            "/usr/local/lib/python3.7/dist-packages/seaborn/_decorators.py:43: FutureWarning: Pass the following variables as keyword args: x, y. From version 0.12, the only valid positional argument will be `data`, and passing other arguments without an explicit keyword will result in an error or misinterpretation.\n",
            "  FutureWarning\n"
          ]
        },
        {
          "output_type": "display_data",
          "data": {
            "text/plain": [
              "<Figure size 864x576 with 1 Axes>"
            ],
            "image/png": "[encoded data removed]"
          },
          "metadata": {
            "needs_background": "light"
          }
        }
      ]
    },
    {
      "cell_type": "markdown",
      "source": [
        "### BoxPlot"
      ],
      "metadata": {
        "id": "TvLzSlncNGBY"
      },
      "id": "TvLzSlncNGBY"
    },
    {
      "cell_type": "code",
      "source": [
        "# From the years of experience scatter plot we see that there are some outliers\n",
        "sns.boxplot(data = ml_df, y = \"yearsofexperience\",palette = \"mako\")"
      ],
      "metadata": {
        "colab": {
          "base_uri": "https://localhost:8080/",
          "height": 270
        },
        "id": "6DhUyNQuGC5C",
        "outputId": "1c17fc5b-5445-42b9-b00a-ba020825b3e1"
      },
      "id": "6DhUyNQuGC5C",
      "execution_count": 26,
      "outputs": [
        {
          "output_type": "execute_result",
          "data": {
            "text/plain": [
              "<matplotlib.axes._subplots.AxesSubplot at 0x7fab3c9e4410>"
            ]
          },
          "metadata": {},
          "execution_count": 26
        },
        {
          "output_type": "display_data",
          "data": {
            "text/plain": [
              "<Figure size 432x288 with 1 Axes>"
            ],
            "image/png": "[encoded data removed]"
          },
          "metadata": {
            "needs_background": "light"
          }
        }
      ]
    },
    {
      "cell_type": "code",
      "source": [
        "# finding the 1st quartile\n",
        "q1 = np.quantile(ml_df.yearsofexperience, 0.25)\n",
        " \n",
        "# finding the 3rd quartile\n",
        "q3 = np.quantile(ml_df.yearsofexperience, 0.75)\n",
        "med = np.median(ml_df.yearsofexperience)\n",
        " \n",
        "# finding the iqr region\n",
        "iqr = q3-q1\n",
        " \n",
        "# finding upper and lower whiskers\n",
        "upper_bound = q3+(1.5*iqr)\n",
        "lower_bound = q1-(1.5*iqr)\n",
        "print(iqr, upper_bound, lower_bound)"
      ],
      "metadata": {
        "colab": {
          "base_uri": "https://localhost:8080/"
        },
        "id": "EZnIy3kzQvR0",
        "outputId": "8a877f0a-970a-4184-e6c3-9e1e66fe99a9"
      },
      "id": "EZnIy3kzQvR0",
      "execution_count": 27,
      "outputs": [
        {
          "output_type": "stream",
          "name": "stdout",
          "text": [
            "5.0 14.5 -5.5\n"
          ]
        }
      ]
    },
    {
      "cell_type": "code",
      "source": [
        "#Finding Outliers\n",
        "outliers = ml_df[(ml_df.yearsofexperience <= lower_bound) | (ml_df.yearsofexperience >= upper_bound)]\n",
        "print('The following are the outliers in the boxplot:{}'.format(outliers))"
      ],
      "metadata": {
        "colab": {
          "base_uri": "https://localhost:8080/"
        },
        "id": "eNnesPQzQZpB",
        "outputId": "8d4bd844-5813-48bd-c46f-f80d452aa3ad"
      },
      "id": "eNnesPQzQZpB",
      "execution_count": 28,
      "outputs": [
        {
          "output_type": "stream",
          "name": "stdout",
          "text": [
            "The following are the outliers in the boxplot:                company             title  totalyearlycompensation  \\\n",
            "1503         SALESFORCE    Data Scientist                   315000   \n",
            "1680          MICROSOFT    Data Scientist                   216000   \n",
            "3476          MICROSOFT    Data Scientist                   365000   \n",
            "5398           FACEBOOK    Data Scientist                   395000   \n",
            "7479          MICROSOFT    Data Scientist                   350000   \n",
            "...                 ...               ...                      ...   \n",
            "50730            GOOGLE  Business Analyst                   275000   \n",
            "50938  PROCTER & GAMBLE  Business Analyst                   128000   \n",
            "51604       BIGCOMMERCE    Data Scientist                   217000   \n",
            "51707          FACEBOOK    Data Scientist                   700000   \n",
            "52635            GOOGLE    Data Scientist                   685000   \n",
            "\n",
            "       yearsofexperience  basesalary  stockgrantvalue    bonus   gender  \\\n",
            "1503                15.0      225000          50000.0  40000.0  Unknown   \n",
            "1680                15.0      166000          25000.0  25000.0  Unknown   \n",
            "3476                18.0      230000         100000.0  45000.0     Male   \n",
            "5398                15.0      208000         135000.0  52000.0     Male   \n",
            "7479                15.0      210000          90000.0  50000.0  Unknown   \n",
            "...                  ...         ...              ...      ...      ...   \n",
            "50730               16.0      167000          75000.0  33000.0     Male   \n",
            "50938               15.0      120000              0.0   8000.0     Male   \n",
            "51604               16.0      213000           4000.0      0.0  Unknown   \n",
            "51707               16.0      255000         375000.0  70000.0     Male   \n",
            "52635               22.0      221000         296000.0  55000.0     Male   \n",
            "\n",
            "          Race          Education  yearposted yearquarter  \n",
            "1503   Unknown            Unknown        2018      2018Q3  \n",
            "1680   Unknown            Unknown        2018      2018Q4  \n",
            "3476   Unknown            Unknown        2019      2019Q1  \n",
            "5398   Unknown            Unknown        2019      2019Q2  \n",
            "7479   Unknown            Unknown        2019      2019Q2  \n",
            "...        ...                ...         ...         ...  \n",
            "50730    Asian  Bachelor's Degree        2021      2021Q3  \n",
            "50938    White  Bachelor's Degree        2021      2021Q3  \n",
            "51604  Unknown            Unknown        2021      2021Q3  \n",
            "51707    White    Master's Degree        2021      2021Q3  \n",
            "52635  Unknown            Unknown        2018      2018Q2  \n",
            "\n",
            "[128 rows x 12 columns]\n"
          ]
        }
      ]
    },
    {
      "cell_type": "code",
      "source": [
        "# Eliminating outliers\n",
        "ml_df = ml_df[(ml_df.yearsofexperience >= lower_bound) & (ml_df.yearsofexperience <= upper_bound)]\n",
        "plt.figure(figsize=(12, 7))\n",
        "sns.boxplot(data = ml_df, y='yearsofexperience', palette = \"mako\")\n",
        "plt.show()"
      ],
      "metadata": {
        "colab": {
          "base_uri": "https://localhost:8080/",
          "height": 415
        },
        "id": "d4p8EI02Rhq7",
        "outputId": "92f3843a-eaf7-407d-c1af-d7f501e12b24"
      },
      "id": "d4p8EI02Rhq7",
      "execution_count": 29,
      "outputs": [
        {
          "output_type": "display_data",
          "data": {
            "text/plain": [
              "<Figure size 864x504 with 1 Axes>"
            ],
            "image/png": "[encoded data removed]"
          },
          "metadata": {
            "needs_background": "light"
          }
        }
      ]
    },
    {
      "cell_type": "code",
      "source": [
        "# Check updated dataframe\n",
        "ml_df.info()"
      ],
      "metadata": {
        "colab": {
          "base_uri": "https://localhost:8080/"
        },
        "id": "09AottgqSP5F",
        "outputId": "3a33fc00-8e85-4ffd-a1cc-1b2b1c298342"
      },
      "id": "09AottgqSP5F",
      "execution_count": 30,
      "outputs": [
        {
          "output_type": "stream",
          "name": "stdout",
          "text": [
            "<class 'pandas.core.frame.DataFrame'>\n",
            "Int64Index: 2730 entries, 399 to 52727\n",
            "Data columns (total 12 columns):\n",
            " #   Column                   Non-Null Count  Dtype  \n",
            "---  ------                   --------------  -----  \n",
            " 0   company                  2730 non-null   object \n",
            " 1   title                    2730 non-null   object \n",
            " 2   totalyearlycompensation  2730 non-null   int32  \n",
            " 3   yearsofexperience        2730 non-null   float64\n",
            " 4   basesalary               2730 non-null   int32  \n",
            " 5   stockgrantvalue          2730 non-null   float64\n",
            " 6   bonus                    2730 non-null   float64\n",
            " 7   gender                   2730 non-null   object \n",
            " 8   Race                     2730 non-null   object \n",
            " 9   Education                2730 non-null   object \n",
            " 10  yearposted               2730 non-null   int64  \n",
            " 11  yearquarter              2730 non-null   object \n",
            "dtypes: float64(3), int32(2), int64(1), object(6)\n",
            "memory usage: 255.9+ KB\n"
          ]
        }
      ]
    },
    {
      "cell_type": "markdown",
      "source": [
        "### Correlation Heatmap"
      ],
      "metadata": {
        "id": "pGFZpcbIZWX_"
      },
      "id": "pGFZpcbIZWX_"
    },
    {
      "cell_type": "code",
      "source": [
        "#Look at correlation between total compensation and other variables\n",
        "plt.figure(figsize=(12,8))\n",
        "sns.heatmap(ml_df.corr(), cmap=\"mako\", annot = True)\n",
        "plt.title(\"Correlations Between Variables\")\n",
        "plt.show()"
      ],
      "metadata": {
        "colab": {
          "base_uri": "https://localhost:8080/",
          "height": 613
        },
        "id": "BgbNWXKqZWtc",
        "outputId": "27435ac8-0963-4d04-ce26-97418f80f24b"
      },
      "id": "BgbNWXKqZWtc",
      "execution_count": 31,
      "outputs": [
        {
          "output_type": "display_data",
          "data": {
            "text/plain": [
              "<Figure size 864x576 with 2 Axes>"
            ],
            "image/png": "[encoded data removed]"
          },
          "metadata": {
            "needs_background": "light"
          }
        }
      ]
    },
    {
      "cell_type": "markdown",
      "source": [
        "# Machine Learning Model"
      ],
      "metadata": {
        "id": "kt9wJzNLZQCt"
      },
      "id": "kt9wJzNLZQCt"
    },
    {
      "cell_type": "code",
      "source": [
        "# Import dependancies\n",
        "from sklearn.model_selection import train_test_split\n",
        "from sklearn.preprocessing import StandardScaler\n",
        "from sklearn.ensemble import RandomForestRegressor\n",
        "from sklearn.linear_model import LinearRegression\n",
        "from sklearn.metrics  import accuracy_score, explained_variance_score, mean_squared_error, confusion_matrix, r2_score"
      ],
      "metadata": {
        "id": "bxFibwaNckfv"
      },
      "id": "bxFibwaNckfv",
      "execution_count": 32,
      "outputs": []
    },
    {
      "cell_type": "markdown",
      "source": [
        "## Split the Data into Training and Testing"
      ],
      "metadata": {
        "id": "E58UNljua-kH"
      },
      "id": "E58UNljua-kH"
    },
    {
      "cell_type": "code",
      "source": [
        "# Add dummies data for categorical variables and drop non-beneficiary columns\n",
        "df = pd.get_dummies(ml_df.drop([\"company\", \"yearquarter\", \"gender\", \"Race\", \"Education\"], axis = 1))"
      ],
      "metadata": {
        "id": "XzpvP4AZix53"
      },
      "id": "XzpvP4AZix53",
      "execution_count": 33,
      "outputs": []
    },
    {
      "cell_type": "code",
      "source": [
        "df.head()"
      ],
      "metadata": {
        "colab": {
          "base_uri": "https://localhost:8080/",
          "height": 268
        },
        "id": "q1TQZmPB6Nit",
        "outputId": "59f8e01b-b534-4710-dfb7-016c9a8bb4d8"
      },
      "id": "q1TQZmPB6Nit",
      "execution_count": 34,
      "outputs": [
        {
          "output_type": "execute_result",
          "data": {
            "text/plain": [
              "     totalyearlycompensation  yearsofexperience  basesalary  stockgrantvalue  \\\n",
              "399                   233000                4.0      162000         220000.0   \n",
              "420                   218000               11.0      165000          28000.0   \n",
              "432                   500000                4.0      200000         280000.0   \n",
              "466                   370000                8.0      190000         140000.0   \n",
              "470                   200000                3.0      150000         105000.0   \n",
              "\n",
              "       bonus  yearposted  title_Business Analyst  title_Data Scientist  \n",
              "399  10000.0        2018                       0                     1  \n",
              "420  23000.0        2018                       0                     1  \n",
              "432  20000.0        2018                       0                     1  \n",
              "466  40000.0        2018                       0                     1  \n",
              "470  81000.0        2018                       0                     1  "
            ],
            "text/html": [
              "\n",
              "  <div id=\"df-ab78a294-7bed-4f03-9cb3-b957874676e8\">\n",
              "    <div class=\"colab-df-container\">\n",
              "      <div>\n",
              "<style scoped>\n",
              "    .dataframe tbody tr th:only-of-type {\n",
              "        vertical-align: middle;\n",
              "    }\n",
              "\n",
              "    .dataframe tbody tr th {\n",
              "        vertical-align: top;\n",
              "    }\n",
              "\n",
              "    .dataframe thead th {\n",
              "        text-align: right;\n",
              "    }\n",
              "</style>\n",
              "<table border=\"1\" class=\"dataframe\">\n",
              "  <thead>\n",
              "    <tr style=\"text-align: right;\">\n",
              "      <th></th>\n",
              "      <th>totalyearlycompensation</th>\n",
              "      <th>yearsofexperience</th>\n",
              "      <th>basesalary</th>\n",
              "      <th>stockgrantvalue</th>\n",
              "      <th>bonus</th>\n",
              "      <th>yearposted</th>\n",
              "      <th>title_Business Analyst</th>\n",
              "      <th>title_Data Scientist</th>\n",
              "    </tr>\n",
              "  </thead>\n",
              "  <tbody>\n",
              "    <tr>\n",
              "      <th>399</th>\n",
              "      <td>233000</td>\n",
              "      <td>4.0</td>\n",
              "      <td>162000</td>\n",
              "      <td>220000.0</td>\n",
              "      <td>10000.0</td>\n",
              "      <td>2018</td>\n",
              "      <td>0</td>\n",
              "      <td>1</td>\n",
              "    </tr>\n",
              "    <tr>\n",
              "      <th>420</th>\n",
              "      <td>218000</td>\n",
              "      <td>11.0</td>\n",
              "      <td>165000</td>\n",
              "      <td>28000.0</td>\n",
              "      <td>23000.0</td>\n",
              "      <td>2018</td>\n",
              "      <td>0</td>\n",
              "      <td>1</td>\n",
              "    </tr>\n",
              "    <tr>\n",
              "      <th>432</th>\n",
              "      <td>500000</td>\n",
              "      <td>4.0</td>\n",
              "      <td>200000</td>\n",
              "      <td>280000.0</td>\n",
              "      <td>20000.0</td>\n",
              "      <td>2018</td>\n",
              "      <td>0</td>\n",
              "      <td>1</td>\n",
              "    </tr>\n",
              "    <tr>\n",
              "      <th>466</th>\n",
              "      <td>370000</td>\n",
              "      <td>8.0</td>\n",
              "      <td>190000</td>\n",
              "      <td>140000.0</td>\n",
              "      <td>40000.0</td>\n",
              "      <td>2018</td>\n",
              "      <td>0</td>\n",
              "      <td>1</td>\n",
              "    </tr>\n",
              "    <tr>\n",
              "      <th>470</th>\n",
              "      <td>200000</td>\n",
              "      <td>3.0</td>\n",
              "      <td>150000</td>\n",
              "      <td>105000.0</td>\n",
              "      <td>81000.0</td>\n",
              "      <td>2018</td>\n",
              "      <td>0</td>\n",
              "      <td>1</td>\n",
              "    </tr>\n",
              "  </tbody>\n",
              "</table>\n",
              "</div>\n",
              "      <button class=\"colab-df-convert\" onclick=\"convertToInteractive('df-ab78a294-7bed-4f03-9cb3-b957874676e8')\"\n",
              "              title=\"Convert this dataframe to an interactive table.\"\n",
              "              style=\"display:none;\">\n",
              "        \n",
              "  <svg xmlns=\"http://www.w3.org/2000/svg\" height=\"24px\"viewBox=\"0 0 24 24\"\n",
              "       width=\"24px\">\n",
              "    <path d=\"M0 0h24v24H0V0z\" fill=\"none\"/>\n",
              "    <path d=\"M18.56 5.44l.94 2.06.94-2.06 2.06-.94-2.06-.94-.94-2.06-.94 2.06-2.06.94zm-11 1L8.5 8.5l.94-2.06 2.06-.94-2.06-.94L8.5 2.5l-.94 2.06-2.06.94zm10 10l.94 2.06.94-2.06 2.06-.94-2.06-.94-.94-2.06-.94 2.06-2.06.94z\"/><path d=\"M17.41 7.96l-1.37-1.37c-.4-.4-.92-.59-1.43-.59-.52 0-1.04.2-1.43.59L10.3 9.45l-7.72 7.72c-.78.78-.78 2.05 0 2.83L4 21.41c.39.39.9.59 1.41.59.51 0 1.02-.2 1.41-.59l7.78-7.78 2.81-2.81c.8-.78.8-2.07 0-2.86zM5.41 20L4 18.59l7.72-7.72 1.47 1.35L5.41 20z\"/>\n",
              "  </svg>\n",
              "      </button>\n",
              "      \n",
              "  <style>\n",
              "    .colab-df-container {\n",
              "      display:flex;\n",
              "      flex-wrap:wrap;\n",
              "      gap: 12px;\n",
              "    }\n",
              "\n",
              "    .colab-df-convert {\n",
              "      background-color: #E8F0FE;\n",
              "      border: none;\n",
              "      border-radius: 50%;\n",
              "      cursor: pointer;\n",
              "      display: none;\n",
              "      fill: #1967D2;\n",
              "      height: 32px;\n",
              "      padding: 0 0 0 0;\n",
              "      width: 32px;\n",
              "    }\n",
              "\n",
              "    .colab-df-convert:hover {\n",
              "      background-color: #E2EBFA;\n",
              "      box-shadow: 0px 1px 2px rgba(60, 64, 67, 0.3), 0px 1px 3px 1px rgba(60, 64, 67, 0.15);\n",
              "      fill: #174EA6;\n",
              "    }\n",
              "\n",
              "    [theme=dark] .colab-df-convert {\n",
              "      background-color: #3B4455;\n",
              "      fill: #D2E3FC;\n",
              "    }\n",
              "\n",
              "    [theme=dark] .colab-df-convert:hover {\n",
              "      background-color: #434B5C;\n",
              "      box-shadow: 0px 1px 3px 1px rgba(0, 0, 0, 0.15);\n",
              "      filter: drop-shadow(0px 1px 2px rgba(0, 0, 0, 0.3));\n",
              "      fill: #FFFFFF;\n",
              "    }\n",
              "  </style>\n",
              "\n",
              "      <script>\n",
              "        const buttonEl =\n",
              "          document.querySelector('#df-ab78a294-7bed-4f03-9cb3-b957874676e8 button.colab-df-convert');\n",
              "        buttonEl.style.display =\n",
              "          google.colab.kernel.accessAllowed ? 'block' : 'none';\n",
              "\n",
              "        async function convertToInteractive(key) {\n",
              "          const element = document.querySelector('#df-ab78a294-7bed-4f03-9cb3-b957874676e8');\n",
              "          const dataTable =\n",
              "            await google.colab.kernel.invokeFunction('convertToInteractive',\n",
              "                                                     [key], {});\n",
              "          if (!dataTable) return;\n",
              "\n",
              "          const docLinkHtml = 'Like what you see? Visit the ' +\n",
              "            '<a target=\"_blank\" href=https://colab.research.google.com/notebooks/data_table.ipynb>data table notebook</a>'\n",
              "            + ' to learn more about interactive tables.';\n",
              "          element.innerHTML = '';\n",
              "          dataTable['output_type'] = 'display_data';\n",
              "          await google.colab.output.renderOutput(dataTable, element);\n",
              "          const docLink = document.createElement('div');\n",
              "          docLink.innerHTML = docLinkHtml;\n",
              "          element.appendChild(docLink);\n",
              "        }\n",
              "      </script>\n",
              "    </div>\n",
              "  </div>\n",
              "  "
            ]
          },
          "metadata": {},
          "execution_count": 34
        }
      ]
    },
    {
      "cell_type": "code",
      "source": [
        "# Check correlation\n",
        "plt.figure(figsize=(12,8))\n",
        "sns.heatmap(df.corr(), cmap=\"mako\", annot = True)\n",
        "plt.title(\"Correlations Between Variables\")\n",
        "plt.show()"
      ],
      "metadata": {
        "colab": {
          "base_uri": "https://localhost:8080/",
          "height": 613
        },
        "id": "5sM1lP0VkJjh",
        "outputId": "e1680815-7bce-4094-d171-4b6e0ae9b499"
      },
      "id": "5sM1lP0VkJjh",
      "execution_count": 35,
      "outputs": [
        {
          "output_type": "display_data",
          "data": {
            "text/plain": [
              "<Figure size 864x576 with 2 Axes>"
            ],
            "image/png": "[encoded data removed]"
          },
          "metadata": {
            "needs_background": "light"
          }
        }
      ]
    },
    {
      "cell_type": "markdown",
      "source": [
        "Because of the high correlation between stock grant value, bonus,  and base salary with our target variable, total compensation. I decided to use only one of the said independent variables to reduce changes of prediction leakage.\n",
        "\n",
        "I chose the base salary variable because this is information we can usually find pretty easily. When discussing salary negotiation in an interview, is better to understand what is the total compensation instead of the base salary since it takes into account other benefits."
      ],
      "metadata": {
        "id": "TolJhNA472Lb"
      },
      "id": "TolJhNA472Lb"
    },
    {
      "cell_type": "code",
      "source": [
        "# Define the target and independent features\n",
        "#Independent Variables\n",
        "X = df.drop([\"totalyearlycompensation\", \"stockgrantvalue\", \"bonus\"], axis = 1)\n",
        "\n",
        "# Target Variables\n",
        "y = df[\"totalyearlycompensation\"]"
      ],
      "metadata": {
        "id": "jeQc1Sdoa7E7"
      },
      "id": "jeQc1Sdoa7E7",
      "execution_count": 36,
      "outputs": []
    },
    {
      "cell_type": "code",
      "source": [
        "X.describe()"
      ],
      "metadata": {
        "colab": {
          "base_uri": "https://localhost:8080/",
          "height": 300
        },
        "id": "4KSkULaRnItE",
        "outputId": "54fbe663-8796-4273-b41a-71286a702e62"
      },
      "id": "4KSkULaRnItE",
      "execution_count": 37,
      "outputs": [
        {
          "output_type": "execute_result",
          "data": {
            "text/plain": [
              "       yearsofexperience     basesalary  yearposted  title_Business Analyst  \\\n",
              "count        2730.000000    2730.000000  2730.00000             2730.000000   \n",
              "mean            4.593773  141434.432234  2020.22967                0.252381   \n",
              "std             3.251208   52688.582808     0.78996                0.434458   \n",
              "min             0.000000   13000.000000  2018.00000                0.000000   \n",
              "25%             2.000000  110000.000000  2020.00000                0.000000   \n",
              "50%             4.000000  140000.000000  2020.00000                0.000000   \n",
              "75%             6.000000  160000.000000  2021.00000                1.000000   \n",
              "max            14.000000  700000.000000  2021.00000                1.000000   \n",
              "\n",
              "       title_Data Scientist  \n",
              "count           2730.000000  \n",
              "mean               0.747619  \n",
              "std                0.434458  \n",
              "min                0.000000  \n",
              "25%                0.000000  \n",
              "50%                1.000000  \n",
              "75%                1.000000  \n",
              "max                1.000000  "
            ],
            "text/html": [
              "\n",
              "  <div id=\"df-4f775df3-5fef-453b-850d-51a6aaeef472\">\n",
              "    <div class=\"colab-df-container\">\n",
              "      <div>\n",
              "<style scoped>\n",
              "    .dataframe tbody tr th:only-of-type {\n",
              "        vertical-align: middle;\n",
              "    }\n",
              "\n",
              "    .dataframe tbody tr th {\n",
              "        vertical-align: top;\n",
              "    }\n",
              "\n",
              "    .dataframe thead th {\n",
              "        text-align: right;\n",
              "    }\n",
              "</style>\n",
              "<table border=\"1\" class=\"dataframe\">\n",
              "  <thead>\n",
              "    <tr style=\"text-align: right;\">\n",
              "      <th></th>\n",
              "      <th>yearsofexperience</th>\n",
              "      <th>basesalary</th>\n",
              "      <th>yearposted</th>\n",
              "      <th>title_Business Analyst</th>\n",
              "      <th>title_Data Scientist</th>\n",
              "    </tr>\n",
              "  </thead>\n",
              "  <tbody>\n",
              "    <tr>\n",
              "      <th>count</th>\n",
              "      <td>2730.000000</td>\n",
              "      <td>2730.000000</td>\n",
              "      <td>2730.00000</td>\n",
              "      <td>2730.000000</td>\n",
              "      <td>2730.000000</td>\n",
              "    </tr>\n",
              "    <tr>\n",
              "      <th>mean</th>\n",
              "      <td>4.593773</td>\n",
              "      <td>141434.432234</td>\n",
              "      <td>2020.22967</td>\n",
              "      <td>0.252381</td>\n",
              "      <td>0.747619</td>\n",
              "    </tr>\n",
              "    <tr>\n",
              "      <th>std</th>\n",
              "      <td>3.251208</td>\n",
              "      <td>52688.582808</td>\n",
              "      <td>0.78996</td>\n",
              "      <td>0.434458</td>\n",
              "      <td>0.434458</td>\n",
              "    </tr>\n",
              "    <tr>\n",
              "      <th>min</th>\n",
              "      <td>0.000000</td>\n",
              "      <td>13000.000000</td>\n",
              "      <td>2018.00000</td>\n",
              "      <td>0.000000</td>\n",
              "      <td>0.000000</td>\n",
              "    </tr>\n",
              "    <tr>\n",
              "      <th>25%</th>\n",
              "      <td>2.000000</td>\n",
              "      <td>110000.000000</td>\n",
              "      <td>2020.00000</td>\n",
              "      <td>0.000000</td>\n",
              "      <td>0.000000</td>\n",
              "    </tr>\n",
              "    <tr>\n",
              "      <th>50%</th>\n",
              "      <td>4.000000</td>\n",
              "      <td>140000.000000</td>\n",
              "      <td>2020.00000</td>\n",
              "      <td>0.000000</td>\n",
              "      <td>1.000000</td>\n",
              "    </tr>\n",
              "    <tr>\n",
              "      <th>75%</th>\n",
              "      <td>6.000000</td>\n",
              "      <td>160000.000000</td>\n",
              "      <td>2021.00000</td>\n",
              "      <td>1.000000</td>\n",
              "      <td>1.000000</td>\n",
              "    </tr>\n",
              "    <tr>\n",
              "      <th>max</th>\n",
              "      <td>14.000000</td>\n",
              "      <td>700000.000000</td>\n",
              "      <td>2021.00000</td>\n",
              "      <td>1.000000</td>\n",
              "      <td>1.000000</td>\n",
              "    </tr>\n",
              "  </tbody>\n",
              "</table>\n",
              "</div>\n",
              "      <button class=\"colab-df-convert\" onclick=\"convertToInteractive('df-4f775df3-5fef-453b-850d-51a6aaeef472')\"\n",
              "              title=\"Convert this dataframe to an interactive table.\"\n",
              "              style=\"display:none;\">\n",
              "        \n",
              "  <svg xmlns=\"http://www.w3.org/2000/svg\" height=\"24px\"viewBox=\"0 0 24 24\"\n",
              "       width=\"24px\">\n",
              "    <path d=\"M0 0h24v24H0V0z\" fill=\"none\"/>\n",
              "    <path d=\"M18.56 5.44l.94 2.06.94-2.06 2.06-.94-2.06-.94-.94-2.06-.94 2.06-2.06.94zm-11 1L8.5 8.5l.94-2.06 2.06-.94-2.06-.94L8.5 2.5l-.94 2.06-2.06.94zm10 10l.94 2.06.94-2.06 2.06-.94-2.06-.94-.94-2.06-.94 2.06-2.06.94z\"/><path d=\"M17.41 7.96l-1.37-1.37c-.4-.4-.92-.59-1.43-.59-.52 0-1.04.2-1.43.59L10.3 9.45l-7.72 7.72c-.78.78-.78 2.05 0 2.83L4 21.41c.39.39.9.59 1.41.59.51 0 1.02-.2 1.41-.59l7.78-7.78 2.81-2.81c.8-.78.8-2.07 0-2.86zM5.41 20L4 18.59l7.72-7.72 1.47 1.35L5.41 20z\"/>\n",
              "  </svg>\n",
              "      </button>\n",
              "      \n",
              "  <style>\n",
              "    .colab-df-container {\n",
              "      display:flex;\n",
              "      flex-wrap:wrap;\n",
              "      gap: 12px;\n",
              "    }\n",
              "\n",
              "    .colab-df-convert {\n",
              "      background-color: #E8F0FE;\n",
              "      border: none;\n",
              "      border-radius: 50%;\n",
              "      cursor: pointer;\n",
              "      display: none;\n",
              "      fill: #1967D2;\n",
              "      height: 32px;\n",
              "      padding: 0 0 0 0;\n",
              "      width: 32px;\n",
              "    }\n",
              "\n",
              "    .colab-df-convert:hover {\n",
              "      background-color: #E2EBFA;\n",
              "      box-shadow: 0px 1px 2px rgba(60, 64, 67, 0.3), 0px 1px 3px 1px rgba(60, 64, 67, 0.15);\n",
              "      fill: #174EA6;\n",
              "    }\n",
              "\n",
              "    [theme=dark] .colab-df-convert {\n",
              "      background-color: #3B4455;\n",
              "      fill: #D2E3FC;\n",
              "    }\n",
              "\n",
              "    [theme=dark] .colab-df-convert:hover {\n",
              "      background-color: #434B5C;\n",
              "      box-shadow: 0px 1px 3px 1px rgba(0, 0, 0, 0.15);\n",
              "      filter: drop-shadow(0px 1px 2px rgba(0, 0, 0, 0.3));\n",
              "      fill: #FFFFFF;\n",
              "    }\n",
              "  </style>\n",
              "\n",
              "      <script>\n",
              "        const buttonEl =\n",
              "          document.querySelector('#df-4f775df3-5fef-453b-850d-51a6aaeef472 button.colab-df-convert');\n",
              "        buttonEl.style.display =\n",
              "          google.colab.kernel.accessAllowed ? 'block' : 'none';\n",
              "\n",
              "        async function convertToInteractive(key) {\n",
              "          const element = document.querySelector('#df-4f775df3-5fef-453b-850d-51a6aaeef472');\n",
              "          const dataTable =\n",
              "            await google.colab.kernel.invokeFunction('convertToInteractive',\n",
              "                                                     [key], {});\n",
              "          if (!dataTable) return;\n",
              "\n",
              "          const docLinkHtml = 'Like what you see? Visit the ' +\n",
              "            '<a target=\"_blank\" href=https://colab.research.google.com/notebooks/data_table.ipynb>data table notebook</a>'\n",
              "            + ' to learn more about interactive tables.';\n",
              "          element.innerHTML = '';\n",
              "          dataTable['output_type'] = 'display_data';\n",
              "          await google.colab.output.renderOutput(dataTable, element);\n",
              "          const docLink = document.createElement('div');\n",
              "          docLink.innerHTML = docLinkHtml;\n",
              "          element.appendChild(docLink);\n",
              "        }\n",
              "      </script>\n",
              "    </div>\n",
              "  </div>\n",
              "  "
            ]
          },
          "metadata": {},
          "execution_count": 37
        }
      ]
    },
    {
      "cell_type": "code",
      "source": [
        "# Split dataset in training and testing\n",
        "X_train,X_test,y_train,y_test=train_test_split(X,y,test_size=0.2,random_state=0)\n",
        "X_train.shape"
      ],
      "metadata": {
        "colab": {
          "base_uri": "https://localhost:8080/"
        },
        "id": "-i2nx9dXoCGt",
        "outputId": "0bc941b4-3877-486f-e7a9-7c222c84b18a"
      },
      "id": "-i2nx9dXoCGt",
      "execution_count": 38,
      "outputs": [
        {
          "output_type": "execute_result",
          "data": {
            "text/plain": [
              "(2184, 5)"
            ]
          },
          "metadata": {},
          "execution_count": 38
        }
      ]
    },
    {
      "cell_type": "code",
      "source": [
        "# Scale data\n",
        "scaler = StandardScaler()\n",
        "X_scaler = scaler.fit(X_train)\n",
        "X_train_scaled = X_scaler.transform(X_train)\n",
        "X_test_scaled = X_scaler.transform(X_test)"
      ],
      "metadata": {
        "id": "-yfib60roCTj"
      },
      "id": "-yfib60roCTj",
      "execution_count": 39,
      "outputs": []
    },
    {
      "cell_type": "markdown",
      "source": [
        "## Multilinear Regression"
      ],
      "metadata": {
        "id": "MkLq1d7cZSka"
      },
      "id": "MkLq1d7cZSka"
    },
    {
      "cell_type": "code",
      "source": [
        "# Create a linear model\n",
        "multi_model = LinearRegression()\n",
        "# Fit (train) model to the data\n",
        "multi_model.fit(X_train, y_train)\n",
        "# Use model to predict a value\n",
        "predictions = multi_model.predict(X_test)\n",
        "print(predictions.shape)"
      ],
      "metadata": {
        "colab": {
          "base_uri": "https://localhost:8080/"
        },
        "id": "uVhHEII7yJXZ",
        "outputId": "3b0eb6d4-b5b5-4c71-9ea3-efc4453d7e75"
      },
      "id": "uVhHEII7yJXZ",
      "execution_count": 40,
      "outputs": [
        {
          "output_type": "stream",
          "name": "stdout",
          "text": [
            "(546,)\n"
          ]
        }
      ]
    },
    {
      "cell_type": "code",
      "source": [
        "# Plot Residuals\n",
        "## plotting residual errors in training data\n",
        "plt.scatter(multi_model.predict(X_train), multi_model.predict(X_train) - y_train,\n",
        "            color = \"green\", s = 75, label = 'Train data', edgecolors='black')\n",
        "  \n",
        "## plotting residual errors in test data\n",
        "plt.scatter(multi_model.predict(X_test), multi_model.predict(X_test) - y_test,\n",
        "            color = \"blue\", s = 75, label = 'Test data', edgecolors='black')\n",
        "\n",
        "plt.show()\n",
        "  "
      ],
      "metadata": {
        "colab": {
          "base_uri": "https://localhost:8080/",
          "height": 279
        },
        "id": "FJyv793tjFqp",
        "outputId": "cb0a061b-e74c-4ddf-f369-1e18e372c164"
      },
      "id": "FJyv793tjFqp",
      "execution_count": 41,
      "outputs": [
        {
          "output_type": "display_data",
          "data": {
            "text/plain": [
              "<Figure size 432x288 with 1 Axes>"
            ],
            "image/png": "[encoded data removed]"
          },
          "metadata": {
            "needs_background": "light"
          }
        }
      ]
    },
    {
      "cell_type": "code",
      "source": [
        "# Model Metrics\n",
        "r2 = r2_score(y_test, predictions)\n",
        "# accuracy = accuracy_score(y_test.to_numpy(), predictions)\n",
        "expl_mlr = explained_variance_score(predictions,y_test)\n",
        "print(f\"R-squared (R2): {r2}\")\n",
        "print(f\"Explained Variance: {expl_mlr}\")"
      ],
      "metadata": {
        "colab": {
          "base_uri": "https://localhost:8080/"
        },
        "id": "jHPdXASl1eS9",
        "outputId": "97dd0c80-6cd9-44e5-8209-484ab5722b60"
      },
      "id": "jHPdXASl1eS9",
      "execution_count": 42,
      "outputs": [
        {
          "output_type": "stream",
          "name": "stdout",
          "text": [
            "R-squared (R2): 0.7352217272652555\n",
            "Explained Variance: 0.6088776855209193\n"
          ]
        }
      ]
    },
    {
      "cell_type": "markdown",
      "source": [
        "## Random Forest Classifier"
      ],
      "metadata": {
        "id": "NQTqxRB28aOV"
      },
      "id": "NQTqxRB28aOV"
    },
    {
      "cell_type": "code",
      "source": [
        "# Create a linear model\n",
        "rf_model = RandomForestRegressor(n_estimators=28,random_state=0)\n",
        "# Fit (train) model to the data\n",
        "rf_model.fit(X_train_scaled, y_train)\n",
        "# Use model to predict a value\n",
        "predictions = rf_model.predict(X_test_scaled)\n",
        "print(predictions.shape)"
      ],
      "metadata": {
        "colab": {
          "base_uri": "https://localhost:8080/"
        },
        "id": "MZQ-i9zvRRr4",
        "outputId": "8aed8de1-4c29-4fb9-bc33-77c930e2cbe4"
      },
      "id": "MZQ-i9zvRRr4",
      "execution_count": 43,
      "outputs": [
        {
          "output_type": "stream",
          "name": "stdout",
          "text": [
            "(546,)\n"
          ]
        }
      ]
    },
    {
      "cell_type": "code",
      "source": [
        "# Plot Residuals\n",
        "## plotting residual errors in training data\n",
        "plt.scatter(multi_model.predict(X_train_scaled), multi_model.predict(X_train_scaled) - y_train,\n",
        "            color = \"green\", s = 75, label = 'Train data', edgecolors='black')\n",
        "  \n",
        "## plotting residual errors in test data\n",
        "plt.scatter(multi_model.predict(X_test_scaled), multi_model.predict(X_test_scaled) - y_test,\n",
        "            color = \"blue\", s = 75, label = 'Test data', edgecolors='black')\n"
      ],
      "metadata": {
        "colab": {
          "base_uri": "https://localhost:8080/",
          "height": 470
        },
        "id": "DvhNgzFD-haC",
        "outputId": "ff6652e1-bf5f-4b7b-9558-e65954d20933"
      },
      "id": "DvhNgzFD-haC",
      "execution_count": 44,
      "outputs": [
        {
          "output_type": "stream",
          "name": "stderr",
          "text": [
            "/usr/local/lib/python3.7/dist-packages/sklearn/base.py:451: UserWarning: X does not have valid feature names, but LinearRegression was fitted with feature names\n",
            "  \"X does not have valid feature names, but\"\n",
            "/usr/local/lib/python3.7/dist-packages/sklearn/base.py:451: UserWarning: X does not have valid feature names, but LinearRegression was fitted with feature names\n",
            "  \"X does not have valid feature names, but\"\n",
            "/usr/local/lib/python3.7/dist-packages/sklearn/base.py:451: UserWarning: X does not have valid feature names, but LinearRegression was fitted with feature names\n",
            "  \"X does not have valid feature names, but\"\n",
            "/usr/local/lib/python3.7/dist-packages/sklearn/base.py:451: UserWarning: X does not have valid feature names, but LinearRegression was fitted with feature names\n",
            "  \"X does not have valid feature names, but\"\n"
          ]
        },
        {
          "output_type": "execute_result",
          "data": {
            "text/plain": [
              "<matplotlib.collections.PathCollection at 0x7fab37455a10>"
            ]
          },
          "metadata": {},
          "execution_count": 44
        },
        {
          "output_type": "display_data",
          "data": {
            "text/plain": [
              "<Figure size 432x288 with 1 Axes>"
            ],
            "image/png": "[encoded data removed]"
          },
          "metadata": {
            "needs_background": "light"
          }
        }
      ]
    },
    {
      "cell_type": "code",
      "source": [
        "# Model Metrics\n",
        "r2 = r2_score(y_test, predictions)\n",
        "# accuracy = accuracy_score(y_test.to_numpy(), predictions)\n",
        "expl_mlr = explained_variance_score(predictions,y_test)\n",
        "print(f\"R-squared (R2): {r2}\")\n",
        "print(f\"Explained Variance: {expl_mlr}\")"
      ],
      "metadata": {
        "colab": {
          "base_uri": "https://localhost:8080/"
        },
        "id": "qSQ-2-p--SQc",
        "outputId": "234aac11-1f28-4f9c-bd71-38650ebf6a5d"
      },
      "id": "qSQ-2-p--SQc",
      "execution_count": 45,
      "outputs": [
        {
          "output_type": "stream",
          "name": "stdout",
          "text": [
            "R-squared (R2): 0.7360859703297589\n",
            "Explained Variance: 0.7332957563190178\n"
          ]
        }
      ]
    }
  ],
  "metadata": {
    "kernelspec": {
      "display_name": "mlenv",
      "language": "python",
      "name": "mlenv"
    },
    "language_info": {
      "codemirror_mode": {
        "name": "ipython",
        "version": 3
      },
      "file_extension": ".py",
      "mimetype": "text/x-python",
      "name": "python",
      "nbconvert_exporter": "python",
      "pygments_lexer": "ipython3",
      "version": "3.10.4"
    },
    "colab": {
      "provenance": [],
      "collapsed_sections": []
    }
  },
  "nbformat": 4,
  "nbformat_minor": 5
}