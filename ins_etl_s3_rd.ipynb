{
  "cells": [
    {
      "cell_type": "code",
      "execution_count": 1,
      "metadata": {
        "colab": {
          "base_uri": "https://localhost:8080/"
        },
        "id": "QynpKOtoEpXS",
        "outputId": "c44c7095-370e-4bfd-eb17-4d99c90affd2"
      },
      "outputs": [
        {
          "name": "stdout",
          "output_type": "stream",
          "text": [
            "Hit:1 https://cloud.r-project.org/bin/linux/ubuntu bionic-cran40/ InRelease\n",
            "Ign:2 https://developer.download.nvidia.com/compute/machine-learning/repos/ubuntu1804/x86_64  InRelease\n",
            "Hit:3 http://ppa.launchpad.net/c2d4u.team/c2d4u4.0+/ubuntu bionic InRelease\n",
            "Hit:4 http://archive.ubuntu.com/ubuntu bionic InRelease\n",
            "Hit:5 https://developer.download.nvidia.com/compute/cuda/repos/ubuntu1804/x86_64  InRelease\n",
            "Hit:6 https://developer.download.nvidia.com/compute/machine-learning/repos/ubuntu1804/x86_64  Release\n",
            "Get:7 http://security.ubuntu.com/ubuntu bionic-security InRelease [88.7 kB]\n",
            "Get:8 http://archive.ubuntu.com/ubuntu bionic-updates InRelease [88.7 kB]\n",
            "Hit:9 http://ppa.launchpad.net/cran/libgit2/ubuntu bionic InRelease\n",
            "Hit:11 http://ppa.launchpad.net/deadsnakes/ppa/ubuntu bionic InRelease\n",
            "Get:12 http://archive.ubuntu.com/ubuntu bionic-backports InRelease [83.3 kB]\n",
            "Hit:13 http://ppa.launchpad.net/graphics-drivers/ppa/ubuntu bionic InRelease\n",
            "Fetched 261 kB in 3s (92.1 kB/s)\n",
            "Reading package lists... Done\n"
          ]
        }
      ],
      "source": [
        "import os\n",
        "# Find the latest version of spark 3.0  from http://www.apache.org/dist/spark/ and enter as the spark version\n",
        "# For example:\n",
        "# spark_version = 'spark-3.0.3'\n",
        "spark_version = 'spark-3.3.0'\n",
        "os.environ['SPARK_VERSION']=spark_version\n",
        "\n",
        "# Install Spark and Java\n",
        "!apt-get update\n",
        "!apt-get install openjdk-11-jdk-headless -qq > /dev/null\n",
        "!wget -q http://www.apache.org/dist/spark/spark-3.3.0/spark-3.3.0-bin-hadoop2.tgz\n",
        "!tar xf spark-3.3.0-bin-hadoop2.tgz\n",
        "!pip install -q findspark\n",
        "\n",
        "# Set Environment Variables\n",
        "os.environ[\"JAVA_HOME\"] = \"/usr/lib/jvm/java-11-openjdk-amd64\"\n",
        "os.environ[\"SPARK_HOME\"] = f\"/content/{spark_version}-bin-hadoop2\"\n",
        "\n",
        "# Start a SparkSession\n",
        "import findspark\n",
        "findspark.init()"
      ]
    },
    {
      "cell_type": "code",
      "execution_count": 2,
      "metadata": {
        "colab": {
          "base_uri": "https://localhost:8080/"
        },
        "id": "vpHTcc3uEpXW",
        "outputId": "5128d4f1-4ea6-4a0e-f07d-c6a30a6a2ca8"
      },
      "outputs": [
        {
          "name": "stdout",
          "output_type": "stream",
          "text": [
            "--2022-10-04 02:24:22--  https://jdbc.postgresql.org/download/postgresql-42.2.9.jar\n",
            "Resolving jdbc.postgresql.org (jdbc.postgresql.org)... 72.32.157.228, 2001:4800:3e1:1::228\n",
            "Connecting to jdbc.postgresql.org (jdbc.postgresql.org)|72.32.157.228|:443... connected.\n",
            "HTTP request sent, awaiting response... 200 OK\n",
            "Length: 914037 (893K) [application/java-archive]\n",
            "Saving to: ‘postgresql-42.2.9.jar.3’\n",
            "\n",
            "postgresql-42.2.9.j 100%[===================>] 892.61K  1.25MB/s    in 0.7s    \n",
            "\n",
            "2022-10-04 02:24:24 (1.25 MB/s) - ‘postgresql-42.2.9.jar.3’ saved [914037/914037]\n",
            "\n"
          ]
        }
      ],
      "source": [
        "!wget https://jdbc.postgresql.org/download/postgresql-42.2.9.jar"
      ]
    },
    {
      "cell_type": "code",
      "execution_count": 3,
      "metadata": {
        "id": "wsSY0N2KEpXX"
      },
      "outputs": [],
      "source": [
        "from pyspark.sql import SparkSession\n",
        "spark = SparkSession.builder.appName(\"CloudETL\").config(\"spark.driver.extraClassPath\",\"/content/postgresql-42.2.9.jar\").getOrCreate()"
      ]
    },
    {
      "cell_type": "code",
      "execution_count": 34,
      "metadata": {
        "colab": {
          "base_uri": "https://localhost:8080/"
        },
        "id": "ROROnEQUEpXX",
        "outputId": "33e0d138-b117-43e2-c428-15c7b38744c7"
      },
      "outputs": [
        {
          "name": "stdout",
          "output_type": "stream",
          "text": [
            "+---+----------+-------------------+----------+-----+--------------------+-----------------------+-----------------+--------------+----------+---------------+-------+---------+-------------+-----+\n",
            "|_c0|responseid|          timestamp|   company|level|               title|totalyearlycompensation|yearsofexperience|yearsatcompany|basesalary|stockgrantvalue|  bonus|rowNumber|         city|state|\n",
            "+---+----------+-------------------+----------+-----+--------------------+-----------------------+-----------------+--------------+----------+---------------+-------+---------+-------------+-----+\n",
            "|  0|        A1|2017-06-07 11:33:00|    ORACLE|   L3|     Product Manager|                 127000|              1.5|           1.5|    107000|        20000.0|10000.0|        1| Redwood City|   CA|\n",
            "|  1|        A2|2017-06-10 17:11:00|      EBAY| SE 2|   Software Engineer|                 100000|              5.0|           3.0|         0|            0.0|    0.0|        2|San Francisco|   CA|\n",
            "|  2|        A3|2017-06-11 14:53:00|    AMAZON|   L7|     Product Manager|                 310000|              8.0|           0.0|    155000|            0.0|    0.0|        3|      Seattle|   WA|\n",
            "|  3|        A4|2017-06-17 00:23:00|     APPLE|   M1|Software Engineer...|                 372000|              7.0|           5.0|    157000|       180000.0|35000.0|        7|    Sunnyvale|   CA|\n",
            "|  4|        A5|2017-06-20 10:58:00| MICROSOFT|   60|   Software Engineer|                 157000|              5.0|           3.0|         0|            0.0|    0.0|        9|Mountain View|   CA|\n",
            "|  5|        A6|2017-06-21 17:27:00| MICROSOFT|   63|   Software Engineer|                 208000|              8.5|           8.5|         0|            0.0|    0.0|       11|      Seattle|   WA|\n",
            "|  6|        A7|2017-06-22 12:37:00| MICROSOFT|   65|Software Engineer...|                 300000|             15.0|          11.0|    180000|        65000.0|55000.0|       12|      Redmond|   WA|\n",
            "|  7|        A8|2017-06-22 13:55:00| MICROSOFT|   62|   Software Engineer|                 156000|              4.0|           4.0|    135000|         8000.0|13000.0|       13|      Seattle|   WA|\n",
            "|  8|        A9|2017-06-22 23:08:00| MICROSOFT|   59|   Software Engineer|                 120000|              3.0|           1.0|         0|            0.0|    0.0|       15|      Redmond|   WA|\n",
            "|  9|       A10|2017-06-26 21:25:00| MICROSOFT|   63|   Software Engineer|                 201000|             12.0|           6.0|    157000|        26000.0|28000.0|       16|      Seattle|   WA|\n",
            "| 10|       A11|2017-06-30 16:29:00|SALESFORCE|    9|Software Engineer...|                 450000|             16.0|           3.0|    230000|       100000.0|45000.0|       18|San Francisco|   CA|\n",
            "| 11|       A12|2017-07-02 14:16:00| MICROSOFT|Sde 2|   Software Engineer|                 155000|              5.0|           3.0|    126000|            0.0|    0.0|       19|     Bellevue|   WA|\n",
            "| 12|       A13|2017-07-03 19:28:00| MICROSOFT|   63|     Product Manager|                 150000|             10.0|          10.0|         0|            0.0|    0.0|       20|      Redmond|   WA|\n",
            "| 13|       A14|2017-07-07 22:29:00| MICROSOFT|   63|   Software Engineer|                 191000|              7.0|           7.0|    152000|        17000.0|22000.0|       21|      Seattle|   WA|\n",
            "| 14|       A15|2017-07-14 21:36:00|    AMAZON|   L6|Software Engineer...|                 287000|             12.0|           1.0|    160000|            0.0|    0.0|       23|      Seattle|   WA|\n",
            "| 15|       A16|2017-07-16 16:50:00|    AMAZON|   L5|   Software Engineer|                 218000|             10.0|           0.0|    150000|         7000.0|61000.0|       25|      Seattle|   WA|\n",
            "| 16|       A17|2017-07-20 22:35:00|  FACEBOOK|   E3|   Software Engineer|                 168000|              1.0|           1.0|         0|            0.0|    0.0|       27|   Menlo Park|   CA|\n",
            "| 17|       A18|2017-07-22 22:20:00|      UBER|   5a|   Software Engineer|                 160000|              9.0|           1.0|         0|            0.0|    0.0|       29|San Francisco|   CA|\n",
            "| 19|       A20|2017-07-24 23:14:00| MICROSOFT|   64|   Software Engineer|                 195000|              9.0|           9.0|         0|            0.0|    0.0|       31|      Redmond|   WA|\n",
            "| 20|       A21|2017-07-25 14:44:00|      OATH|  IC4|   Software Engineer|                 155000|              8.0|           7.0|    125000|        30000.0|15000.0|       33|    Sunnyvale|   CA|\n",
            "+---+----------+-------------------+----------+-----+--------------------+-----------------------+-----------------+--------------+----------+---------------+-------+---------+-------------+-----+\n",
            "only showing top 20 rows\n",
            "\n"
          ]
        }
      ],
      "source": [
        "# Read in data from S3 Buckets\n",
        "from pyspark import SparkFiles\n",
        "url=\"https://group-project-data-bucket.s3.amazonaws.com/clean_salary_data.csv\"\n",
        "spark.sparkContext.addFile(url)\n",
        "salary_data_df = spark.read.csv(SparkFiles.get(\"clean_salary_data.csv\"), sep=\",\", header=True, inferSchema=True)\n",
        "\n",
        "# Show DataFrame\n",
        "salary_data_df.show()"
      ]
    },
    {
      "cell_type": "code",
      "execution_count": 35,
      "metadata": {
        "colab": {
          "base_uri": "https://localhost:8080/"
        },
        "id": "8vLK11Q8AGo0",
        "outputId": "157e67fa-a69e-47c6-cbb6-cecf5cb33967"
      },
      "outputs": [
        {
          "name": "stdout",
          "output_type": "stream",
          "text": [
            "+---+----------+-------------------+-------+------------+--------------+----------------+----------------+----------+------------+----------+----------+----------------+----------+-------------+-------+---------+---------+\n",
            "|_c0|responseid|          timestamp| gender|otherdetails|Masters_Degree|Bachelors_Degree|Doctorate_Degree|Highschool|Some_College|Race_Asian|Race_White|Race_Two_Or_More|Race_Black|Race_Hispanic|   Race|Education|rowNumber|\n",
            "+---+----------+-------------------+-------+------------+--------------+----------------+----------------+----------+------------+----------+----------+----------------+----------+-------------+-------+---------+---------+\n",
            "|  0|        A1|2017-06-07 11:33:00|Unknown|     Unknown|             0|               0|               0|         0|           0|         0|         0|               0|         0|            0|Unknown|  Unknown|        1|\n",
            "|  1|        A2|2017-06-10 17:11:00|Unknown|     Unknown|             0|               0|               0|         0|           0|         0|         0|               0|         0|            0|Unknown|  Unknown|        2|\n",
            "|  2|        A3|2017-06-11 14:53:00|Unknown|     Unknown|             0|               0|               0|         0|           0|         0|         0|               0|         0|            0|Unknown|  Unknown|        3|\n",
            "|  3|        A4|2017-06-17 00:23:00|Unknown|     Unknown|             0|               0|               0|         0|           0|         0|         0|               0|         0|            0|Unknown|  Unknown|        7|\n",
            "|  4|        A5|2017-06-20 10:58:00|Unknown|     Unknown|             0|               0|               0|         0|           0|         0|         0|               0|         0|            0|Unknown|  Unknown|        9|\n",
            "|  5|        A6|2017-06-21 17:27:00|Unknown|     Unknown|             0|               0|               0|         0|           0|         0|         0|               0|         0|            0|Unknown|  Unknown|       11|\n",
            "|  6|        A7|2017-06-22 12:37:00|Unknown|     Unknown|             0|               0|               0|         0|           0|         0|         0|               0|         0|            0|Unknown|  Unknown|       12|\n",
            "|  7|        A8|2017-06-22 13:55:00|Unknown|     Unknown|             0|               0|               0|         0|           0|         0|         0|               0|         0|            0|Unknown|  Unknown|       13|\n",
            "|  8|        A9|2017-06-22 23:08:00|Unknown|     Unknown|             0|               0|               0|         0|           0|         0|         0|               0|         0|            0|Unknown|  Unknown|       15|\n",
            "|  9|       A10|2017-06-26 21:25:00|Unknown|     Unknown|             0|               0|               0|         0|           0|         0|         0|               0|         0|            0|Unknown|  Unknown|       16|\n",
            "| 10|       A11|2017-06-30 16:29:00|Unknown|     Unknown|             0|               0|               0|         0|           0|         0|         0|               0|         0|            0|Unknown|  Unknown|       18|\n",
            "| 11|       A12|2017-07-02 14:16:00|Unknown|     Unknown|             0|               0|               0|         0|           0|         0|         0|               0|         0|            0|Unknown|  Unknown|       19|\n",
            "| 12|       A13|2017-07-03 19:28:00|Unknown|     Unknown|             0|               0|               0|         0|           0|         0|         0|               0|         0|            0|Unknown|  Unknown|       20|\n",
            "| 13|       A14|2017-07-07 22:29:00|Unknown|     Unknown|             0|               0|               0|         0|           0|         0|         0|               0|         0|            0|Unknown|  Unknown|       21|\n",
            "| 14|       A15|2017-07-14 21:36:00|Unknown|     Unknown|             0|               0|               0|         0|           0|         0|         0|               0|         0|            0|Unknown|  Unknown|       23|\n",
            "| 15|       A16|2017-07-16 16:50:00|Unknown|     Unknown|             0|               0|               0|         0|           0|         0|         0|               0|         0|            0|Unknown|  Unknown|       25|\n",
            "| 16|       A17|2017-07-20 22:35:00|Unknown|     Unknown|             0|               0|               0|         0|           0|         0|         0|               0|         0|            0|Unknown|  Unknown|       27|\n",
            "| 17|       A18|2017-07-22 22:20:00|Unknown|     Unknown|             0|               0|               0|         0|           0|         0|         0|               0|         0|            0|Unknown|  Unknown|       29|\n",
            "| 18|       A19|2017-07-24 12:21:00|Unknown|     Unknown|             0|               0|               0|         0|           0|         0|         0|               0|         0|            0|Unknown|  Unknown|       30|\n",
            "| 19|       A20|2017-07-24 23:14:00|Unknown|     Unknown|             0|               0|               0|         0|           0|         0|         0|               0|         0|            0|Unknown|  Unknown|       31|\n",
            "+---+----------+-------------------+-------+------------+--------------+----------------+----------------+----------+------------+----------+----------+----------------+----------+-------------+-------+---------+---------+\n",
            "only showing top 20 rows\n",
            "\n"
          ]
        }
      ],
      "source": [
        "# Read in data from S3 Buckets\n",
        "from pyspark import SparkFiles\n",
        "url=\"https://group-project-data-bucket.s3.amazonaws.com/clean_participants_data.csv\"\n",
        "spark.sparkContext.addFile(url)\n",
        "participants_data_df = spark.read.csv(SparkFiles.get(\"clean_participants_data.csv\"), sep=\",\", header=True, inferSchema=True)\n",
        "\n",
        "# Show DataFrame\n",
        "participants_data_df.show()"
      ]
    },
    {
      "cell_type": "code",
      "execution_count": 36,
      "metadata": {
        "colab": {
          "base_uri": "https://localhost:8080/"
        },
        "id": "hO3rCQppAKHJ",
        "outputId": "976c60ad-c8e2-4088-f121-b1fe1e5abf5c"
      },
      "outputs": [
        {
          "name": "stdout",
          "output_type": "stream",
          "text": [
            "+---+----------+-------------------+-------+--------------------+--------------+----------------+----------------+----------+------------+----------+----------+----------------+----------+-------------+-------+---------+---------+\n",
            "|_c0|responseid|          timestamp| gender|        otherdetails|Masters_Degree|Bachelors_Degree|Doctorate_Degree|Highschool|Some_College|Race_Asian|Race_White|Race_Two_Or_More|Race_Black|Race_Hispanic|   Race|Education|rowNumber|\n",
            "+---+----------+-------------------+-------+--------------------+--------------+----------------+----------------+----------+------------+----------+----------+----------------+----------+-------------+-------+---------+---------+\n",
            "|  0|        A1|2017-06-07 11:33:00|Unknown|             Unknown|             0|               0|               0|         0|           0|         0|         0|               0|         0|            0|Unknown|  Unknown|        1|\n",
            "|  1|        A2|2017-06-10 17:11:00|Unknown|             Unknown|             0|               0|               0|         0|           0|         0|         0|               0|         0|            0|Unknown|  Unknown|        2|\n",
            "|  2|        A3|2017-06-11 14:53:00|Unknown|             Unknown|             0|               0|               0|         0|           0|         0|         0|               0|         0|            0|Unknown|  Unknown|        3|\n",
            "|  3|        A4|2017-06-17 00:23:00|Unknown|             Unknown|             0|               0|               0|         0|           0|         0|         0|               0|         0|            0|Unknown|  Unknown|        7|\n",
            "|  4|        A5|2017-06-20 10:58:00|Unknown|             Unknown|             0|               0|               0|         0|           0|         0|         0|               0|         0|            0|Unknown|  Unknown|        9|\n",
            "|  5|        A6|2017-06-21 17:27:00|Unknown|             Unknown|             0|               0|               0|         0|           0|         0|         0|               0|         0|            0|Unknown|  Unknown|       11|\n",
            "|  6|        A7|2017-06-22 12:37:00|Unknown|             Unknown|             0|               0|               0|         0|           0|         0|         0|               0|         0|            0|Unknown|  Unknown|       12|\n",
            "|  7|        A8|2017-06-22 13:55:00|Unknown|             Unknown|             0|               0|               0|         0|           0|         0|         0|               0|         0|            0|Unknown|  Unknown|       13|\n",
            "|  8|        A9|2017-06-22 23:08:00|Unknown|             Unknown|             0|               0|               0|         0|           0|         0|         0|               0|         0|            0|Unknown|  Unknown|       15|\n",
            "|  9|       A10|2017-06-26 21:25:00|Unknown|             Unknown|             0|               0|               0|         0|           0|         0|         0|               0|         0|            0|Unknown|  Unknown|       16|\n",
            "| 10|       A11|2017-06-30 16:29:00|Unknown|             Unknown|             0|               0|               0|         0|           0|         0|         0|               0|         0|            0|Unknown|  Unknown|       18|\n",
            "| 11|       A12|2017-07-02 14:16:00|Unknown|             Unknown|             0|               0|               0|         0|           0|         0|         0|               0|         0|            0|Unknown|  Unknown|       19|\n",
            "| 12|       A13|2017-07-03 19:28:00|Unknown|             Unknown|             0|               0|               0|         0|           0|         0|         0|               0|         0|            0|Unknown|  Unknown|       20|\n",
            "| 13|       A14|2017-07-07 22:29:00|Unknown|             Unknown|             0|               0|               0|         0|           0|         0|         0|               0|         0|            0|Unknown|  Unknown|       21|\n",
            "| 14|       A15|2017-07-14 21:36:00|Unknown|             Unknown|             0|               0|               0|         0|           0|         0|         0|               0|         0|            0|Unknown|  Unknown|       23|\n",
            "| 15|       A16|2017-07-16 16:50:00|Unknown|             Unknown|             0|               0|               0|         0|           0|         0|         0|               0|         0|            0|Unknown|  Unknown|       25|\n",
            "| 16|       A17|2017-07-20 22:35:00|Unknown|             Unknown|             0|               0|               0|         0|           0|         0|         0|               0|         0|            0|Unknown|  Unknown|       27|\n",
            "| 17|       A18|2017-07-22 22:20:00|Unknown|             Unknown|             0|               0|               0|         0|           0|         0|         0|               0|         0|            0|Unknown|  Unknown|       29|\n",
            "| 18|       A19|2017-07-24 12:21:00|Unknown|             Unknown|             0|               0|               0|         0|           0|         0|         0|               0|         0|            0|Unknown|  Unknown|       30|\n",
            "| 19|       A20|2017-07-24 23:14:00|Unknown|             Unknown|             0|               0|               0|         0|           0|         0|         0|               0|         0|            0|Unknown|  Unknown|       31|\n",
            "| 20|       A21|2017-07-25 14:44:00|Unknown|             Unknown|             0|               0|               0|         0|           0|         0|         0|               0|         0|            0|Unknown|  Unknown|       33|\n",
            "| 21|       A22|2017-07-29 19:56:00|Unknown|             Unknown|             0|               0|               0|         0|           0|         0|         0|               0|         0|            0|Unknown|  Unknown|       37|\n",
            "| 22|       A23|2017-07-31 15:54:00|Unknown|             Unknown|             0|               0|               0|         0|           0|         0|         0|               0|         0|            0|Unknown|  Unknown|       38|\n",
            "| 23|       A24|2017-07-31 15:55:00|Unknown|             Unknown|             0|               0|               0|         0|           0|         0|         0|               0|         0|            0|Unknown|  Unknown|       39|\n",
            "| 24|       A25|2017-08-01 13:46:00|Unknown|             Unknown|             0|               0|               0|         0|           0|         0|         0|               0|         0|            0|Unknown|  Unknown|       41|\n",
            "| 25|       A26|2017-08-04 11:04:00|Unknown|             Unknown|             0|               0|               0|         0|           0|         0|         0|               0|         0|            0|Unknown|  Unknown|       43|\n",
            "| 26|       A27|2017-08-06 22:23:00|Unknown|             Unknown|             0|               0|               0|         0|           0|         0|         0|               0|         0|            0|Unknown|  Unknown|       45|\n",
            "| 27|       A28|2017-08-06 22:26:00|Unknown|             Unknown|             0|               0|               0|         0|           0|         0|         0|               0|         0|            0|Unknown|  Unknown|       46|\n",
            "| 28|       A29|2017-08-07 02:08:00|Unknown|             Unknown|             0|               0|               0|         0|           0|         0|         0|               0|         0|            0|Unknown|  Unknown|       48|\n",
            "| 29|       A30|2017-08-07 11:19:00|Unknown|             Unknown|             0|               0|               0|         0|           0|         0|         0|               0|         0|            0|Unknown|  Unknown|       49|\n",
            "| 30|       A31|2017-08-08 05:54:00|Unknown|             Unknown|             0|               0|               0|         0|           0|         0|         0|               0|         0|            0|Unknown|  Unknown|       50|\n",
            "| 31|       A32|2017-08-08 14:14:00|Unknown|             Unknown|             0|               0|               0|         0|           0|         0|         0|               0|         0|            0|Unknown|  Unknown|       51|\n",
            "| 32|       A33|2017-08-10 18:05:00|Unknown|    Tons of overtime|             0|               0|               0|         0|           0|         0|         0|               0|         0|            0|Unknown|  Unknown|       52|\n",
            "| 33|       A34|2017-08-13 10:57:00|Unknown|             Unknown|             0|               0|               0|         0|           0|         0|         0|               0|         0|            0|Unknown|  Unknown|       53|\n",
            "| 34|       A35|2017-08-16 19:25:00|Unknown|             Unknown|             0|               0|               0|         0|           0|         0|         0|               0|         0|            0|Unknown|  Unknown|       54|\n",
            "| 35|       A36|2017-08-17 12:45:00|Unknown|             Unknown|             0|               0|               0|         0|           0|         0|         0|               0|         0|            0|Unknown|  Unknown|       55|\n",
            "| 36|       A37|2017-08-18 21:57:00|Unknown|             Unknown|             0|               0|               0|         0|           0|         0|         0|               0|         0|            0|Unknown|  Unknown|       57|\n",
            "| 37|       A38|2017-08-20 01:20:00|Unknown|             Unknown|             0|               0|               0|         0|           0|         0|         0|               0|         0|            0|Unknown|  Unknown|       58|\n",
            "| 38|       A39|2017-08-22 18:42:00|Unknown|             Unknown|             0|               0|               0|         0|           0|         0|         0|               0|         0|            0|Unknown|  Unknown|       62|\n",
            "| 39|       A40|2017-08-23 16:49:00|Unknown|             Unknown|             0|               0|               0|         0|           0|         0|         0|               0|         0|            0|Unknown|  Unknown|       63|\n",
            "| 40|       A41|2017-08-24 07:22:00|Unknown|             Unknown|             0|               0|               0|         0|           0|         0|         0|               0|         0|            0|Unknown|  Unknown|       65|\n",
            "| 41|       A42|2017-08-24 18:01:00|Unknown|             Unknown|             0|               0|               0|         0|           0|         0|         0|               0|         0|            0|Unknown|  Unknown|       67|\n",
            "| 42|       A43|2017-08-24 23:13:00|Unknown|             Unknown|             0|               0|               0|         0|           0|         0|         0|               0|         0|            0|Unknown|  Unknown|       68|\n",
            "| 43|       A44|2017-08-24 23:55:00|Unknown|             Unknown|             0|               0|               0|         0|           0|         0|         0|               0|         0|            0|Unknown|  Unknown|       70|\n",
            "| 44|       A45|2017-08-29 22:13:00|Unknown|             Unknown|             0|               0|               0|         0|           0|         0|         0|               0|         0|            0|Unknown|  Unknown|       71|\n",
            "| 45|       A46|2017-08-31 08:43:00|Unknown|             Unknown|             0|               0|               0|         0|           0|         0|         0|               0|         0|            0|Unknown|  Unknown|       73|\n",
            "| 46|       A47|2017-09-01 12:09:00|Unknown|                 PhD|             0|               0|               1|         0|           0|         0|         0|               0|         0|            0|Unknown|      PhD|       75|\n",
            "| 47|       A48|2017-09-01 23:17:00|Unknown|             Unknown|             0|               0|               0|         0|           0|         0|         0|               0|         0|            0|Unknown|  Unknown|       76|\n",
            "| 48|       A49|2017-09-04 14:17:00|Unknown|             Unknown|             0|               0|               0|         0|           0|         0|         0|               0|         0|            0|Unknown|  Unknown|       77|\n",
            "| 49|       A50|2017-09-04 18:42:00|Unknown|             Unknown|             0|               0|               0|         0|           0|         0|         0|               0|         0|            0|Unknown|  Unknown|       78|\n",
            "| 50|       A51|2017-09-06 15:38:00|Unknown|             Unknown|             0|               0|               0|         0|           0|         0|         0|               0|         0|            0|Unknown|  Unknown|       79|\n",
            "| 51|       A52|2017-09-07 15:55:00|Unknown|             Unknown|             0|               0|               0|         0|           0|         0|         0|               0|         0|            0|Unknown|  Unknown|       80|\n",
            "| 52|       A53|2017-09-08 13:55:00|Unknown|             Unknown|             0|               0|               0|         0|           0|         0|         0|               0|         0|            0|Unknown|  Unknown|       81|\n",
            "| 53|       A54|2017-09-08 13:57:00|Unknown|             Unknown|             0|               0|               0|         0|           0|         0|         0|               0|         0|            0|Unknown|  Unknown|       82|\n",
            "| 54|       A55|2017-09-08 16:41:00|Unknown|             Unknown|             0|               0|               0|         0|           0|         0|         0|               0|         0|            0|Unknown|  Unknown|       84|\n",
            "| 55|       A56|2017-09-08 18:11:00|Unknown|             Unknown|             0|               0|               0|         0|           0|         0|         0|               0|         0|            0|Unknown|  Unknown|       86|\n",
            "| 56|       A57|2017-09-08 20:32:00|Unknown|             Unknown|             0|               0|               0|         0|           0|         0|         0|               0|         0|            0|Unknown|  Unknown|       88|\n",
            "| 57|       A58|2017-09-08 22:05:00|Unknown|             Unknown|             0|               0|               0|         0|           0|         0|         0|               0|         0|            0|Unknown|  Unknown|       89|\n",
            "| 58|       A59|2017-09-08 22:42:00|Unknown|How do I access r...|             0|               0|               0|         0|           0|         0|         0|               0|         0|            0|Unknown|  Unknown|       90|\n",
            "| 59|       A60|2017-09-08 23:40:00|Unknown|             Unknown|             0|               0|               0|         0|           0|         0|         0|               0|         0|            0|Unknown|  Unknown|       91|\n",
            "| 60|       A61|2017-09-09 08:56:00|Unknown|   Year 2 bonus, 24k|             0|               0|               0|         0|           0|         0|         0|               0|         0|            0|Unknown|  Unknown|       93|\n",
            "| 61|       A62|2017-09-09 16:15:00|Unknown|             Unknown|             0|               0|               0|         0|           0|         0|         0|               0|         0|            0|Unknown|  Unknown|       94|\n",
            "| 62|       A63|2017-09-10 19:28:00|Unknown|             Unknown|             0|               0|               0|         0|           0|         0|         0|               0|         0|            0|Unknown|  Unknown|       96|\n",
            "| 63|       A64|2017-09-11 01:00:00|Unknown|             Unknown|             0|               0|               0|         0|           0|         0|         0|               0|         0|            0|Unknown|  Unknown|       97|\n",
            "| 64|       A65|2017-09-11 13:51:00|Unknown|             Unknown|             0|               0|               0|         0|           0|         0|         0|               0|         0|            0|Unknown|  Unknown|       98|\n",
            "| 66|       A67|2017-09-26 00:30:00|Unknown|             Unknown|             0|               0|               0|         0|           0|         0|         0|               0|         0|            0|Unknown|  Unknown|      103|\n",
            "| 67|       A68|2017-09-28 22:45:00|Unknown|             Unknown|             0|               0|               0|         0|           0|         0|         0|               0|         0|            0|Unknown|  Unknown|      104|\n",
            "| 68|       A69|2017-10-02 10:17:00|Unknown|Refresh equity on...|             0|               0|               0|         0|           0|         0|         0|               0|         0|            0|Unknown|  Unknown|      105|\n",
            "| 69|       A70|2017-10-03 11:15:00|Unknown|401k match, ESPP,...|             0|               0|               0|         0|           0|         0|         0|               0|         0|            0|Unknown|  Unknown|      106|\n",
            "| 70|       A71|2017-10-03 12:56:00|Unknown|             Unknown|             0|               0|               0|         0|           0|         0|         0|               0|         0|            0|Unknown|  Unknown|      107|\n",
            "| 71|       A72|2017-10-06 11:45:00|Unknown|             Unknown|             0|               0|               0|         0|           0|         0|         0|               0|         0|            0|Unknown|  Unknown|      109|\n",
            "| 72|       A73|2017-10-06 17:32:00|Unknown|             Unknown|             0|               0|               0|         0|           0|         0|         0|               0|         0|            0|Unknown|  Unknown|      110|\n",
            "| 73|       A74|2017-10-06 17:34:00|Unknown|             Unknown|             0|               0|               0|         0|           0|         0|         0|               0|         0|            0|Unknown|  Unknown|      111|\n",
            "| 74|       A75|2017-10-06 22:09:00|Unknown|             Unknown|             0|               0|               0|         0|           0|         0|         0|               0|         0|            0|Unknown|  Unknown|      112|\n",
            "| 75|       A76|2017-10-06 23:08:00|Unknown|             Unknown|             0|               0|               0|         0|           0|         0|         0|               0|         0|            0|Unknown|  Unknown|      113|\n",
            "| 76|       A77|2017-10-08 23:59:00|Unknown|             Unknown|             0|               0|               0|         0|           0|         0|         0|               0|         0|            0|Unknown|  Unknown|      114|\n",
            "| 77|       A78|2017-10-11 06:24:00|Unknown|ESPP face value i...|             0|               0|               0|         0|           0|         0|         0|               0|         0|            0|Unknown|  Unknown|      116|\n",
            "| 78|       A79|2017-10-15 12:08:00|Unknown|             Unknown|             0|               0|               0|         0|           0|         0|         0|               0|         0|            0|Unknown|  Unknown|      120|\n",
            "| 79|       A80|2017-10-15 23:57:00|Unknown|             Unknown|             0|               0|               0|         0|           0|         0|         0|               0|         0|            0|Unknown|  Unknown|      121|\n",
            "| 80|       A81|2017-10-19 01:31:00|Unknown|             Unknown|             0|               0|               0|         0|           0|         0|         0|               0|         0|            0|Unknown|  Unknown|      124|\n",
            "| 81|       A82|2017-10-19 14:23:00|Unknown|             Unknown|             0|               0|               0|         0|           0|         0|         0|               0|         0|            0|Unknown|  Unknown|      125|\n",
            "| 82|       A83|2017-10-19 15:34:00|Unknown|             Unknown|             0|               0|               0|         0|           0|         0|         0|               0|         0|            0|Unknown|  Unknown|      126|\n",
            "| 83|       A84|2017-10-20 07:31:00|Unknown|             Unknown|             0|               0|               0|         0|           0|         0|         0|               0|         0|            0|Unknown|  Unknown|      127|\n",
            "| 84|       A85|2017-10-22 11:42:00|Unknown|             Unknown|             0|               0|               0|         0|           0|         0|         0|               0|         0|            0|Unknown|  Unknown|      129|\n",
            "| 85|       A86|2017-10-22 23:52:00|Unknown|             Unknown|             0|               0|               0|         0|           0|         0|         0|               0|         0|            0|Unknown|  Unknown|      130|\n",
            "| 86|       A87|2017-10-25 10:30:00|Unknown|             Unknown|             0|               0|               0|         0|           0|         0|         0|               0|         0|            0|Unknown|  Unknown|      131|\n",
            "| 87|       A88|2017-10-29 11:09:00|Unknown|             Unknown|             0|               0|               0|         0|           0|         0|         0|               0|         0|            0|Unknown|  Unknown|      134|\n",
            "| 88|       A89|2017-10-31 23:05:00|Unknown|             Unknown|             0|               0|               0|         0|           0|         0|         0|               0|         0|            0|Unknown|  Unknown|      136|\n",
            "| 89|       A90|2017-11-03 19:32:00|Unknown|             Unknown|             0|               0|               0|         0|           0|         0|         0|               0|         0|            0|Unknown|  Unknown|      138|\n",
            "| 90|       A91|2017-11-05 01:26:00|Unknown|             Unknown|             0|               0|               0|         0|           0|         0|         0|               0|         0|            0|Unknown|  Unknown|      140|\n",
            "| 91|       A92|2017-11-09 13:12:00|Unknown|             Unknown|             0|               0|               0|         0|           0|         0|         0|               0|         0|            0|Unknown|  Unknown|      143|\n",
            "| 92|       A93|2017-11-09 19:02:00|Unknown|             Unknown|             0|               0|               0|         0|           0|         0|         0|               0|         0|            0|Unknown|  Unknown|      144|\n",
            "| 93|       A94|2017-11-14 05:57:00|Unknown|             Unknown|             0|               0|               0|         0|           0|         0|         0|               0|         0|            0|Unknown|  Unknown|      145|\n",
            "| 94|       A95|2017-11-14 20:39:00|Unknown|             Unknown|             0|               0|               0|         0|           0|         0|         0|               0|         0|            0|Unknown|  Unknown|      146|\n",
            "| 95|       A96|2017-11-15 10:25:00|Unknown|             Unknown|             0|               0|               0|         0|           0|         0|         0|               0|         0|            0|Unknown|  Unknown|      147|\n",
            "| 96|       A97|2017-11-16 18:40:00|Unknown|Bonus includes on...|             0|               0|               0|         0|           0|         0|         0|               0|         0|            0|Unknown|  Unknown|      149|\n",
            "| 97|       A98|2017-11-18 12:46:00|Unknown|40K signon for years|             0|               0|               0|         0|           0|         0|         0|               0|         0|            0|Unknown|  Unknown|      152|\n",
            "| 98|       A99|2017-11-20 14:46:00|Unknown|             Unknown|             0|               0|               0|         0|           0|         0|         0|               0|         0|            0|Unknown|  Unknown|      155|\n",
            "| 99|      A100|2017-11-24 13:53:00|Unknown|             Unknown|             0|               0|               0|         0|           0|         0|         0|               0|         0|            0|Unknown|  Unknown|      158|\n",
            "|100|      A101|2017-11-26 10:24:00|Unknown|             Unknown|             0|               0|               0|         0|           0|         0|         0|               0|         0|            0|Unknown|  Unknown|      160|\n",
            "|101|      A102|2017-11-29 10:36:00|Unknown|             Unknown|             0|               0|               0|         0|           0|         0|         0|               0|         0|            0|Unknown|  Unknown|      161|\n",
            "|102|      A103|2017-11-30 22:47:00|Unknown|             Unknown|             0|               0|               0|         0|           0|         0|         0|               0|         0|            0|Unknown|  Unknown|      166|\n",
            "|103|      A104|2017-12-03 13:37:00|Unknown|             Unknown|             0|               0|               0|         0|           0|         0|         0|               0|         0|            0|Unknown|  Unknown|      167|\n",
            "|104|      A105|2017-12-05 17:51:00|Unknown|             Unknown|             0|               0|               0|         0|           0|         0|         0|               0|         0|            0|Unknown|  Unknown|      169|\n",
            "|105|      A106|2017-12-06 10:19:00|Unknown|             Unknown|             0|               0|               0|         0|           0|         0|         0|               0|         0|            0|Unknown|  Unknown|      170|\n",
            "|106|      A107|2017-12-07 03:57:00|Unknown|             Unknown|             0|               0|               0|         0|           0|         0|         0|               0|         0|            0|Unknown|  Unknown|      173|\n",
            "|107|      A108|2017-12-14 22:26:00|Unknown|             Unknown|             0|               0|               0|         0|           0|         0|         0|               0|         0|            0|Unknown|  Unknown|      175|\n",
            "|108|      A109|2017-12-15 15:36:00|Unknown|             Unknown|             0|               0|               0|         0|           0|         0|         0|               0|         0|            0|Unknown|  Unknown|      176|\n",
            "|109|      A110|2017-12-18 16:51:00|Unknown|             Unknown|             0|               0|               0|         0|           0|         0|         0|               0|         0|            0|Unknown|  Unknown|      177|\n",
            "|110|      A111|2017-12-18 21:49:00|Unknown|             Unknown|             0|               0|               0|         0|           0|         0|         0|               0|         0|            0|Unknown|  Unknown|      178|\n",
            "|111|      A112|2017-12-22 17:27:00|Unknown|             Unknown|             0|               0|               0|         0|           0|         0|         0|               0|         0|            0|Unknown|  Unknown|      180|\n",
            "|112|      A113|2017-12-23 23:11:00|Unknown|             Unknown|             0|               0|               0|         0|           0|         0|         0|               0|         0|            0|Unknown|  Unknown|      184|\n",
            "|113|      A114|2017-12-27 20:39:00|Unknown|             Unknown|             0|               0|               0|         0|           0|         0|         0|               0|         0|            0|Unknown|  Unknown|      189|\n",
            "|114|      A115|2017-12-28 01:43:00|Unknown|             Unknown|             0|               0|               0|         0|           0|         0|         0|               0|         0|            0|Unknown|  Unknown|      191|\n",
            "|115|      A116|2017-12-28 13:02:00|Unknown|             Unknown|             0|               0|               0|         0|           0|         0|         0|               0|         0|            0|Unknown|  Unknown|      192|\n",
            "|116|      A117|2017-12-29 14:37:00|Unknown|           outsource|             0|               0|               0|         0|           0|         0|         0|               0|         0|            0|Unknown|  Unknown|      194|\n",
            "|117|      A118|2018-01-02 23:26:00|Unknown|      10k relocation|             0|               0|               0|         0|           0|         0|         0|               0|         0|            0|Unknown|  Unknown|      199|\n",
            "|118|      A119|2018-01-03 08:42:00|Unknown|             Unknown|             0|               0|               0|         0|           0|         0|         0|               0|         0|            0|Unknown|  Unknown|      200|\n",
            "|119|      A120|2018-01-04 12:14:00|Unknown|             Unknown|             0|               0|               0|         0|           0|         0|         0|               0|         0|            0|Unknown|  Unknown|      206|\n",
            "|120|      A121|2018-01-04 18:16:00|Unknown|             Unknown|             0|               0|               0|         0|           0|         0|         0|               0|         0|            0|Unknown|  Unknown|      207|\n",
            "|121|      A122|2018-01-04 18:57:00|Unknown|             Unknown|             0|               0|               0|         0|           0|         0|         0|               0|         0|            0|Unknown|  Unknown|      208|\n",
            "|122|      A123|2018-01-05 09:09:00|Unknown|             Unknown|             0|               0|               0|         0|           0|         0|         0|               0|         0|            0|Unknown|  Unknown|      210|\n",
            "|123|      A124|2018-01-09 23:20:00|Unknown|             Unknown|             0|               0|               0|         0|           0|         0|         0|               0|         0|            0|Unknown|  Unknown|      217|\n",
            "|124|      A125|2018-01-11 00:00:00|Unknown|             Unknown|             0|               0|               0|         0|           0|         0|         0|               0|         0|            0|Unknown|  Unknown|      218|\n",
            "|125|      A126|2018-01-11 15:44:00|Unknown|             Unknown|             0|               0|               0|         0|           0|         0|         0|               0|         0|            0|Unknown|  Unknown|      219|\n",
            "|126|      A127|2018-01-12 00:52:00|Unknown|             Unknown|             0|               0|               0|         0|           0|         0|         0|               0|         0|            0|Unknown|  Unknown|      220|\n",
            "|127|      A128|2018-01-12 16:58:00|Unknown|             Unknown|             0|               0|               0|         0|           0|         0|         0|               0|         0|            0|Unknown|  Unknown|      221|\n",
            "|128|      A129|2018-01-12 21:05:00|Unknown|             Unknown|             0|               0|               0|         0|           0|         0|         0|               0|         0|            0|Unknown|  Unknown|      222|\n",
            "|129|      A130|2018-01-13 17:55:00|Unknown|             Unknown|             0|               0|               0|         0|           0|         0|         0|               0|         0|            0|Unknown|  Unknown|      223|\n",
            "|130|      A131|2018-01-13 17:56:00|Unknown|             Unknown|             0|               0|               0|         0|           0|         0|         0|               0|         0|            0|Unknown|  Unknown|      224|\n",
            "|131|      A132|2018-01-17 14:13:00|Unknown|             Unknown|             0|               0|               0|         0|           0|         0|         0|               0|         0|            0|Unknown|  Unknown|      228|\n",
            "|132|      A133|2018-01-17 18:40:00|Unknown|Return internship...|             0|               0|               0|         0|           0|         0|         0|               0|         0|            0|Unknown|  Unknown|      230|\n",
            "|133|      A134|2018-01-18 00:48:00|Unknown|             Unknown|             0|               0|               0|         0|           0|         0|         0|               0|         0|            0|Unknown|  Unknown|      232|\n",
            "|134|      A135|2018-01-20 22:35:00|Unknown|Stock vesting is ...|             0|               0|               0|         0|           0|         0|         0|               0|         0|            0|Unknown|  Unknown|      234|\n",
            "|135|      A136|2018-01-23 10:51:00|Unknown|             Unknown|             0|               0|               0|         0|           0|         0|         0|               0|         0|            0|Unknown|  Unknown|      237|\n",
            "|136|      A137|2018-01-23 12:23:00|Unknown|             Unknown|             0|               0|               0|         0|           0|         0|         0|               0|         0|            0|Unknown|  Unknown|      238|\n",
            "|137|      A138|2018-01-23 13:13:00|Unknown|             Unknown|             0|               0|               0|         0|           0|         0|         0|               0|         0|            0|Unknown|  Unknown|      239|\n",
            "|138|      A139|2018-01-23 19:34:00|Unknown|             Unknown|             0|               0|               0|         0|           0|         0|         0|               0|         0|            0|Unknown|  Unknown|      241|\n",
            "|139|      A140|2018-01-24 04:51:00|Unknown|             Unknown|             0|               0|               0|         0|           0|         0|         0|               0|         0|            0|Unknown|  Unknown|      242|\n",
            "|140|      A141|2018-01-24 23:12:00|Unknown|             Unknown|             0|               0|               0|         0|           0|         0|         0|               0|         0|            0|Unknown|  Unknown|      244|\n",
            "|141|      A142|2018-01-27 09:14:00|Unknown|             Unknown|             0|               0|               0|         0|           0|         0|         0|               0|         0|            0|Unknown|  Unknown|      249|\n",
            "|142|      A143|2018-01-28 19:55:00|Unknown|             Unknown|             0|               0|               0|         0|           0|         0|         0|               0|         0|            0|Unknown|  Unknown|      251|\n",
            "|143|      A144|2018-01-28 21:30:00|Unknown|             Unknown|             0|               0|               0|         0|           0|         0|         0|               0|         0|            0|Unknown|  Unknown|      252|\n",
            "|144|      A145|2018-01-31 06:05:00|Unknown|             Unknown|             0|               0|               0|         0|           0|         0|         0|               0|         0|            0|Unknown|  Unknown|      257|\n",
            "|145|      A146|2018-01-31 11:33:00|Unknown|             Unknown|             0|               0|               0|         0|           0|         0|         0|               0|         0|            0|Unknown|  Unknown|      259|\n",
            "|146|      A147|2018-02-01 13:12:00|Unknown|             Unknown|             0|               0|               0|         0|           0|         0|         0|               0|         0|            0|Unknown|  Unknown|      264|\n",
            "|147|      A148|2018-02-01 13:36:00|Unknown|             Unknown|             0|               0|               0|         0|           0|         0|         0|               0|         0|            0|Unknown|  Unknown|      265|\n",
            "|148|      A149|2018-02-01 21:13:00|Unknown|             Unknown|             0|               0|               0|         0|           0|         0|         0|               0|         0|            0|Unknown|  Unknown|      266|\n",
            "|149|      A150|2018-02-02 17:36:00|Unknown|             Unknown|             0|               0|               0|         0|           0|         0|         0|               0|         0|            0|Unknown|  Unknown|      267|\n",
            "|150|      A151|2018-02-03 15:42:00|Unknown|             Unknown|             0|               0|               0|         0|           0|         0|         0|               0|         0|            0|Unknown|  Unknown|      270|\n",
            "|151|      A152|2018-02-04 12:05:00|Unknown|             Unknown|             0|               0|               0|         0|           0|         0|         0|               0|         0|            0|Unknown|  Unknown|      272|\n",
            "|152|      A153|2018-02-06 18:36:00|Unknown|             Unknown|             0|               0|               0|         0|           0|         0|         0|               0|         0|            0|Unknown|  Unknown|      280|\n",
            "|153|      A154|2018-02-06 19:42:00|Unknown|             Unknown|             0|               0|               0|         0|           0|         0|         0|               0|         0|            0|Unknown|  Unknown|      281|\n",
            "|154|      A155|2018-02-06 22:49:00|Unknown|options: 00.04% s...|             0|               0|               0|         0|           0|         0|         0|               0|         0|            0|Unknown|  Unknown|      282|\n",
            "|155|      A156|2018-02-07 15:32:00|Unknown|             Unknown|             0|               0|               0|         0|           0|         0|         0|               0|         0|            0|Unknown|  Unknown|      284|\n",
            "|156|      A157|2018-02-08 07:46:00|Unknown|             Unknown|             0|               0|               0|         0|           0|         0|         0|               0|         0|            0|Unknown|  Unknown|      287|\n",
            "|157|      A158|2018-02-08 10:20:00|Unknown|Stock is options ...|             0|               0|               0|         0|           0|         0|         0|               0|         0|            0|Unknown|  Unknown|      288|\n",
            "|158|      A159|2018-02-08 15:39:00|Unknown|             Unknown|             0|               0|               0|         0|           0|         0|         0|               0|         0|            0|Unknown|  Unknown|      289|\n",
            "|159|      A160|2018-02-09 00:53:00|Unknown|             Unknown|             0|               0|               0|         0|           0|         0|         0|               0|         0|            0|Unknown|  Unknown|      290|\n",
            "|160|      A161|2018-02-09 15:06:00|Unknown|             Unknown|             0|               0|               0|         0|           0|         0|         0|               0|         0|            0|Unknown|  Unknown|      291|\n",
            "|161|      A162|2018-02-10 13:23:00|Unknown|             Unknown|             0|               0|               0|         0|           0|         0|         0|               0|         0|            0|Unknown|  Unknown|      294|\n",
            "|162|      A163|2018-02-10 17:04:00|Unknown|             Unknown|             0|               0|               0|         0|           0|         0|         0|               0|         0|            0|Unknown|  Unknown|      295|\n",
            "|163|      A164|2018-02-10 22:58:00|Unknown|             Unknown|             0|               0|               0|         0|           0|         0|         0|               0|         0|            0|Unknown|  Unknown|      299|\n",
            "|164|      A165|2018-02-10 23:09:00|Unknown|             Unknown|             0|               0|               0|         0|           0|         0|         0|               0|         0|            0|Unknown|  Unknown|      300|\n",
            "|165|      A166|2018-02-12 20:14:00|Unknown|             Unknown|             0|               0|               0|         0|           0|         0|         0|               0|         0|            0|Unknown|  Unknown|      301|\n",
            "|166|      A167|2018-02-12 22:39:00|Unknown|             Unknown|             0|               0|               0|         0|           0|         0|         0|               0|         0|            0|Unknown|  Unknown|      302|\n",
            "|167|      A168|2018-02-13 09:47:00|Unknown|Offer in Oct 2011...|             0|               0|               0|         0|           0|         0|         0|               0|         0|            0|Unknown|  Unknown|      304|\n",
            "|168|      A169|2018-02-13 15:49:00|Unknown|             Unknown|             0|               0|               0|         0|           0|         0|         0|               0|         0|            0|Unknown|  Unknown|      306|\n",
            "|169|      A170|2018-02-13 20:11:00|Unknown|             Unknown|             0|               0|               0|         0|           0|         0|         0|               0|         0|            0|Unknown|  Unknown|      307|\n",
            "|170|      A171|2018-02-14 13:57:00|Unknown|             Unknown|             0|               0|               0|         0|           0|         0|         0|               0|         0|            0|Unknown|  Unknown|      308|\n",
            "|171|      A172|2018-02-14 18:52:00|Unknown|             Unknown|             0|               0|               0|         0|           0|         0|         0|               0|         0|            0|Unknown|  Unknown|      309|\n",
            "|172|      A173|2018-02-14 20:37:00|Unknown|             Unknown|             0|               0|               0|         0|           0|         0|         0|               0|         0|            0|Unknown|  Unknown|      310|\n",
            "|173|      A174|2018-02-15 02:29:00|Unknown|The equity is abo...|             0|               0|               0|         0|           0|         0|         0|               0|         0|            0|Unknown|  Unknown|      311|\n",
            "|174|      A175|2018-02-15 09:12:00|Unknown|No degree, used c...|             0|               0|               0|         0|           0|         0|         0|               0|         0|            0|Unknown|  Unknown|      312|\n",
            "|175|      A176|2018-02-15 18:02:00|Unknown|             Unknown|             0|               0|               0|         0|           0|         0|         0|               0|         0|            0|Unknown|  Unknown|      313|\n",
            "|176|      A177|2018-02-15 23:23:00|Unknown|             Unknown|             0|               0|               0|         0|           0|         0|         0|               0|         0|            0|Unknown|  Unknown|      314|\n",
            "|177|      A178|2018-02-16 09:52:00|Unknown|             Unknown|             0|               0|               0|         0|           0|         0|         0|               0|         0|            0|Unknown|  Unknown|      315|\n",
            "|178|      A179|2018-02-16 10:49:00|Unknown|             Unknown|             0|               0|               0|         0|           0|         0|         0|               0|         0|            0|Unknown|  Unknown|      316|\n",
            "|179|      A180|2018-02-16 11:19:00|Unknown|             Unknown|             0|               0|               0|         0|           0|         0|         0|               0|         0|            0|Unknown|  Unknown|      317|\n",
            "|180|      A181|2018-02-18 11:16:00|Unknown|             Unknown|             0|               0|               0|         0|           0|         0|         0|               0|         0|            0|Unknown|  Unknown|      318|\n",
            "|181|      A182|2018-02-18 21:30:00|Unknown|             Unknown|             0|               0|               0|         0|           0|         0|         0|               0|         0|            0|Unknown|  Unknown|      319|\n",
            "|182|      A183|2018-02-19 18:34:00|Unknown|             Unknown|             0|               0|               0|         0|           0|         0|         0|               0|         0|            0|Unknown|  Unknown|      320|\n",
            "|183|      A184|2018-02-19 18:35:00|Unknown|             Unknown|             0|               0|               0|         0|           0|         0|         0|               0|         0|            0|Unknown|  Unknown|      321|\n",
            "|184|      A185|2018-02-20 05:26:00|Unknown|             Unknown|             0|               0|               0|         0|           0|         0|         0|               0|         0|            0|Unknown|  Unknown|      323|\n",
            "|185|      A186|2018-02-20 10:58:00|Unknown|             Unknown|             0|               0|               0|         0|           0|         0|         0|               0|         0|            0|Unknown|  Unknown|      325|\n",
            "|186|      A187|2018-02-20 21:03:00|Unknown|             Unknown|             0|               0|               0|         0|           0|         0|         0|               0|         0|            0|Unknown|  Unknown|      326|\n",
            "|187|      A188|2018-02-23 07:37:00|Unknown|             Unknown|             0|               0|               0|         0|           0|         0|         0|               0|         0|            0|Unknown|  Unknown|      329|\n",
            "|188|      A189|2018-02-23 12:48:00|Unknown|             Unknown|             0|               0|               0|         0|           0|         0|         0|               0|         0|            0|Unknown|  Unknown|      330|\n",
            "|189|      A190|2018-02-25 07:12:00|Unknown|             Unknown|             0|               0|               0|         0|           0|         0|         0|               0|         0|            0|Unknown|  Unknown|      333|\n",
            "|190|      A191|2018-02-25 14:02:00|Unknown|             Unknown|             0|               0|               0|         0|           0|         0|         0|               0|         0|            0|Unknown|  Unknown|      334|\n",
            "|191|      A192|2018-02-26 02:20:00|Unknown|             Unknown|             0|               0|               0|         0|           0|         0|         0|               0|         0|            0|Unknown|  Unknown|      336|\n",
            "|192|      A193|2018-02-26 13:22:00|Unknown|             Unknown|             0|               0|               0|         0|           0|         0|         0|               0|         0|            0|Unknown|  Unknown|      338|\n",
            "|193|      A194|2018-02-27 13:57:00|Unknown|             Unknown|             0|               0|               0|         0|           0|         0|         0|               0|         0|            0|Unknown|  Unknown|      341|\n",
            "|194|      A195|2018-02-28 10:59:00|Unknown|             Unknown|             0|               0|               0|         0|           0|         0|         0|               0|         0|            0|Unknown|  Unknown|      343|\n",
            "|195|      A196|2018-03-01 20:20:00|Unknown|             Unknown|             0|               0|               0|         0|           0|         0|         0|               0|         0|            0|Unknown|  Unknown|      347|\n",
            "|196|      A197|2018-03-02 22:14:00|Unknown|             Unknown|             0|               0|               0|         0|           0|         0|         0|               0|         0|            0|Unknown|  Unknown|      351|\n",
            "|197|      A198|2018-03-03 23:53:00|Unknown|RSUs stack, leadi...|             0|               0|               0|         0|           0|         0|         0|               0|         0|            0|Unknown|  Unknown|      354|\n",
            "|198|      A199|2018-03-05 10:19:00|Unknown|             Unknown|             0|               0|               0|         0|           0|         0|         0|               0|         0|            0|Unknown|  Unknown|      356|\n",
            "|199|      A200|2018-03-05 19:33:00|Unknown|             Unknown|             0|               0|               0|         0|           0|         0|         0|               0|         0|            0|Unknown|  Unknown|      358|\n",
            "|200|      A201|2018-03-06 17:33:00|Unknown|             Unknown|             0|               0|               0|         0|           0|         0|         0|               0|         0|            0|Unknown|  Unknown|      362|\n",
            "+---+----------+-------------------+-------+--------------------+--------------+----------------+----------------+----------+------------+----------+----------+----------------+----------+-------------+-------+---------+---------+\n",
            "only showing top 200 rows\n",
            "\n"
          ]
        }
      ],
      "source": [
        "participants_data_df = participants_data_df.dropna()\n",
        "participants_data_df.show(200)"
      ]
    },
    {
      "cell_type": "code",
      "execution_count": 37,
      "metadata": {
        "id": "YwGIKZrLHMAN"
      },
      "outputs": [],
      "source": [
        "# Configure settings for RDS\n",
        "mode = \"append\"\n",
        "jdbc_url=\"jdbc:postgresql://mypostgressdb.cuwtf0lwxiav.us-east-1.rds.amazonaws.com:5432/my_data_class_db\"\n",
        "config = {\"user\":\"root\", \n",
        "          \"password\": \"pasgroup3\", \n",
        "          \"driver\":\"org.postgresql.Driver\"}"
      ]
    },
    {
      "cell_type": "code",
      "execution_count": 39,
      "metadata": {
        "id": "VdiWixf1HO2p"
      },
      "outputs": [],
      "source": [
        "# Write DataFrame to salary_data table in RDS\n",
        "\n",
        "salary_data_df.write.jdbc(url=jdbc_url, table='salary_data',mode=mode,properties=config)"
      ]
    },
    {
      "cell_type": "code",
      "execution_count": 40,
      "metadata": {
        "id": "NzlobZ5uAPHE"
      },
      "outputs": [],
      "source": [
        "# Write DataFrame to salary_data table in RDS \n",
        "\n",
        "participants_data_df.write.jdbc(url=jdbc_url, table='participants_data',mode=mode,properties=config)"
      ]
    }
  ],
  "metadata": {
    "colab": {
      "provenance": []
    },
    "kernelspec": {
      "display_name": "Python 3",
      "language": "python",
      "name": "python3"
    },
    "language_info": {
      "codemirror_mode": {
        "name": "ipython",
        "version": 3
      },
      "file_extension": ".py",
      "mimetype": "text/x-python",
      "name": "python",
      "nbconvert_exporter": "python",
      "pygments_lexer": "ipython3",
      "version": "3.7.7"
    },
    "latex_envs": {
      "LaTeX_envs_menu_present": true,
      "autoclose": false,
      "autocomplete": true,
      "bibliofile": "biblio.bib",
      "cite_by": "apalike",
      "current_citInitial": 1,
      "eqLabelWithNumbers": true,
      "eqNumInitial": 1,
      "hotkeys": {
        "equation": "Ctrl-E",
        "itemize": "Ctrl-I"
      },
      "labels_anchors": false,
      "latex_user_defs": false,
      "report_style_numbering": false,
      "user_envs_cfg": false
    }
  },
  "nbformat": 4,
  "nbformat_minor": 0
}
