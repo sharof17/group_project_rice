{
  "cells": [
    {
      "cell_type": "markdown",
      "id": "5ab98ac8",
      "metadata": {
        "id": "5ab98ac8"
      },
      "source": [
        "# Connecting to Database"
      ]
    },
    {
      "cell_type": "code",
      "execution_count": 1,
      "id": "f2bc7e9d",
      "metadata": {
        "colab": {
          "base_uri": "https://localhost:8080/"
        },
        "id": "f2bc7e9d",
        "outputId": "a5fc301c-ea80-4829-bca1-3b49ae2734d4"
      },
      "outputs": [
        {
          "output_type": "stream",
          "name": "stdout",
          "text": [
            "Get:1 http://security.ubuntu.com/ubuntu bionic-security InRelease [88.7 kB]\n",
            "Ign:2 https://developer.download.nvidia.com/compute/machine-learning/repos/ubuntu1804/x86_64  InRelease\n",
            "Hit:3 http://archive.ubuntu.com/ubuntu bionic InRelease\n",
            "Hit:4 https://developer.download.nvidia.com/compute/cuda/repos/ubuntu1804/x86_64  InRelease\n",
            "Get:5 https://cloud.r-project.org/bin/linux/ubuntu bionic-cran40/ InRelease [3,626 B]\n",
            "Hit:6 https://developer.download.nvidia.com/compute/machine-learning/repos/ubuntu1804/x86_64  Release\n",
            "Hit:7 http://ppa.launchpad.net/c2d4u.team/c2d4u4.0+/ubuntu bionic InRelease\n",
            "Get:8 http://archive.ubuntu.com/ubuntu bionic-updates InRelease [88.7 kB]\n",
            "Hit:9 http://ppa.launchpad.net/cran/libgit2/ubuntu bionic InRelease\n",
            "Hit:11 http://ppa.launchpad.net/deadsnakes/ppa/ubuntu bionic InRelease\n",
            "Get:12 http://archive.ubuntu.com/ubuntu bionic-backports InRelease [83.3 kB]\n",
            "Hit:13 http://ppa.launchpad.net/graphics-drivers/ppa/ubuntu bionic InRelease\n",
            "Fetched 264 kB in 3s (95.3 kB/s)\n",
            "Reading package lists... Done\n"
          ]
        }
      ],
      "source": [
        "import os\n",
        "# Find the latest version of spark 3.0  from http://www.apache.org/dist/spark/ and enter as the spark version\n",
        "# For example:\n",
        "# spark_version = 'spark-3.0.3'\n",
        "spark_version = 'spark-3.3.0'\n",
        "os.environ['SPARK_VERSION']=spark_version\n",
        "\n",
        "# Install Spark and Java\n",
        "!apt-get update\n",
        "!apt-get install openjdk-11-jdk-headless -qq > /dev/null\n",
        "!wget -q http://www.apache.org/dist/spark/spark-3.3.0/spark-3.3.0-bin-hadoop2.tgz\n",
        "!tar xf spark-3.3.0-bin-hadoop2.tgz\n",
        "!pip install -q findspark\n",
        "\n",
        "# Set Environment Variables\n",
        "os.environ[\"JAVA_HOME\"] = \"/usr/lib/jvm/java-11-openjdk-amd64\"\n",
        "os.environ[\"SPARK_HOME\"] = f\"/content/{spark_version}-bin-hadoop2\"\n",
        "\n",
        "# Start a SparkSession\n",
        "import findspark\n",
        "findspark.init()"
      ]
    },
    {
      "cell_type": "code",
      "execution_count": 2,
      "id": "494c6709",
      "metadata": {
        "colab": {
          "base_uri": "https://localhost:8080/"
        },
        "id": "494c6709",
        "outputId": "407a11c3-e79f-4533-dc71-854f1a5ed6b1"
      },
      "outputs": [
        {
          "output_type": "stream",
          "name": "stdout",
          "text": [
            "--2022-10-02 16:37:25--  https://jdbc.postgresql.org/download/postgresql-42.2.9.jar\n",
            "Resolving jdbc.postgresql.org (jdbc.postgresql.org)... 72.32.157.228, 2001:4800:3e1:1::228\n",
            "Connecting to jdbc.postgresql.org (jdbc.postgresql.org)|72.32.157.228|:443... connected.\n",
            "HTTP request sent, awaiting response... 200 OK\n",
            "Length: 914037 (893K) [application/java-archive]\n",
            "Saving to: ‘postgresql-42.2.9.jar.1’\n",
            "\n",
            "postgresql-42.2.9.j 100%[===================>] 892.61K  1.26MB/s    in 0.7s    \n",
            "\n",
            "2022-10-02 16:37:27 (1.26 MB/s) - ‘postgresql-42.2.9.jar.1’ saved [914037/914037]\n",
            "\n"
          ]
        }
      ],
      "source": [
        "!wget https://jdbc.postgresql.org/download/postgresql-42.2.9.jar"
      ]
    },
    {
      "cell_type": "code",
      "execution_count": 3,
      "id": "e6260475",
      "metadata": {
        "id": "e6260475"
      },
      "outputs": [],
      "source": [
        "from pyspark.sql import SparkSession\n",
        "spark = SparkSession.builder.appName(\"CloudETL\").config(\"spark.driver.extraClassPath\",\"/content/postgresql-42.2.9.jar\").getOrCreate()"
      ]
    },
    {
      "cell_type": "code",
      "execution_count": 4,
      "id": "6dff0277",
      "metadata": {
        "colab": {
          "base_uri": "https://localhost:8080/"
        },
        "id": "6dff0277",
        "outputId": "5482ee87-634d-44b4-849d-605f92242b43"
      },
      "outputs": [
        {
          "output_type": "stream",
          "name": "stdout",
          "text": [
            "+---+-------------------+----------+-----+--------------------+-----------------------+-----------------+--------------+----------+---------------+-------+---------+--------------+----------------+----------------+----------+------------+----------+----------+----------------+----------+-------------+-------------+-----+\n",
            "|_c0|          timestamp|   company|level|               title|totalyearlycompensation|yearsofexperience|yearsatcompany|basesalary|stockgrantvalue|  bonus|rowNumber|Masters_Degree|Bachelors_Degree|Doctorate_Degree|Highschool|Some_College|Race_Asian|Race_White|Race_Two_Or_More|Race_Black|Race_Hispanic|         city|state|\n",
            "+---+-------------------+----------+-----+--------------------+-----------------------+-----------------+--------------+----------+---------------+-------+---------+--------------+----------------+----------------+----------+------------+----------+----------+----------------+----------+-------------+-------------+-----+\n",
            "|  0|2017-06-07 11:33:00|    Oracle|   L3|     Product Manager|                 127000|              1.5|           1.5|    107000|        20000.0|10000.0|        1|             0|               0|               0|         0|           0|         0|         0|               0|         0|            0| Redwood City|   CA|\n",
            "|  1|2017-06-10 17:11:00|      eBay| SE 2|   Software Engineer|                 100000|              5.0|           3.0|         0|            0.0|    0.0|        2|             0|               0|               0|         0|           0|         0|         0|               0|         0|            0|San Francisco|   CA|\n",
            "|  2|2017-06-11 14:53:00|    Amazon|   L7|     Product Manager|                 310000|              8.0|           0.0|    155000|            0.0|    0.0|        3|             0|               0|               0|         0|           0|         0|         0|               0|         0|            0|      Seattle|   WA|\n",
            "|  3|2017-06-17 00:23:00|     Apple|   M1|Software Engineer...|                 372000|              7.0|           5.0|    157000|       180000.0|35000.0|        7|             0|               0|               0|         0|           0|         0|         0|               0|         0|            0|    Sunnyvale|   CA|\n",
            "|  4|2017-06-20 10:58:00| Microsoft|   60|   Software Engineer|                 157000|              5.0|           3.0|         0|            0.0|    0.0|        9|             0|               0|               0|         0|           0|         0|         0|               0|         0|            0|Mountain View|   CA|\n",
            "|  5|2017-06-21 17:27:00| Microsoft|   63|   Software Engineer|                 208000|              8.5|           8.5|         0|            0.0|    0.0|       11|             0|               0|               0|         0|           0|         0|         0|               0|         0|            0|      Seattle|   WA|\n",
            "|  6|2017-06-22 12:37:00| Microsoft|   65|Software Engineer...|                 300000|             15.0|          11.0|    180000|        65000.0|55000.0|       12|             0|               0|               0|         0|           0|         0|         0|               0|         0|            0|      Redmond|   WA|\n",
            "|  7|2017-06-22 13:55:00| Microsoft|   62|   Software Engineer|                 156000|              4.0|           4.0|    135000|         8000.0|13000.0|       13|             0|               0|               0|         0|           0|         0|         0|               0|         0|            0|      Seattle|   WA|\n",
            "|  8|2017-06-22 23:08:00| Microsoft|   59|   Software Engineer|                 120000|              3.0|           1.0|         0|            0.0|    0.0|       15|             0|               0|               0|         0|           0|         0|         0|               0|         0|            0|      Redmond|   WA|\n",
            "|  9|2017-06-26 21:25:00| Microsoft|   63|   Software Engineer|                 201000|             12.0|           6.0|    157000|        26000.0|28000.0|       16|             0|               0|               0|         0|           0|         0|         0|               0|         0|            0|      Seattle|   WA|\n",
            "| 10|2017-06-30 16:29:00|Salesforce|    9|Software Engineer...|                 450000|             16.0|           3.0|    230000|       100000.0|45000.0|       18|             0|               0|               0|         0|           0|         0|         0|               0|         0|            0|San Francisco|   CA|\n",
            "| 11|2017-07-02 14:16:00| Microsoft|Sde 2|   Software Engineer|                 155000|              5.0|           3.0|    126000|            0.0|    0.0|       19|             0|               0|               0|         0|           0|         0|         0|               0|         0|            0|     Bellevue|   WA|\n",
            "| 12|2017-07-03 19:28:00| Microsoft|   63|     Product Manager|                 150000|             10.0|          10.0|         0|            0.0|    0.0|       20|             0|               0|               0|         0|           0|         0|         0|               0|         0|            0|      Redmond|   WA|\n",
            "| 13|2017-07-07 22:29:00| Microsoft|   63|   Software Engineer|                 191000|              7.0|           7.0|    152000|        17000.0|22000.0|       21|             0|               0|               0|         0|           0|         0|         0|               0|         0|            0|      Seattle|   WA|\n",
            "| 14|2017-07-14 21:36:00|    Amazon|   L6|Software Engineer...|                 287000|             12.0|           1.0|    160000|            0.0|    0.0|       23|             0|               0|               0|         0|           0|         0|         0|               0|         0|            0|      Seattle|   WA|\n",
            "| 15|2017-07-16 16:50:00|    Amazon|   L5|   Software Engineer|                 218000|             10.0|           0.0|    150000|         7000.0|61000.0|       25|             0|               0|               0|         0|           0|         0|         0|               0|         0|            0|      Seattle|   WA|\n",
            "| 16|2017-07-20 22:35:00|  Facebook|   E3|   Software Engineer|                 168000|              1.0|           1.0|         0|            0.0|    0.0|       27|             0|               0|               0|         0|           0|         0|         0|               0|         0|            0|   Menlo Park|   CA|\n",
            "| 17|2017-07-22 22:20:00|      Uber|   5a|   Software Engineer|                 160000|              9.0|           1.0|         0|            0.0|    0.0|       29|             0|               0|               0|         0|           0|         0|         0|               0|         0|            0|San Francisco|   CA|\n",
            "| 19|2017-07-24 23:14:00| Microsoft|   64|   Software Engineer|                 195000|              9.0|           9.0|         0|            0.0|    0.0|       31|             0|               0|               0|         0|           0|         0|         0|               0|         0|            0|      Redmond|   WA|\n",
            "| 20|2017-07-25 14:44:00|      Oath|  IC4|   Software Engineer|                 155000|              8.0|           7.0|    125000|        30000.0|15000.0|       33|             0|               0|               0|         0|           0|         0|         0|               0|         0|            0|    Sunnyvale|   CA|\n",
            "+---+-------------------+----------+-----+--------------------+-----------------------+-----------------+--------------+----------+---------------+-------+---------+--------------+----------------+----------------+----------+------------+----------+----------+----------------+----------+-------------+-------------+-----+\n",
            "only showing top 20 rows\n",
            "\n"
          ]
        }
      ],
      "source": [
        "# Read in data from S3 Buckets\n",
        "from pyspark import SparkFiles\n",
        "url=\"https://group-project-data-bucket.s3.amazonaws.com/clean_salary_data.csv\"\n",
        "spark.sparkContext.addFile(url)\n",
        "salary_data = spark.read.csv(SparkFiles.get(\"clean_salary_data.csv\"), sep=\",\", header=True, inferSchema=True)\n",
        "\n",
        "# Show Dataset\n",
        "salary_data.show()"
      ]
    },
    {
      "cell_type": "markdown",
      "metadata": {
        "id": "uaDVN950Xpm9"
      },
      "source": [
        "# Preprocessing"
      ],
      "id": "uaDVN950Xpm9"
    },
    {
      "cell_type": "markdown",
      "source": [
        "## Developing Salary Dataframe for prediction model"
      ],
      "metadata": {
        "id": "QhGncl7F5ODS"
      },
      "id": "QhGncl7F5ODS"
    },
    {
      "cell_type": "code",
      "execution_count": 5,
      "id": "64365b9c",
      "metadata": {
        "id": "64365b9c"
      },
      "outputs": [],
      "source": [
        "#Import dependancies\n",
        "import numpy as np\n",
        "import pandas as pd \n",
        "import matplotlib.pyplot as plt\n",
        "import seaborn as sns\n",
        "from scipy import stats"
      ]
    },
    {
      "cell_type": "code",
      "source": [
        "salary_df = salary_data.toPandas()\n",
        "salary_df.head() "
      ],
      "metadata": {
        "colab": {
          "base_uri": "https://localhost:8080/",
          "height": 404
        },
        "id": "aY08QlcxfH-o",
        "outputId": "bea695c5-ad87-48f2-fd56-2d4f16cfae66"
      },
      "id": "aY08QlcxfH-o",
      "execution_count": 6,
      "outputs": [
        {
          "output_type": "execute_result",
          "data": {
            "text/plain": [
              "   _c0           timestamp    company level                         title  \\\n",
              "0    0 2017-06-07 11:33:00     Oracle    L3               Product Manager   \n",
              "1    1 2017-06-10 17:11:00       eBay  SE 2             Software Engineer   \n",
              "2    2 2017-06-11 14:53:00     Amazon    L7               Product Manager   \n",
              "3    3 2017-06-17 00:23:00      Apple    M1  Software Engineering Manager   \n",
              "4    4 2017-06-20 10:58:00  Microsoft    60             Software Engineer   \n",
              "\n",
              "   totalyearlycompensation  yearsofexperience  yearsatcompany  basesalary  \\\n",
              "0                   127000                1.5             1.5      107000   \n",
              "1                   100000                5.0             3.0           0   \n",
              "2                   310000                8.0             0.0      155000   \n",
              "3                   372000                7.0             5.0      157000   \n",
              "4                   157000                5.0             3.0           0   \n",
              "\n",
              "   stockgrantvalue  ...  Doctorate_Degree  Highschool  Some_College  \\\n",
              "0          20000.0  ...                 0           0             0   \n",
              "1              0.0  ...                 0           0             0   \n",
              "2              0.0  ...                 0           0             0   \n",
              "3         180000.0  ...                 0           0             0   \n",
              "4              0.0  ...                 0           0             0   \n",
              "\n",
              "   Race_Asian  Race_White  Race_Two_Or_More  Race_Black  Race_Hispanic  \\\n",
              "0           0           0                 0           0              0   \n",
              "1           0           0                 0           0              0   \n",
              "2           0           0                 0           0              0   \n",
              "3           0           0                 0           0              0   \n",
              "4           0           0                 0           0              0   \n",
              "\n",
              "            city  state  \n",
              "0   Redwood City     CA  \n",
              "1  San Francisco     CA  \n",
              "2        Seattle     WA  \n",
              "3      Sunnyvale     CA  \n",
              "4  Mountain View     CA  \n",
              "\n",
              "[5 rows x 24 columns]"
            ],
            "text/html": [
              "\n",
              "  <div id=\"df-c1139a32-b12b-4ae8-accf-24a83c50dc9c\">\n",
              "    <div class=\"colab-df-container\">\n",
              "      <div>\n",
              "<style scoped>\n",
              "    .dataframe tbody tr th:only-of-type {\n",
              "        vertical-align: middle;\n",
              "    }\n",
              "\n",
              "    .dataframe tbody tr th {\n",
              "        vertical-align: top;\n",
              "    }\n",
              "\n",
              "    .dataframe thead th {\n",
              "        text-align: right;\n",
              "    }\n",
              "</style>\n",
              "<table border=\"1\" class=\"dataframe\">\n",
              "  <thead>\n",
              "    <tr style=\"text-align: right;\">\n",
              "      <th></th>\n",
              "      <th>_c0</th>\n",
              "      <th>timestamp</th>\n",
              "      <th>company</th>\n",
              "      <th>level</th>\n",
              "      <th>title</th>\n",
              "      <th>totalyearlycompensation</th>\n",
              "      <th>yearsofexperience</th>\n",
              "      <th>yearsatcompany</th>\n",
              "      <th>basesalary</th>\n",
              "      <th>stockgrantvalue</th>\n",
              "      <th>...</th>\n",
              "      <th>Doctorate_Degree</th>\n",
              "      <th>Highschool</th>\n",
              "      <th>Some_College</th>\n",
              "      <th>Race_Asian</th>\n",
              "      <th>Race_White</th>\n",
              "      <th>Race_Two_Or_More</th>\n",
              "      <th>Race_Black</th>\n",
              "      <th>Race_Hispanic</th>\n",
              "      <th>city</th>\n",
              "      <th>state</th>\n",
              "    </tr>\n",
              "  </thead>\n",
              "  <tbody>\n",
              "    <tr>\n",
              "      <th>0</th>\n",
              "      <td>0</td>\n",
              "      <td>2017-06-07 11:33:00</td>\n",
              "      <td>Oracle</td>\n",
              "      <td>L3</td>\n",
              "      <td>Product Manager</td>\n",
              "      <td>127000</td>\n",
              "      <td>1.5</td>\n",
              "      <td>1.5</td>\n",
              "      <td>107000</td>\n",
              "      <td>20000.0</td>\n",
              "      <td>...</td>\n",
              "      <td>0</td>\n",
              "      <td>0</td>\n",
              "      <td>0</td>\n",
              "      <td>0</td>\n",
              "      <td>0</td>\n",
              "      <td>0</td>\n",
              "      <td>0</td>\n",
              "      <td>0</td>\n",
              "      <td>Redwood City</td>\n",
              "      <td>CA</td>\n",
              "    </tr>\n",
              "    <tr>\n",
              "      <th>1</th>\n",
              "      <td>1</td>\n",
              "      <td>2017-06-10 17:11:00</td>\n",
              "      <td>eBay</td>\n",
              "      <td>SE 2</td>\n",
              "      <td>Software Engineer</td>\n",
              "      <td>100000</td>\n",
              "      <td>5.0</td>\n",
              "      <td>3.0</td>\n",
              "      <td>0</td>\n",
              "      <td>0.0</td>\n",
              "      <td>...</td>\n",
              "      <td>0</td>\n",
              "      <td>0</td>\n",
              "      <td>0</td>\n",
              "      <td>0</td>\n",
              "      <td>0</td>\n",
              "      <td>0</td>\n",
              "      <td>0</td>\n",
              "      <td>0</td>\n",
              "      <td>San Francisco</td>\n",
              "      <td>CA</td>\n",
              "    </tr>\n",
              "    <tr>\n",
              "      <th>2</th>\n",
              "      <td>2</td>\n",
              "      <td>2017-06-11 14:53:00</td>\n",
              "      <td>Amazon</td>\n",
              "      <td>L7</td>\n",
              "      <td>Product Manager</td>\n",
              "      <td>310000</td>\n",
              "      <td>8.0</td>\n",
              "      <td>0.0</td>\n",
              "      <td>155000</td>\n",
              "      <td>0.0</td>\n",
              "      <td>...</td>\n",
              "      <td>0</td>\n",
              "      <td>0</td>\n",
              "      <td>0</td>\n",
              "      <td>0</td>\n",
              "      <td>0</td>\n",
              "      <td>0</td>\n",
              "      <td>0</td>\n",
              "      <td>0</td>\n",
              "      <td>Seattle</td>\n",
              "      <td>WA</td>\n",
              "    </tr>\n",
              "    <tr>\n",
              "      <th>3</th>\n",
              "      <td>3</td>\n",
              "      <td>2017-06-17 00:23:00</td>\n",
              "      <td>Apple</td>\n",
              "      <td>M1</td>\n",
              "      <td>Software Engineering Manager</td>\n",
              "      <td>372000</td>\n",
              "      <td>7.0</td>\n",
              "      <td>5.0</td>\n",
              "      <td>157000</td>\n",
              "      <td>180000.0</td>\n",
              "      <td>...</td>\n",
              "      <td>0</td>\n",
              "      <td>0</td>\n",
              "      <td>0</td>\n",
              "      <td>0</td>\n",
              "      <td>0</td>\n",
              "      <td>0</td>\n",
              "      <td>0</td>\n",
              "      <td>0</td>\n",
              "      <td>Sunnyvale</td>\n",
              "      <td>CA</td>\n",
              "    </tr>\n",
              "    <tr>\n",
              "      <th>4</th>\n",
              "      <td>4</td>\n",
              "      <td>2017-06-20 10:58:00</td>\n",
              "      <td>Microsoft</td>\n",
              "      <td>60</td>\n",
              "      <td>Software Engineer</td>\n",
              "      <td>157000</td>\n",
              "      <td>5.0</td>\n",
              "      <td>3.0</td>\n",
              "      <td>0</td>\n",
              "      <td>0.0</td>\n",
              "      <td>...</td>\n",
              "      <td>0</td>\n",
              "      <td>0</td>\n",
              "      <td>0</td>\n",
              "      <td>0</td>\n",
              "      <td>0</td>\n",
              "      <td>0</td>\n",
              "      <td>0</td>\n",
              "      <td>0</td>\n",
              "      <td>Mountain View</td>\n",
              "      <td>CA</td>\n",
              "    </tr>\n",
              "  </tbody>\n",
              "</table>\n",
              "<p>5 rows × 24 columns</p>\n",
              "</div>\n",
              "      <button class=\"colab-df-convert\" onclick=\"convertToInteractive('df-c1139a32-b12b-4ae8-accf-24a83c50dc9c')\"\n",
              "              title=\"Convert this dataframe to an interactive table.\"\n",
              "              style=\"display:none;\">\n",
              "        \n",
              "  <svg xmlns=\"http://www.w3.org/2000/svg\" height=\"24px\"viewBox=\"0 0 24 24\"\n",
              "       width=\"24px\">\n",
              "    <path d=\"M0 0h24v24H0V0z\" fill=\"none\"/>\n",
              "    <path d=\"M18.56 5.44l.94 2.06.94-2.06 2.06-.94-2.06-.94-.94-2.06-.94 2.06-2.06.94zm-11 1L8.5 8.5l.94-2.06 2.06-.94-2.06-.94L8.5 2.5l-.94 2.06-2.06.94zm10 10l.94 2.06.94-2.06 2.06-.94-2.06-.94-.94-2.06-.94 2.06-2.06.94z\"/><path d=\"M17.41 7.96l-1.37-1.37c-.4-.4-.92-.59-1.43-.59-.52 0-1.04.2-1.43.59L10.3 9.45l-7.72 7.72c-.78.78-.78 2.05 0 2.83L4 21.41c.39.39.9.59 1.41.59.51 0 1.02-.2 1.41-.59l7.78-7.78 2.81-2.81c.8-.78.8-2.07 0-2.86zM5.41 20L4 18.59l7.72-7.72 1.47 1.35L5.41 20z\"/>\n",
              "  </svg>\n",
              "      </button>\n",
              "      \n",
              "  <style>\n",
              "    .colab-df-container {\n",
              "      display:flex;\n",
              "      flex-wrap:wrap;\n",
              "      gap: 12px;\n",
              "    }\n",
              "\n",
              "    .colab-df-convert {\n",
              "      background-color: #E8F0FE;\n",
              "      border: none;\n",
              "      border-radius: 50%;\n",
              "      cursor: pointer;\n",
              "      display: none;\n",
              "      fill: #1967D2;\n",
              "      height: 32px;\n",
              "      padding: 0 0 0 0;\n",
              "      width: 32px;\n",
              "    }\n",
              "\n",
              "    .colab-df-convert:hover {\n",
              "      background-color: #E2EBFA;\n",
              "      box-shadow: 0px 1px 2px rgba(60, 64, 67, 0.3), 0px 1px 3px 1px rgba(60, 64, 67, 0.15);\n",
              "      fill: #174EA6;\n",
              "    }\n",
              "\n",
              "    [theme=dark] .colab-df-convert {\n",
              "      background-color: #3B4455;\n",
              "      fill: #D2E3FC;\n",
              "    }\n",
              "\n",
              "    [theme=dark] .colab-df-convert:hover {\n",
              "      background-color: #434B5C;\n",
              "      box-shadow: 0px 1px 3px 1px rgba(0, 0, 0, 0.15);\n",
              "      filter: drop-shadow(0px 1px 2px rgba(0, 0, 0, 0.3));\n",
              "      fill: #FFFFFF;\n",
              "    }\n",
              "  </style>\n",
              "\n",
              "      <script>\n",
              "        const buttonEl =\n",
              "          document.querySelector('#df-c1139a32-b12b-4ae8-accf-24a83c50dc9c button.colab-df-convert');\n",
              "        buttonEl.style.display =\n",
              "          google.colab.kernel.accessAllowed ? 'block' : 'none';\n",
              "\n",
              "        async function convertToInteractive(key) {\n",
              "          const element = document.querySelector('#df-c1139a32-b12b-4ae8-accf-24a83c50dc9c');\n",
              "          const dataTable =\n",
              "            await google.colab.kernel.invokeFunction('convertToInteractive',\n",
              "                                                     [key], {});\n",
              "          if (!dataTable) return;\n",
              "\n",
              "          const docLinkHtml = 'Like what you see? Visit the ' +\n",
              "            '<a target=\"_blank\" href=https://colab.research.google.com/notebooks/data_table.ipynb>data table notebook</a>'\n",
              "            + ' to learn more about interactive tables.';\n",
              "          element.innerHTML = '';\n",
              "          dataTable['output_type'] = 'display_data';\n",
              "          await google.colab.output.renderOutput(dataTable, element);\n",
              "          const docLink = document.createElement('div');\n",
              "          docLink.innerHTML = docLinkHtml;\n",
              "          element.appendChild(docLink);\n",
              "        }\n",
              "      </script>\n",
              "    </div>\n",
              "  </div>\n",
              "  "
            ]
          },
          "metadata": {},
          "execution_count": 6
        }
      ]
    },
    {
      "cell_type": "code",
      "source": [
        "# Information about the dataframe\n",
        "salary_df.info()"
      ],
      "metadata": {
        "colab": {
          "base_uri": "https://localhost:8080/"
        },
        "id": "-5Hp67dUl5kL",
        "outputId": "97a3d709-e9c3-4ef9-b6b7-010c17040e4e"
      },
      "id": "-5Hp67dUl5kL",
      "execution_count": 7,
      "outputs": [
        {
          "output_type": "stream",
          "name": "stdout",
          "text": [
            "<class 'pandas.core.frame.DataFrame'>\n",
            "RangeIndex: 52746 entries, 0 to 52745\n",
            "Data columns (total 24 columns):\n",
            " #   Column                   Non-Null Count  Dtype         \n",
            "---  ------                   --------------  -----         \n",
            " 0   _c0                      52746 non-null  int32         \n",
            " 1   timestamp                52746 non-null  datetime64[ns]\n",
            " 2   company                  52746 non-null  object        \n",
            " 3   level                    52746 non-null  object        \n",
            " 4   title                    52746 non-null  object        \n",
            " 5   totalyearlycompensation  52746 non-null  int32         \n",
            " 6   yearsofexperience        52746 non-null  float64       \n",
            " 7   yearsatcompany           52746 non-null  float64       \n",
            " 8   basesalary               52746 non-null  int32         \n",
            " 9   stockgrantvalue          52746 non-null  float64       \n",
            " 10  bonus                    52746 non-null  float64       \n",
            " 11  rowNumber                52746 non-null  int32         \n",
            " 12  Masters_Degree           52746 non-null  int32         \n",
            " 13  Bachelors_Degree         52746 non-null  int32         \n",
            " 14  Doctorate_Degree         52746 non-null  int32         \n",
            " 15  Highschool               52746 non-null  int32         \n",
            " 16  Some_College             52746 non-null  int32         \n",
            " 17  Race_Asian               52746 non-null  int32         \n",
            " 18  Race_White               52746 non-null  int32         \n",
            " 19  Race_Two_Or_More         52746 non-null  int32         \n",
            " 20  Race_Black               52746 non-null  int32         \n",
            " 21  Race_Hispanic            52746 non-null  int32         \n",
            " 22  city                     52746 non-null  object        \n",
            " 23  state                    52746 non-null  object        \n",
            "dtypes: datetime64[ns](1), float64(4), int32(14), object(5)\n",
            "memory usage: 6.8+ MB\n"
          ]
        }
      ]
    },
    {
      "cell_type": "code",
      "source": [
        "# Create dataframe with only columns relevant for the prediction model\n",
        "ml_df = salary_df[['timestamp','company', 'title','totalyearlycompensation', 'yearsofexperience','basesalary','stockgrantvalue','bonus']]\n",
        "ml_df.head(5)"
      ],
      "metadata": {
        "colab": {
          "base_uri": "https://localhost:8080/",
          "height": 206
        },
        "id": "gnaOqplgl5yx",
        "outputId": "e1a53964-a1a4-41ed-f1d9-fe565693c5a9"
      },
      "id": "gnaOqplgl5yx",
      "execution_count": 8,
      "outputs": [
        {
          "output_type": "execute_result",
          "data": {
            "text/plain": [
              "            timestamp    company                         title  \\\n",
              "0 2017-06-07 11:33:00     Oracle               Product Manager   \n",
              "1 2017-06-10 17:11:00       eBay             Software Engineer   \n",
              "2 2017-06-11 14:53:00     Amazon               Product Manager   \n",
              "3 2017-06-17 00:23:00      Apple  Software Engineering Manager   \n",
              "4 2017-06-20 10:58:00  Microsoft             Software Engineer   \n",
              "\n",
              "   totalyearlycompensation  yearsofexperience  basesalary  stockgrantvalue  \\\n",
              "0                   127000                1.5      107000          20000.0   \n",
              "1                   100000                5.0           0              0.0   \n",
              "2                   310000                8.0      155000              0.0   \n",
              "3                   372000                7.0      157000         180000.0   \n",
              "4                   157000                5.0           0              0.0   \n",
              "\n",
              "     bonus  \n",
              "0  10000.0  \n",
              "1      0.0  \n",
              "2      0.0  \n",
              "3  35000.0  \n",
              "4      0.0  "
            ],
            "text/html": [
              "\n",
              "  <div id=\"df-ca830a2c-e7e8-4f0f-86e3-afc110507b98\">\n",
              "    <div class=\"colab-df-container\">\n",
              "      <div>\n",
              "<style scoped>\n",
              "    .dataframe tbody tr th:only-of-type {\n",
              "        vertical-align: middle;\n",
              "    }\n",
              "\n",
              "    .dataframe tbody tr th {\n",
              "        vertical-align: top;\n",
              "    }\n",
              "\n",
              "    .dataframe thead th {\n",
              "        text-align: right;\n",
              "    }\n",
              "</style>\n",
              "<table border=\"1\" class=\"dataframe\">\n",
              "  <thead>\n",
              "    <tr style=\"text-align: right;\">\n",
              "      <th></th>\n",
              "      <th>timestamp</th>\n",
              "      <th>company</th>\n",
              "      <th>title</th>\n",
              "      <th>totalyearlycompensation</th>\n",
              "      <th>yearsofexperience</th>\n",
              "      <th>basesalary</th>\n",
              "      <th>stockgrantvalue</th>\n",
              "      <th>bonus</th>\n",
              "    </tr>\n",
              "  </thead>\n",
              "  <tbody>\n",
              "    <tr>\n",
              "      <th>0</th>\n",
              "      <td>2017-06-07 11:33:00</td>\n",
              "      <td>Oracle</td>\n",
              "      <td>Product Manager</td>\n",
              "      <td>127000</td>\n",
              "      <td>1.5</td>\n",
              "      <td>107000</td>\n",
              "      <td>20000.0</td>\n",
              "      <td>10000.0</td>\n",
              "    </tr>\n",
              "    <tr>\n",
              "      <th>1</th>\n",
              "      <td>2017-06-10 17:11:00</td>\n",
              "      <td>eBay</td>\n",
              "      <td>Software Engineer</td>\n",
              "      <td>100000</td>\n",
              "      <td>5.0</td>\n",
              "      <td>0</td>\n",
              "      <td>0.0</td>\n",
              "      <td>0.0</td>\n",
              "    </tr>\n",
              "    <tr>\n",
              "      <th>2</th>\n",
              "      <td>2017-06-11 14:53:00</td>\n",
              "      <td>Amazon</td>\n",
              "      <td>Product Manager</td>\n",
              "      <td>310000</td>\n",
              "      <td>8.0</td>\n",
              "      <td>155000</td>\n",
              "      <td>0.0</td>\n",
              "      <td>0.0</td>\n",
              "    </tr>\n",
              "    <tr>\n",
              "      <th>3</th>\n",
              "      <td>2017-06-17 00:23:00</td>\n",
              "      <td>Apple</td>\n",
              "      <td>Software Engineering Manager</td>\n",
              "      <td>372000</td>\n",
              "      <td>7.0</td>\n",
              "      <td>157000</td>\n",
              "      <td>180000.0</td>\n",
              "      <td>35000.0</td>\n",
              "    </tr>\n",
              "    <tr>\n",
              "      <th>4</th>\n",
              "      <td>2017-06-20 10:58:00</td>\n",
              "      <td>Microsoft</td>\n",
              "      <td>Software Engineer</td>\n",
              "      <td>157000</td>\n",
              "      <td>5.0</td>\n",
              "      <td>0</td>\n",
              "      <td>0.0</td>\n",
              "      <td>0.0</td>\n",
              "    </tr>\n",
              "  </tbody>\n",
              "</table>\n",
              "</div>\n",
              "      <button class=\"colab-df-convert\" onclick=\"convertToInteractive('df-ca830a2c-e7e8-4f0f-86e3-afc110507b98')\"\n",
              "              title=\"Convert this dataframe to an interactive table.\"\n",
              "              style=\"display:none;\">\n",
              "        \n",
              "  <svg xmlns=\"http://www.w3.org/2000/svg\" height=\"24px\"viewBox=\"0 0 24 24\"\n",
              "       width=\"24px\">\n",
              "    <path d=\"M0 0h24v24H0V0z\" fill=\"none\"/>\n",
              "    <path d=\"M18.56 5.44l.94 2.06.94-2.06 2.06-.94-2.06-.94-.94-2.06-.94 2.06-2.06.94zm-11 1L8.5 8.5l.94-2.06 2.06-.94-2.06-.94L8.5 2.5l-.94 2.06-2.06.94zm10 10l.94 2.06.94-2.06 2.06-.94-2.06-.94-.94-2.06-.94 2.06-2.06.94z\"/><path d=\"M17.41 7.96l-1.37-1.37c-.4-.4-.92-.59-1.43-.59-.52 0-1.04.2-1.43.59L10.3 9.45l-7.72 7.72c-.78.78-.78 2.05 0 2.83L4 21.41c.39.39.9.59 1.41.59.51 0 1.02-.2 1.41-.59l7.78-7.78 2.81-2.81c.8-.78.8-2.07 0-2.86zM5.41 20L4 18.59l7.72-7.72 1.47 1.35L5.41 20z\"/>\n",
              "  </svg>\n",
              "      </button>\n",
              "      \n",
              "  <style>\n",
              "    .colab-df-container {\n",
              "      display:flex;\n",
              "      flex-wrap:wrap;\n",
              "      gap: 12px;\n",
              "    }\n",
              "\n",
              "    .colab-df-convert {\n",
              "      background-color: #E8F0FE;\n",
              "      border: none;\n",
              "      border-radius: 50%;\n",
              "      cursor: pointer;\n",
              "      display: none;\n",
              "      fill: #1967D2;\n",
              "      height: 32px;\n",
              "      padding: 0 0 0 0;\n",
              "      width: 32px;\n",
              "    }\n",
              "\n",
              "    .colab-df-convert:hover {\n",
              "      background-color: #E2EBFA;\n",
              "      box-shadow: 0px 1px 2px rgba(60, 64, 67, 0.3), 0px 1px 3px 1px rgba(60, 64, 67, 0.15);\n",
              "      fill: #174EA6;\n",
              "    }\n",
              "\n",
              "    [theme=dark] .colab-df-convert {\n",
              "      background-color: #3B4455;\n",
              "      fill: #D2E3FC;\n",
              "    }\n",
              "\n",
              "    [theme=dark] .colab-df-convert:hover {\n",
              "      background-color: #434B5C;\n",
              "      box-shadow: 0px 1px 3px 1px rgba(0, 0, 0, 0.15);\n",
              "      filter: drop-shadow(0px 1px 2px rgba(0, 0, 0, 0.3));\n",
              "      fill: #FFFFFF;\n",
              "    }\n",
              "  </style>\n",
              "\n",
              "      <script>\n",
              "        const buttonEl =\n",
              "          document.querySelector('#df-ca830a2c-e7e8-4f0f-86e3-afc110507b98 button.colab-df-convert');\n",
              "        buttonEl.style.display =\n",
              "          google.colab.kernel.accessAllowed ? 'block' : 'none';\n",
              "\n",
              "        async function convertToInteractive(key) {\n",
              "          const element = document.querySelector('#df-ca830a2c-e7e8-4f0f-86e3-afc110507b98');\n",
              "          const dataTable =\n",
              "            await google.colab.kernel.invokeFunction('convertToInteractive',\n",
              "                                                     [key], {});\n",
              "          if (!dataTable) return;\n",
              "\n",
              "          const docLinkHtml = 'Like what you see? Visit the ' +\n",
              "            '<a target=\"_blank\" href=https://colab.research.google.com/notebooks/data_table.ipynb>data table notebook</a>'\n",
              "            + ' to learn more about interactive tables.';\n",
              "          element.innerHTML = '';\n",
              "          dataTable['output_type'] = 'display_data';\n",
              "          await google.colab.output.renderOutput(dataTable, element);\n",
              "          const docLink = document.createElement('div');\n",
              "          docLink.innerHTML = docLinkHtml;\n",
              "          element.appendChild(docLink);\n",
              "        }\n",
              "      </script>\n",
              "    </div>\n",
              "  </div>\n",
              "  "
            ]
          },
          "metadata": {},
          "execution_count": 8
        }
      ]
    },
    {
      "cell_type": "code",
      "source": [
        "# Look for missing values\n",
        "ml_df.isna().sum()"
      ],
      "metadata": {
        "colab": {
          "base_uri": "https://localhost:8080/"
        },
        "id": "obcgYZsVl59t",
        "outputId": "6dcc3ef2-a392-43a1-a930-59d8fe1b45d9"
      },
      "id": "obcgYZsVl59t",
      "execution_count": 9,
      "outputs": [
        {
          "output_type": "execute_result",
          "data": {
            "text/plain": [
              "timestamp                  0\n",
              "company                    0\n",
              "title                      0\n",
              "totalyearlycompensation    0\n",
              "yearsofexperience          0\n",
              "basesalary                 0\n",
              "stockgrantvalue            0\n",
              "bonus                      0\n",
              "dtype: int64"
            ]
          },
          "metadata": {},
          "execution_count": 9
        }
      ]
    },
    {
      "cell_type": "code",
      "source": [
        "# Add a Year  and quarter column and from timestamp column\n",
        "ml_df['yearposted'] = pd.DatetimeIndex(ml_df['timestamp']).year\n",
        "ml_df['yearquarter'] = ml_df['timestamp'].dt.to_period(\"Q\").astype('str')\n",
        "ml_df = ml_df.drop(['timestamp'], axis = 1)\n",
        "ml_df.head(5)"
      ],
      "metadata": {
        "colab": {
          "base_uri": "https://localhost:8080/",
          "height": 502
        },
        "id": "6Jbge44Q1aUp",
        "outputId": "1e0bccbc-606a-438a-a086-f4388ff8013d"
      },
      "id": "6Jbge44Q1aUp",
      "execution_count": 10,
      "outputs": [
        {
          "output_type": "stream",
          "name": "stderr",
          "text": [
            "/usr/local/lib/python3.7/dist-packages/ipykernel_launcher.py:2: SettingWithCopyWarning: \n",
            "A value is trying to be set on a copy of a slice from a DataFrame.\n",
            "Try using .loc[row_indexer,col_indexer] = value instead\n",
            "\n",
            "See the caveats in the documentation: https://pandas.pydata.org/pandas-docs/stable/user_guide/indexing.html#returning-a-view-versus-a-copy\n",
            "  \n",
            "/usr/local/lib/python3.7/dist-packages/ipykernel_launcher.py:3: SettingWithCopyWarning: \n",
            "A value is trying to be set on a copy of a slice from a DataFrame.\n",
            "Try using .loc[row_indexer,col_indexer] = value instead\n",
            "\n",
            "See the caveats in the documentation: https://pandas.pydata.org/pandas-docs/stable/user_guide/indexing.html#returning-a-view-versus-a-copy\n",
            "  This is separate from the ipykernel package so we can avoid doing imports until\n"
          ]
        },
        {
          "output_type": "execute_result",
          "data": {
            "text/plain": [
              "     company                         title  totalyearlycompensation  \\\n",
              "0     Oracle               Product Manager                   127000   \n",
              "1       eBay             Software Engineer                   100000   \n",
              "2     Amazon               Product Manager                   310000   \n",
              "3      Apple  Software Engineering Manager                   372000   \n",
              "4  Microsoft             Software Engineer                   157000   \n",
              "\n",
              "   yearsofexperience  basesalary  stockgrantvalue    bonus  yearposted  \\\n",
              "0                1.5      107000          20000.0  10000.0        2017   \n",
              "1                5.0           0              0.0      0.0        2017   \n",
              "2                8.0      155000              0.0      0.0        2017   \n",
              "3                7.0      157000         180000.0  35000.0        2017   \n",
              "4                5.0           0              0.0      0.0        2017   \n",
              "\n",
              "  yearquarter  \n",
              "0      2017Q2  \n",
              "1      2017Q2  \n",
              "2      2017Q2  \n",
              "3      2017Q2  \n",
              "4      2017Q2  "
            ],
            "text/html": [
              "\n",
              "  <div id=\"df-dc34c1fb-b7c7-4f40-80be-14fd7545273a\">\n",
              "    <div class=\"colab-df-container\">\n",
              "      <div>\n",
              "<style scoped>\n",
              "    .dataframe tbody tr th:only-of-type {\n",
              "        vertical-align: middle;\n",
              "    }\n",
              "\n",
              "    .dataframe tbody tr th {\n",
              "        vertical-align: top;\n",
              "    }\n",
              "\n",
              "    .dataframe thead th {\n",
              "        text-align: right;\n",
              "    }\n",
              "</style>\n",
              "<table border=\"1\" class=\"dataframe\">\n",
              "  <thead>\n",
              "    <tr style=\"text-align: right;\">\n",
              "      <th></th>\n",
              "      <th>company</th>\n",
              "      <th>title</th>\n",
              "      <th>totalyearlycompensation</th>\n",
              "      <th>yearsofexperience</th>\n",
              "      <th>basesalary</th>\n",
              "      <th>stockgrantvalue</th>\n",
              "      <th>bonus</th>\n",
              "      <th>yearposted</th>\n",
              "      <th>yearquarter</th>\n",
              "    </tr>\n",
              "  </thead>\n",
              "  <tbody>\n",
              "    <tr>\n",
              "      <th>0</th>\n",
              "      <td>Oracle</td>\n",
              "      <td>Product Manager</td>\n",
              "      <td>127000</td>\n",
              "      <td>1.5</td>\n",
              "      <td>107000</td>\n",
              "      <td>20000.0</td>\n",
              "      <td>10000.0</td>\n",
              "      <td>2017</td>\n",
              "      <td>2017Q2</td>\n",
              "    </tr>\n",
              "    <tr>\n",
              "      <th>1</th>\n",
              "      <td>eBay</td>\n",
              "      <td>Software Engineer</td>\n",
              "      <td>100000</td>\n",
              "      <td>5.0</td>\n",
              "      <td>0</td>\n",
              "      <td>0.0</td>\n",
              "      <td>0.0</td>\n",
              "      <td>2017</td>\n",
              "      <td>2017Q2</td>\n",
              "    </tr>\n",
              "    <tr>\n",
              "      <th>2</th>\n",
              "      <td>Amazon</td>\n",
              "      <td>Product Manager</td>\n",
              "      <td>310000</td>\n",
              "      <td>8.0</td>\n",
              "      <td>155000</td>\n",
              "      <td>0.0</td>\n",
              "      <td>0.0</td>\n",
              "      <td>2017</td>\n",
              "      <td>2017Q2</td>\n",
              "    </tr>\n",
              "    <tr>\n",
              "      <th>3</th>\n",
              "      <td>Apple</td>\n",
              "      <td>Software Engineering Manager</td>\n",
              "      <td>372000</td>\n",
              "      <td>7.0</td>\n",
              "      <td>157000</td>\n",
              "      <td>180000.0</td>\n",
              "      <td>35000.0</td>\n",
              "      <td>2017</td>\n",
              "      <td>2017Q2</td>\n",
              "    </tr>\n",
              "    <tr>\n",
              "      <th>4</th>\n",
              "      <td>Microsoft</td>\n",
              "      <td>Software Engineer</td>\n",
              "      <td>157000</td>\n",
              "      <td>5.0</td>\n",
              "      <td>0</td>\n",
              "      <td>0.0</td>\n",
              "      <td>0.0</td>\n",
              "      <td>2017</td>\n",
              "      <td>2017Q2</td>\n",
              "    </tr>\n",
              "  </tbody>\n",
              "</table>\n",
              "</div>\n",
              "      <button class=\"colab-df-convert\" onclick=\"convertToInteractive('df-dc34c1fb-b7c7-4f40-80be-14fd7545273a')\"\n",
              "              title=\"Convert this dataframe to an interactive table.\"\n",
              "              style=\"display:none;\">\n",
              "        \n",
              "  <svg xmlns=\"http://www.w3.org/2000/svg\" height=\"24px\"viewBox=\"0 0 24 24\"\n",
              "       width=\"24px\">\n",
              "    <path d=\"M0 0h24v24H0V0z\" fill=\"none\"/>\n",
              "    <path d=\"M18.56 5.44l.94 2.06.94-2.06 2.06-.94-2.06-.94-.94-2.06-.94 2.06-2.06.94zm-11 1L8.5 8.5l.94-2.06 2.06-.94-2.06-.94L8.5 2.5l-.94 2.06-2.06.94zm10 10l.94 2.06.94-2.06 2.06-.94-2.06-.94-.94-2.06-.94 2.06-2.06.94z\"/><path d=\"M17.41 7.96l-1.37-1.37c-.4-.4-.92-.59-1.43-.59-.52 0-1.04.2-1.43.59L10.3 9.45l-7.72 7.72c-.78.78-.78 2.05 0 2.83L4 21.41c.39.39.9.59 1.41.59.51 0 1.02-.2 1.41-.59l7.78-7.78 2.81-2.81c.8-.78.8-2.07 0-2.86zM5.41 20L4 18.59l7.72-7.72 1.47 1.35L5.41 20z\"/>\n",
              "  </svg>\n",
              "      </button>\n",
              "      \n",
              "  <style>\n",
              "    .colab-df-container {\n",
              "      display:flex;\n",
              "      flex-wrap:wrap;\n",
              "      gap: 12px;\n",
              "    }\n",
              "\n",
              "    .colab-df-convert {\n",
              "      background-color: #E8F0FE;\n",
              "      border: none;\n",
              "      border-radius: 50%;\n",
              "      cursor: pointer;\n",
              "      display: none;\n",
              "      fill: #1967D2;\n",
              "      height: 32px;\n",
              "      padding: 0 0 0 0;\n",
              "      width: 32px;\n",
              "    }\n",
              "\n",
              "    .colab-df-convert:hover {\n",
              "      background-color: #E2EBFA;\n",
              "      box-shadow: 0px 1px 2px rgba(60, 64, 67, 0.3), 0px 1px 3px 1px rgba(60, 64, 67, 0.15);\n",
              "      fill: #174EA6;\n",
              "    }\n",
              "\n",
              "    [theme=dark] .colab-df-convert {\n",
              "      background-color: #3B4455;\n",
              "      fill: #D2E3FC;\n",
              "    }\n",
              "\n",
              "    [theme=dark] .colab-df-convert:hover {\n",
              "      background-color: #434B5C;\n",
              "      box-shadow: 0px 1px 3px 1px rgba(0, 0, 0, 0.15);\n",
              "      filter: drop-shadow(0px 1px 2px rgba(0, 0, 0, 0.3));\n",
              "      fill: #FFFFFF;\n",
              "    }\n",
              "  </style>\n",
              "\n",
              "      <script>\n",
              "        const buttonEl =\n",
              "          document.querySelector('#df-dc34c1fb-b7c7-4f40-80be-14fd7545273a button.colab-df-convert');\n",
              "        buttonEl.style.display =\n",
              "          google.colab.kernel.accessAllowed ? 'block' : 'none';\n",
              "\n",
              "        async function convertToInteractive(key) {\n",
              "          const element = document.querySelector('#df-dc34c1fb-b7c7-4f40-80be-14fd7545273a');\n",
              "          const dataTable =\n",
              "            await google.colab.kernel.invokeFunction('convertToInteractive',\n",
              "                                                     [key], {});\n",
              "          if (!dataTable) return;\n",
              "\n",
              "          const docLinkHtml = 'Like what you see? Visit the ' +\n",
              "            '<a target=\"_blank\" href=https://colab.research.google.com/notebooks/data_table.ipynb>data table notebook</a>'\n",
              "            + ' to learn more about interactive tables.';\n",
              "          element.innerHTML = '';\n",
              "          dataTable['output_type'] = 'display_data';\n",
              "          await google.colab.output.renderOutput(dataTable, element);\n",
              "          const docLink = document.createElement('div');\n",
              "          docLink.innerHTML = docLinkHtml;\n",
              "          element.appendChild(docLink);\n",
              "        }\n",
              "      </script>\n",
              "    </div>\n",
              "  </div>\n",
              "  "
            ]
          },
          "metadata": {},
          "execution_count": 10
        }
      ]
    },
    {
      "cell_type": "markdown",
      "source": [
        "## Remove rows where base salary equals $0"
      ],
      "metadata": {
        "id": "kAJqM11DI338"
      },
      "id": "kAJqM11DI338"
    },
    {
      "cell_type": "code",
      "source": [
        "ml_df = ml_df.loc[ml_df['basesalary'] > 0]"
      ],
      "metadata": {
        "id": "Pq9cn-nJI9_x"
      },
      "id": "Pq9cn-nJI9_x",
      "execution_count": 11,
      "outputs": []
    },
    {
      "cell_type": "code",
      "source": [
        "ml_df.head()"
      ],
      "metadata": {
        "colab": {
          "base_uri": "https://localhost:8080/",
          "height": 285
        },
        "id": "56gKKAhYI1ta",
        "outputId": "eb5a6455-8dd3-4b82-a0a6-d2a73a7c0f6a"
      },
      "id": "56gKKAhYI1ta",
      "execution_count": 12,
      "outputs": [
        {
          "output_type": "execute_result",
          "data": {
            "text/plain": [
              "     company                         title  totalyearlycompensation  \\\n",
              "0     Oracle               Product Manager                   127000   \n",
              "2     Amazon               Product Manager                   310000   \n",
              "3      Apple  Software Engineering Manager                   372000   \n",
              "6  Microsoft  Software Engineering Manager                   300000   \n",
              "7  Microsoft             Software Engineer                   156000   \n",
              "\n",
              "   yearsofexperience  basesalary  stockgrantvalue    bonus  yearposted  \\\n",
              "0                1.5      107000          20000.0  10000.0        2017   \n",
              "2                8.0      155000              0.0      0.0        2017   \n",
              "3                7.0      157000         180000.0  35000.0        2017   \n",
              "6               15.0      180000          65000.0  55000.0        2017   \n",
              "7                4.0      135000           8000.0  13000.0        2017   \n",
              "\n",
              "  yearquarter  \n",
              "0      2017Q2  \n",
              "2      2017Q2  \n",
              "3      2017Q2  \n",
              "6      2017Q2  \n",
              "7      2017Q2  "
            ],
            "text/html": [
              "\n",
              "  <div id=\"df-621f3676-3b86-4ff7-88e2-92245fba2631\">\n",
              "    <div class=\"colab-df-container\">\n",
              "      <div>\n",
              "<style scoped>\n",
              "    .dataframe tbody tr th:only-of-type {\n",
              "        vertical-align: middle;\n",
              "    }\n",
              "\n",
              "    .dataframe tbody tr th {\n",
              "        vertical-align: top;\n",
              "    }\n",
              "\n",
              "    .dataframe thead th {\n",
              "        text-align: right;\n",
              "    }\n",
              "</style>\n",
              "<table border=\"1\" class=\"dataframe\">\n",
              "  <thead>\n",
              "    <tr style=\"text-align: right;\">\n",
              "      <th></th>\n",
              "      <th>company</th>\n",
              "      <th>title</th>\n",
              "      <th>totalyearlycompensation</th>\n",
              "      <th>yearsofexperience</th>\n",
              "      <th>basesalary</th>\n",
              "      <th>stockgrantvalue</th>\n",
              "      <th>bonus</th>\n",
              "      <th>yearposted</th>\n",
              "      <th>yearquarter</th>\n",
              "    </tr>\n",
              "  </thead>\n",
              "  <tbody>\n",
              "    <tr>\n",
              "      <th>0</th>\n",
              "      <td>Oracle</td>\n",
              "      <td>Product Manager</td>\n",
              "      <td>127000</td>\n",
              "      <td>1.5</td>\n",
              "      <td>107000</td>\n",
              "      <td>20000.0</td>\n",
              "      <td>10000.0</td>\n",
              "      <td>2017</td>\n",
              "      <td>2017Q2</td>\n",
              "    </tr>\n",
              "    <tr>\n",
              "      <th>2</th>\n",
              "      <td>Amazon</td>\n",
              "      <td>Product Manager</td>\n",
              "      <td>310000</td>\n",
              "      <td>8.0</td>\n",
              "      <td>155000</td>\n",
              "      <td>0.0</td>\n",
              "      <td>0.0</td>\n",
              "      <td>2017</td>\n",
              "      <td>2017Q2</td>\n",
              "    </tr>\n",
              "    <tr>\n",
              "      <th>3</th>\n",
              "      <td>Apple</td>\n",
              "      <td>Software Engineering Manager</td>\n",
              "      <td>372000</td>\n",
              "      <td>7.0</td>\n",
              "      <td>157000</td>\n",
              "      <td>180000.0</td>\n",
              "      <td>35000.0</td>\n",
              "      <td>2017</td>\n",
              "      <td>2017Q2</td>\n",
              "    </tr>\n",
              "    <tr>\n",
              "      <th>6</th>\n",
              "      <td>Microsoft</td>\n",
              "      <td>Software Engineering Manager</td>\n",
              "      <td>300000</td>\n",
              "      <td>15.0</td>\n",
              "      <td>180000</td>\n",
              "      <td>65000.0</td>\n",
              "      <td>55000.0</td>\n",
              "      <td>2017</td>\n",
              "      <td>2017Q2</td>\n",
              "    </tr>\n",
              "    <tr>\n",
              "      <th>7</th>\n",
              "      <td>Microsoft</td>\n",
              "      <td>Software Engineer</td>\n",
              "      <td>156000</td>\n",
              "      <td>4.0</td>\n",
              "      <td>135000</td>\n",
              "      <td>8000.0</td>\n",
              "      <td>13000.0</td>\n",
              "      <td>2017</td>\n",
              "      <td>2017Q2</td>\n",
              "    </tr>\n",
              "  </tbody>\n",
              "</table>\n",
              "</div>\n",
              "      <button class=\"colab-df-convert\" onclick=\"convertToInteractive('df-621f3676-3b86-4ff7-88e2-92245fba2631')\"\n",
              "              title=\"Convert this dataframe to an interactive table.\"\n",
              "              style=\"display:none;\">\n",
              "        \n",
              "  <svg xmlns=\"http://www.w3.org/2000/svg\" height=\"24px\"viewBox=\"0 0 24 24\"\n",
              "       width=\"24px\">\n",
              "    <path d=\"M0 0h24v24H0V0z\" fill=\"none\"/>\n",
              "    <path d=\"M18.56 5.44l.94 2.06.94-2.06 2.06-.94-2.06-.94-.94-2.06-.94 2.06-2.06.94zm-11 1L8.5 8.5l.94-2.06 2.06-.94-2.06-.94L8.5 2.5l-.94 2.06-2.06.94zm10 10l.94 2.06.94-2.06 2.06-.94-2.06-.94-.94-2.06-.94 2.06-2.06.94z\"/><path d=\"M17.41 7.96l-1.37-1.37c-.4-.4-.92-.59-1.43-.59-.52 0-1.04.2-1.43.59L10.3 9.45l-7.72 7.72c-.78.78-.78 2.05 0 2.83L4 21.41c.39.39.9.59 1.41.59.51 0 1.02-.2 1.41-.59l7.78-7.78 2.81-2.81c.8-.78.8-2.07 0-2.86zM5.41 20L4 18.59l7.72-7.72 1.47 1.35L5.41 20z\"/>\n",
              "  </svg>\n",
              "      </button>\n",
              "      \n",
              "  <style>\n",
              "    .colab-df-container {\n",
              "      display:flex;\n",
              "      flex-wrap:wrap;\n",
              "      gap: 12px;\n",
              "    }\n",
              "\n",
              "    .colab-df-convert {\n",
              "      background-color: #E8F0FE;\n",
              "      border: none;\n",
              "      border-radius: 50%;\n",
              "      cursor: pointer;\n",
              "      display: none;\n",
              "      fill: #1967D2;\n",
              "      height: 32px;\n",
              "      padding: 0 0 0 0;\n",
              "      width: 32px;\n",
              "    }\n",
              "\n",
              "    .colab-df-convert:hover {\n",
              "      background-color: #E2EBFA;\n",
              "      box-shadow: 0px 1px 2px rgba(60, 64, 67, 0.3), 0px 1px 3px 1px rgba(60, 64, 67, 0.15);\n",
              "      fill: #174EA6;\n",
              "    }\n",
              "\n",
              "    [theme=dark] .colab-df-convert {\n",
              "      background-color: #3B4455;\n",
              "      fill: #D2E3FC;\n",
              "    }\n",
              "\n",
              "    [theme=dark] .colab-df-convert:hover {\n",
              "      background-color: #434B5C;\n",
              "      box-shadow: 0px 1px 3px 1px rgba(0, 0, 0, 0.15);\n",
              "      filter: drop-shadow(0px 1px 2px rgba(0, 0, 0, 0.3));\n",
              "      fill: #FFFFFF;\n",
              "    }\n",
              "  </style>\n",
              "\n",
              "      <script>\n",
              "        const buttonEl =\n",
              "          document.querySelector('#df-621f3676-3b86-4ff7-88e2-92245fba2631 button.colab-df-convert');\n",
              "        buttonEl.style.display =\n",
              "          google.colab.kernel.accessAllowed ? 'block' : 'none';\n",
              "\n",
              "        async function convertToInteractive(key) {\n",
              "          const element = document.querySelector('#df-621f3676-3b86-4ff7-88e2-92245fba2631');\n",
              "          const dataTable =\n",
              "            await google.colab.kernel.invokeFunction('convertToInteractive',\n",
              "                                                     [key], {});\n",
              "          if (!dataTable) return;\n",
              "\n",
              "          const docLinkHtml = 'Like what you see? Visit the ' +\n",
              "            '<a target=\"_blank\" href=https://colab.research.google.com/notebooks/data_table.ipynb>data table notebook</a>'\n",
              "            + ' to learn more about interactive tables.';\n",
              "          element.innerHTML = '';\n",
              "          dataTable['output_type'] = 'display_data';\n",
              "          await google.colab.output.renderOutput(dataTable, element);\n",
              "          const docLink = document.createElement('div');\n",
              "          docLink.innerHTML = docLinkHtml;\n",
              "          element.appendChild(docLink);\n",
              "        }\n",
              "      </script>\n",
              "    </div>\n",
              "  </div>\n",
              "  "
            ]
          },
          "metadata": {},
          "execution_count": 12
        }
      ]
    },
    {
      "cell_type": "markdown",
      "source": [
        "## Cleaning company and title columns"
      ],
      "metadata": {
        "id": "Fzej24HdAYbv"
      },
      "id": "Fzej24HdAYbv"
    },
    {
      "cell_type": "markdown",
      "source": [
        "### Company Column"
      ],
      "metadata": {
        "id": "Hti2isEzC2Gi"
      },
      "id": "Hti2isEzC2Gi"
    },
    {
      "cell_type": "code",
      "source": [
        "ml_df['company']"
      ],
      "metadata": {
        "colab": {
          "base_uri": "https://localhost:8080/"
        },
        "id": "ry3BanvJAeTX",
        "outputId": "fde7d858-7c9b-4130-8d1f-c7c5249225fc"
      },
      "id": "ry3BanvJAeTX",
      "execution_count": 13,
      "outputs": [
        {
          "output_type": "execute_result",
          "data": {
            "text/plain": [
              "0            Oracle\n",
              "2            Amazon\n",
              "3             Apple\n",
              "6         Microsoft\n",
              "7         Microsoft\n",
              "            ...    \n",
              "52741        Google\n",
              "52742     Microsoft\n",
              "52743          MSFT\n",
              "52744    Salesforce\n",
              "52745         apple\n",
              "Name: company, Length: 50690, dtype: object"
            ]
          },
          "metadata": {},
          "execution_count": 13
        }
      ]
    },
    {
      "cell_type": "markdown",
      "source": [
        "As noted, there are different spellings for each company. We will try our best to clean the company column"
      ],
      "metadata": {
        "id": "TaqSBmhwAr3v"
      },
      "id": "TaqSBmhwAr3v"
    },
    {
      "cell_type": "code",
      "source": [
        "# Converts all lowercase characters into uppercase characters\n",
        "ml_df['company'] = ml_df['company'].str.strip().str.upper()\n",
        "ml_df['company']"
      ],
      "metadata": {
        "colab": {
          "base_uri": "https://localhost:8080/"
        },
        "id": "QN1ZjUg6BD_h",
        "outputId": "b16b1d29-04d9-4fd9-d2ae-c644d3080692"
      },
      "id": "QN1ZjUg6BD_h",
      "execution_count": 14,
      "outputs": [
        {
          "output_type": "execute_result",
          "data": {
            "text/plain": [
              "0            ORACLE\n",
              "2            AMAZON\n",
              "3             APPLE\n",
              "6         MICROSOFT\n",
              "7         MICROSOFT\n",
              "            ...    \n",
              "52741        GOOGLE\n",
              "52742     MICROSOFT\n",
              "52743          MSFT\n",
              "52744    SALESFORCE\n",
              "52745         APPLE\n",
              "Name: company, Length: 50690, dtype: object"
            ]
          },
          "metadata": {},
          "execution_count": 14
        }
      ]
    },
    {
      "cell_type": "code",
      "source": [
        "# Remove any extra spaces\n",
        "ml_df['company']= ml_df['company'].replace(r'\\s+', ' ', regex=True)\n",
        "ml_df['company']"
      ],
      "metadata": {
        "colab": {
          "base_uri": "https://localhost:8080/"
        },
        "id": "pDAijmuTETEf",
        "outputId": "ded59cb8-4963-4f1e-ec9e-365c0c078ae0"
      },
      "id": "pDAijmuTETEf",
      "execution_count": 15,
      "outputs": [
        {
          "output_type": "execute_result",
          "data": {
            "text/plain": [
              "0            ORACLE\n",
              "2            AMAZON\n",
              "3             APPLE\n",
              "6         MICROSOFT\n",
              "7         MICROSOFT\n",
              "            ...    \n",
              "52741        GOOGLE\n",
              "52742     MICROSOFT\n",
              "52743          MSFT\n",
              "52744    SALESFORCE\n",
              "52745         APPLE\n",
              "Name: company, Length: 50690, dtype: object"
            ]
          },
          "metadata": {},
          "execution_count": 15
        }
      ]
    },
    {
      "cell_type": "code",
      "source": [
        "ml_df['company'] = ml_df['company'].str.replace(' LLC', '').str.replace('.ORG', '').str.replace(' LTD', '').str.replace(' CORPORATION', '').str.replace(' INC', '')\n",
        "ml_df['company'] = ml_df['company'].str.replace(' MEDIA', '').str.replace(' GROUP', '').str.replace(' TECHNOLOGY', '').str.replace(' TECHNOLOGIES', '').str.strip()\n",
        "ml_df.head()"
      ],
      "metadata": {
        "colab": {
          "base_uri": "https://localhost:8080/",
          "height": 341
        },
        "id": "RsWN-tqmEt1O",
        "outputId": "16450603-ba9e-46fc-c8e1-bfdbe04b061d"
      },
      "id": "RsWN-tqmEt1O",
      "execution_count": 16,
      "outputs": [
        {
          "output_type": "stream",
          "name": "stderr",
          "text": [
            "/usr/local/lib/python3.7/dist-packages/ipykernel_launcher.py:1: FutureWarning: The default value of regex will change from True to False in a future version.\n",
            "  \"\"\"Entry point for launching an IPython kernel.\n"
          ]
        },
        {
          "output_type": "execute_result",
          "data": {
            "text/plain": [
              "     company                         title  totalyearlycompensation  \\\n",
              "0     ORACLE               Product Manager                   127000   \n",
              "2     AMAZON               Product Manager                   310000   \n",
              "3      APPLE  Software Engineering Manager                   372000   \n",
              "6  MICROSOFT  Software Engineering Manager                   300000   \n",
              "7  MICROSOFT             Software Engineer                   156000   \n",
              "\n",
              "   yearsofexperience  basesalary  stockgrantvalue    bonus  yearposted  \\\n",
              "0                1.5      107000          20000.0  10000.0        2017   \n",
              "2                8.0      155000              0.0      0.0        2017   \n",
              "3                7.0      157000         180000.0  35000.0        2017   \n",
              "6               15.0      180000          65000.0  55000.0        2017   \n",
              "7                4.0      135000           8000.0  13000.0        2017   \n",
              "\n",
              "  yearquarter  \n",
              "0      2017Q2  \n",
              "2      2017Q2  \n",
              "3      2017Q2  \n",
              "6      2017Q2  \n",
              "7      2017Q2  "
            ],
            "text/html": [
              "\n",
              "  <div id=\"df-7724bbb7-e2f5-4579-a163-5bb4dd35b9c9\">\n",
              "    <div class=\"colab-df-container\">\n",
              "      <div>\n",
              "<style scoped>\n",
              "    .dataframe tbody tr th:only-of-type {\n",
              "        vertical-align: middle;\n",
              "    }\n",
              "\n",
              "    .dataframe tbody tr th {\n",
              "        vertical-align: top;\n",
              "    }\n",
              "\n",
              "    .dataframe thead th {\n",
              "        text-align: right;\n",
              "    }\n",
              "</style>\n",
              "<table border=\"1\" class=\"dataframe\">\n",
              "  <thead>\n",
              "    <tr style=\"text-align: right;\">\n",
              "      <th></th>\n",
              "      <th>company</th>\n",
              "      <th>title</th>\n",
              "      <th>totalyearlycompensation</th>\n",
              "      <th>yearsofexperience</th>\n",
              "      <th>basesalary</th>\n",
              "      <th>stockgrantvalue</th>\n",
              "      <th>bonus</th>\n",
              "      <th>yearposted</th>\n",
              "      <th>yearquarter</th>\n",
              "    </tr>\n",
              "  </thead>\n",
              "  <tbody>\n",
              "    <tr>\n",
              "      <th>0</th>\n",
              "      <td>ORACLE</td>\n",
              "      <td>Product Manager</td>\n",
              "      <td>127000</td>\n",
              "      <td>1.5</td>\n",
              "      <td>107000</td>\n",
              "      <td>20000.0</td>\n",
              "      <td>10000.0</td>\n",
              "      <td>2017</td>\n",
              "      <td>2017Q2</td>\n",
              "    </tr>\n",
              "    <tr>\n",
              "      <th>2</th>\n",
              "      <td>AMAZON</td>\n",
              "      <td>Product Manager</td>\n",
              "      <td>310000</td>\n",
              "      <td>8.0</td>\n",
              "      <td>155000</td>\n",
              "      <td>0.0</td>\n",
              "      <td>0.0</td>\n",
              "      <td>2017</td>\n",
              "      <td>2017Q2</td>\n",
              "    </tr>\n",
              "    <tr>\n",
              "      <th>3</th>\n",
              "      <td>APPLE</td>\n",
              "      <td>Software Engineering Manager</td>\n",
              "      <td>372000</td>\n",
              "      <td>7.0</td>\n",
              "      <td>157000</td>\n",
              "      <td>180000.0</td>\n",
              "      <td>35000.0</td>\n",
              "      <td>2017</td>\n",
              "      <td>2017Q2</td>\n",
              "    </tr>\n",
              "    <tr>\n",
              "      <th>6</th>\n",
              "      <td>MICROSOFT</td>\n",
              "      <td>Software Engineering Manager</td>\n",
              "      <td>300000</td>\n",
              "      <td>15.0</td>\n",
              "      <td>180000</td>\n",
              "      <td>65000.0</td>\n",
              "      <td>55000.0</td>\n",
              "      <td>2017</td>\n",
              "      <td>2017Q2</td>\n",
              "    </tr>\n",
              "    <tr>\n",
              "      <th>7</th>\n",
              "      <td>MICROSOFT</td>\n",
              "      <td>Software Engineer</td>\n",
              "      <td>156000</td>\n",
              "      <td>4.0</td>\n",
              "      <td>135000</td>\n",
              "      <td>8000.0</td>\n",
              "      <td>13000.0</td>\n",
              "      <td>2017</td>\n",
              "      <td>2017Q2</td>\n",
              "    </tr>\n",
              "  </tbody>\n",
              "</table>\n",
              "</div>\n",
              "      <button class=\"colab-df-convert\" onclick=\"convertToInteractive('df-7724bbb7-e2f5-4579-a163-5bb4dd35b9c9')\"\n",
              "              title=\"Convert this dataframe to an interactive table.\"\n",
              "              style=\"display:none;\">\n",
              "        \n",
              "  <svg xmlns=\"http://www.w3.org/2000/svg\" height=\"24px\"viewBox=\"0 0 24 24\"\n",
              "       width=\"24px\">\n",
              "    <path d=\"M0 0h24v24H0V0z\" fill=\"none\"/>\n",
              "    <path d=\"M18.56 5.44l.94 2.06.94-2.06 2.06-.94-2.06-.94-.94-2.06-.94 2.06-2.06.94zm-11 1L8.5 8.5l.94-2.06 2.06-.94-2.06-.94L8.5 2.5l-.94 2.06-2.06.94zm10 10l.94 2.06.94-2.06 2.06-.94-2.06-.94-.94-2.06-.94 2.06-2.06.94z\"/><path d=\"M17.41 7.96l-1.37-1.37c-.4-.4-.92-.59-1.43-.59-.52 0-1.04.2-1.43.59L10.3 9.45l-7.72 7.72c-.78.78-.78 2.05 0 2.83L4 21.41c.39.39.9.59 1.41.59.51 0 1.02-.2 1.41-.59l7.78-7.78 2.81-2.81c.8-.78.8-2.07 0-2.86zM5.41 20L4 18.59l7.72-7.72 1.47 1.35L5.41 20z\"/>\n",
              "  </svg>\n",
              "      </button>\n",
              "      \n",
              "  <style>\n",
              "    .colab-df-container {\n",
              "      display:flex;\n",
              "      flex-wrap:wrap;\n",
              "      gap: 12px;\n",
              "    }\n",
              "\n",
              "    .colab-df-convert {\n",
              "      background-color: #E8F0FE;\n",
              "      border: none;\n",
              "      border-radius: 50%;\n",
              "      cursor: pointer;\n",
              "      display: none;\n",
              "      fill: #1967D2;\n",
              "      height: 32px;\n",
              "      padding: 0 0 0 0;\n",
              "      width: 32px;\n",
              "    }\n",
              "\n",
              "    .colab-df-convert:hover {\n",
              "      background-color: #E2EBFA;\n",
              "      box-shadow: 0px 1px 2px rgba(60, 64, 67, 0.3), 0px 1px 3px 1px rgba(60, 64, 67, 0.15);\n",
              "      fill: #174EA6;\n",
              "    }\n",
              "\n",
              "    [theme=dark] .colab-df-convert {\n",
              "      background-color: #3B4455;\n",
              "      fill: #D2E3FC;\n",
              "    }\n",
              "\n",
              "    [theme=dark] .colab-df-convert:hover {\n",
              "      background-color: #434B5C;\n",
              "      box-shadow: 0px 1px 3px 1px rgba(0, 0, 0, 0.15);\n",
              "      filter: drop-shadow(0px 1px 2px rgba(0, 0, 0, 0.3));\n",
              "      fill: #FFFFFF;\n",
              "    }\n",
              "  </style>\n",
              "\n",
              "      <script>\n",
              "        const buttonEl =\n",
              "          document.querySelector('#df-7724bbb7-e2f5-4579-a163-5bb4dd35b9c9 button.colab-df-convert');\n",
              "        buttonEl.style.display =\n",
              "          google.colab.kernel.accessAllowed ? 'block' : 'none';\n",
              "\n",
              "        async function convertToInteractive(key) {\n",
              "          const element = document.querySelector('#df-7724bbb7-e2f5-4579-a163-5bb4dd35b9c9');\n",
              "          const dataTable =\n",
              "            await google.colab.kernel.invokeFunction('convertToInteractive',\n",
              "                                                     [key], {});\n",
              "          if (!dataTable) return;\n",
              "\n",
              "          const docLinkHtml = 'Like what you see? Visit the ' +\n",
              "            '<a target=\"_blank\" href=https://colab.research.google.com/notebooks/data_table.ipynb>data table notebook</a>'\n",
              "            + ' to learn more about interactive tables.';\n",
              "          element.innerHTML = '';\n",
              "          dataTable['output_type'] = 'display_data';\n",
              "          await google.colab.output.renderOutput(dataTable, element);\n",
              "          const docLink = document.createElement('div');\n",
              "          docLink.innerHTML = docLinkHtml;\n",
              "          element.appendChild(docLink);\n",
              "        }\n",
              "      </script>\n",
              "    </div>\n",
              "  </div>\n",
              "  "
            ]
          },
          "metadata": {},
          "execution_count": 16
        }
      ]
    },
    {
      "cell_type": "code",
      "source": [
        "# Check how many unique values are in the company column\n",
        "ml_df['company'].nunique()"
      ],
      "metadata": {
        "colab": {
          "base_uri": "https://localhost:8080/"
        },
        "id": "1vTZ5kTVLdFC",
        "outputId": "190355f4-83f1-4e57-9ed0-f77dd3067f45"
      },
      "id": "1vTZ5kTVLdFC",
      "execution_count": 17,
      "outputs": [
        {
          "output_type": "execute_result",
          "data": {
            "text/plain": [
              "998"
            ]
          },
          "metadata": {},
          "execution_count": 17
        }
      ]
    },
    {
      "cell_type": "markdown",
      "source": [
        "Looking at the raw data file there are examples wher the same company is spelled in different ways. For example, \"AMAZON\", shows as \"AMZON\", \"AWS\", \"AMAZON WEB SERVICES\". "
      ],
      "metadata": {
        "id": "ZkqmHN5iL5BN"
      },
      "id": "ZkqmHN5iL5BN"
    },
    {
      "cell_type": "code",
      "source": [
        "# Clean company names\n",
        "def clean_company_names(name):\n",
        "     try: \n",
        "         if name.startswith('AMAZON'): final_name = 'AMAZON'\n",
        "         elif name.startswith('AMZON'): final_name = 'AMAZON'\n",
        "         elif name.startswith('AWS'): final_name = 'AMAZON'\n",
        "         elif name.startswith('AMAZON.COM'): final_name = 'AMAZON'\n",
        "         elif name.startswith('AKAMI'): final_name = 'AKAMI'\n",
        "         elif name.startswith('BAIN'): final_name = 'BAIN & COMPANY'\n",
        "         elif name.startswith('APPLE'): final_name = 'APPLE'\n",
        "         elif name.startswith('ARISTA'): final_name = 'ARISTA'\n",
        "         elif name.startswith('ARUBA'): final_name = 'ARUBA'\n",
        "         elif name.startswith('BLOOMBERG'): final_name = 'BLOOMBERG'\n",
        "         elif name.startswith('BOOKING'): final_name = 'BOOKING.COM'\n",
        "         elif name.startswith('BOSCH'): final_name = 'BOSCH'\n",
        "         elif name.startswith('CACI'): final_name = 'CACI'\n",
        "         elif name.startswith('CADENCE'): final_name = 'CADENCE'\n",
        "         elif name.startswith('CGI'): final_name = 'CGI'\n",
        "         elif name.startswith('CISCO'): final_name = 'CISCO'   \n",
        "         elif name.startswith('COGNIZANT'): final_name = 'COGNIZANT'\n",
        "         elif name.startswith('COSTCO'): final_name = 'COSTCO'\n",
        "         elif name.startswith('COUPA'): final_name = 'COUPA'\n",
        "         elif name.startswith('DELL'): final_name = 'DELL'\n",
        "         elif name.startswith('DELOITTE'): final_name = 'DELOITTE'\n",
        "         elif name.startswith('DISCOVER'): final_name = 'DISCOVER'\n",
        "         elif name.startswith('DISH'): final_name = 'DISH'\n",
        "         elif name.startswith('DISNEY'): final_name = 'DISNEY'   \n",
        "         elif name.startswith('EPAM'): final_name = 'EPAM'\n",
        "         elif name.startswith('ERNST'): final_name = 'ERNST & YOUNG'\n",
        "         elif name.startswith('EXPEDIA'): final_name = 'EXPEDIA'\n",
        "         elif name.startswith('FORD'): final_name = 'FORD'\n",
        "         elif name.startswith('GE'): final_name = 'GE'\n",
        "         elif name.startswith('GENERAL ELECTRIC'): final_name = 'EXPEDIA'\n",
        "         elif name.startswith('GOOGLE'): final_name = 'GOOGLE'\n",
        "         elif name.startswith('GUIDEWARE'): final_name = 'GUIDEWARE'\n",
        "         elif name.startswith('HERE'): final_name = 'HERE'\n",
        "         elif name.startswith('INTUITIVE'): final_name = 'INTUITIVE'\n",
        "         elif name.startswith('JANE STREET'): final_name = 'JANE STREET'\n",
        "         elif name.startswith('JOHNSON'): final_name = 'JOHNSON'\n",
        "         elif name.startswith('JPMORGAN'): final_name = 'JP MORGAN'\n",
        "         elif name.startswith('JP'): final_name = 'JP MORGAN'\n",
        "         elif name.startswith('JUNIPER'): final_name = 'JUNIPER'\n",
        "         elif name.startswith('L3HARRIS'): final_name = 'L3HARRIS'\n",
        "         elif name.startswith('LIBERTY MUTUAL'): final_name = 'LIBERTY MUTUAL'\n",
        "         elif name.startswith('MACY'): final_name = \"MACY'S\"\n",
        "         elif name.startswith('MCKINSEY'): final_name = 'MCKINSEY & COMPANY'\n",
        "         elif name.startswith('MICROCHIP'): final_name = 'MICROCHIP'\n",
        "         elif name.startswith('MICRON'): final_name = 'MICRON'\n",
        "         elif name.startswith('MICROSOFT'): final_name = 'MICROSOFT'\n",
        "         elif name.startswith('MSFT'): final_name = 'MICROSOFT'\n",
        "         elif name.startswith(\"MOODY'S\"): final_name = \"MOODY'S\"                \n",
        "         elif name.startswith('MOTOROLA'): final_name = 'MOTOROLA'\n",
        "         elif name.startswith('NUANCE'): final_name = 'NUANCE'\n",
        "         elif name.startswith('NXP'): final_name = 'NXP'\n",
        "         elif name.startswith('PANASONIC'): final_name = 'PANASONIC'\n",
        "         elif name.startswith('PROCORE'): final_name = 'PROCORE'\n",
        "         elif name.startswith('QUALCOMM'): final_name = 'QUALCOMM'\n",
        "         elif name.startswith('RAYTHEON'): final_name = 'RAYTHEON'\n",
        "         elif name.startswith('SAMSUNG'): final_name = 'SAMSUNG'\n",
        "         elif name.startswith('SAP'): final_name = 'SAP'\n",
        "         elif name.startswith('SAS'): final_name = 'SAS'\n",
        "         elif name.startswith('SONY'): final_name = 'SONY'          \n",
        "         elif name.startswith('TOYOTA'): final_name = 'TOYOTA'\n",
        "         elif name.startswith('VERIZON'): final_name = 'VERIZON'\n",
        "         elif name.startswith('VISA'): final_name = 'VISA'      \n",
        "         elif name.startswith('WALMART'): final_name = 'WALMART'\n",
        "         elif name.startswith('WILPRO'): final_name = 'WILPRO'\n",
        "         elif name.startswith('ZILLOW'): final_name = 'ZILLOW'\n",
        "         elif name.startswith('ZS ASSOCIATES'): final_name = 'ZS'    \n",
        "         else: final_name = name\n",
        "     except:\n",
        "         final_name = name\n",
        "     return final_name\n",
        "\n",
        "ml_df['company'] = ml_df['company'].apply(lambda name: clean_company_names(name))\n",
        "ml_df.head()"
      ],
      "metadata": {
        "colab": {
          "base_uri": "https://localhost:8080/",
          "height": 285
        },
        "id": "B90m_sjQMswJ",
        "outputId": "0a19d1d7-5685-4baf-c51d-c53d5362f430"
      },
      "id": "B90m_sjQMswJ",
      "execution_count": 18,
      "outputs": [
        {
          "output_type": "execute_result",
          "data": {
            "text/plain": [
              "     company                         title  totalyearlycompensation  \\\n",
              "0     ORACLE               Product Manager                   127000   \n",
              "2     AMAZON               Product Manager                   310000   \n",
              "3      APPLE  Software Engineering Manager                   372000   \n",
              "6  MICROSOFT  Software Engineering Manager                   300000   \n",
              "7  MICROSOFT             Software Engineer                   156000   \n",
              "\n",
              "   yearsofexperience  basesalary  stockgrantvalue    bonus  yearposted  \\\n",
              "0                1.5      107000          20000.0  10000.0        2017   \n",
              "2                8.0      155000              0.0      0.0        2017   \n",
              "3                7.0      157000         180000.0  35000.0        2017   \n",
              "6               15.0      180000          65000.0  55000.0        2017   \n",
              "7                4.0      135000           8000.0  13000.0        2017   \n",
              "\n",
              "  yearquarter  \n",
              "0      2017Q2  \n",
              "2      2017Q2  \n",
              "3      2017Q2  \n",
              "6      2017Q2  \n",
              "7      2017Q2  "
            ],
            "text/html": [
              "\n",
              "  <div id=\"df-e4b77819-55d6-48c3-a537-407556cb368d\">\n",
              "    <div class=\"colab-df-container\">\n",
              "      <div>\n",
              "<style scoped>\n",
              "    .dataframe tbody tr th:only-of-type {\n",
              "        vertical-align: middle;\n",
              "    }\n",
              "\n",
              "    .dataframe tbody tr th {\n",
              "        vertical-align: top;\n",
              "    }\n",
              "\n",
              "    .dataframe thead th {\n",
              "        text-align: right;\n",
              "    }\n",
              "</style>\n",
              "<table border=\"1\" class=\"dataframe\">\n",
              "  <thead>\n",
              "    <tr style=\"text-align: right;\">\n",
              "      <th></th>\n",
              "      <th>company</th>\n",
              "      <th>title</th>\n",
              "      <th>totalyearlycompensation</th>\n",
              "      <th>yearsofexperience</th>\n",
              "      <th>basesalary</th>\n",
              "      <th>stockgrantvalue</th>\n",
              "      <th>bonus</th>\n",
              "      <th>yearposted</th>\n",
              "      <th>yearquarter</th>\n",
              "    </tr>\n",
              "  </thead>\n",
              "  <tbody>\n",
              "    <tr>\n",
              "      <th>0</th>\n",
              "      <td>ORACLE</td>\n",
              "      <td>Product Manager</td>\n",
              "      <td>127000</td>\n",
              "      <td>1.5</td>\n",
              "      <td>107000</td>\n",
              "      <td>20000.0</td>\n",
              "      <td>10000.0</td>\n",
              "      <td>2017</td>\n",
              "      <td>2017Q2</td>\n",
              "    </tr>\n",
              "    <tr>\n",
              "      <th>2</th>\n",
              "      <td>AMAZON</td>\n",
              "      <td>Product Manager</td>\n",
              "      <td>310000</td>\n",
              "      <td>8.0</td>\n",
              "      <td>155000</td>\n",
              "      <td>0.0</td>\n",
              "      <td>0.0</td>\n",
              "      <td>2017</td>\n",
              "      <td>2017Q2</td>\n",
              "    </tr>\n",
              "    <tr>\n",
              "      <th>3</th>\n",
              "      <td>APPLE</td>\n",
              "      <td>Software Engineering Manager</td>\n",
              "      <td>372000</td>\n",
              "      <td>7.0</td>\n",
              "      <td>157000</td>\n",
              "      <td>180000.0</td>\n",
              "      <td>35000.0</td>\n",
              "      <td>2017</td>\n",
              "      <td>2017Q2</td>\n",
              "    </tr>\n",
              "    <tr>\n",
              "      <th>6</th>\n",
              "      <td>MICROSOFT</td>\n",
              "      <td>Software Engineering Manager</td>\n",
              "      <td>300000</td>\n",
              "      <td>15.0</td>\n",
              "      <td>180000</td>\n",
              "      <td>65000.0</td>\n",
              "      <td>55000.0</td>\n",
              "      <td>2017</td>\n",
              "      <td>2017Q2</td>\n",
              "    </tr>\n",
              "    <tr>\n",
              "      <th>7</th>\n",
              "      <td>MICROSOFT</td>\n",
              "      <td>Software Engineer</td>\n",
              "      <td>156000</td>\n",
              "      <td>4.0</td>\n",
              "      <td>135000</td>\n",
              "      <td>8000.0</td>\n",
              "      <td>13000.0</td>\n",
              "      <td>2017</td>\n",
              "      <td>2017Q2</td>\n",
              "    </tr>\n",
              "  </tbody>\n",
              "</table>\n",
              "</div>\n",
              "      <button class=\"colab-df-convert\" onclick=\"convertToInteractive('df-e4b77819-55d6-48c3-a537-407556cb368d')\"\n",
              "              title=\"Convert this dataframe to an interactive table.\"\n",
              "              style=\"display:none;\">\n",
              "        \n",
              "  <svg xmlns=\"http://www.w3.org/2000/svg\" height=\"24px\"viewBox=\"0 0 24 24\"\n",
              "       width=\"24px\">\n",
              "    <path d=\"M0 0h24v24H0V0z\" fill=\"none\"/>\n",
              "    <path d=\"M18.56 5.44l.94 2.06.94-2.06 2.06-.94-2.06-.94-.94-2.06-.94 2.06-2.06.94zm-11 1L8.5 8.5l.94-2.06 2.06-.94-2.06-.94L8.5 2.5l-.94 2.06-2.06.94zm10 10l.94 2.06.94-2.06 2.06-.94-2.06-.94-.94-2.06-.94 2.06-2.06.94z\"/><path d=\"M17.41 7.96l-1.37-1.37c-.4-.4-.92-.59-1.43-.59-.52 0-1.04.2-1.43.59L10.3 9.45l-7.72 7.72c-.78.78-.78 2.05 0 2.83L4 21.41c.39.39.9.59 1.41.59.51 0 1.02-.2 1.41-.59l7.78-7.78 2.81-2.81c.8-.78.8-2.07 0-2.86zM5.41 20L4 18.59l7.72-7.72 1.47 1.35L5.41 20z\"/>\n",
              "  </svg>\n",
              "      </button>\n",
              "      \n",
              "  <style>\n",
              "    .colab-df-container {\n",
              "      display:flex;\n",
              "      flex-wrap:wrap;\n",
              "      gap: 12px;\n",
              "    }\n",
              "\n",
              "    .colab-df-convert {\n",
              "      background-color: #E8F0FE;\n",
              "      border: none;\n",
              "      border-radius: 50%;\n",
              "      cursor: pointer;\n",
              "      display: none;\n",
              "      fill: #1967D2;\n",
              "      height: 32px;\n",
              "      padding: 0 0 0 0;\n",
              "      width: 32px;\n",
              "    }\n",
              "\n",
              "    .colab-df-convert:hover {\n",
              "      background-color: #E2EBFA;\n",
              "      box-shadow: 0px 1px 2px rgba(60, 64, 67, 0.3), 0px 1px 3px 1px rgba(60, 64, 67, 0.15);\n",
              "      fill: #174EA6;\n",
              "    }\n",
              "\n",
              "    [theme=dark] .colab-df-convert {\n",
              "      background-color: #3B4455;\n",
              "      fill: #D2E3FC;\n",
              "    }\n",
              "\n",
              "    [theme=dark] .colab-df-convert:hover {\n",
              "      background-color: #434B5C;\n",
              "      box-shadow: 0px 1px 3px 1px rgba(0, 0, 0, 0.15);\n",
              "      filter: drop-shadow(0px 1px 2px rgba(0, 0, 0, 0.3));\n",
              "      fill: #FFFFFF;\n",
              "    }\n",
              "  </style>\n",
              "\n",
              "      <script>\n",
              "        const buttonEl =\n",
              "          document.querySelector('#df-e4b77819-55d6-48c3-a537-407556cb368d button.colab-df-convert');\n",
              "        buttonEl.style.display =\n",
              "          google.colab.kernel.accessAllowed ? 'block' : 'none';\n",
              "\n",
              "        async function convertToInteractive(key) {\n",
              "          const element = document.querySelector('#df-e4b77819-55d6-48c3-a537-407556cb368d');\n",
              "          const dataTable =\n",
              "            await google.colab.kernel.invokeFunction('convertToInteractive',\n",
              "                                                     [key], {});\n",
              "          if (!dataTable) return;\n",
              "\n",
              "          const docLinkHtml = 'Like what you see? Visit the ' +\n",
              "            '<a target=\"_blank\" href=https://colab.research.google.com/notebooks/data_table.ipynb>data table notebook</a>'\n",
              "            + ' to learn more about interactive tables.';\n",
              "          element.innerHTML = '';\n",
              "          dataTable['output_type'] = 'display_data';\n",
              "          await google.colab.output.renderOutput(dataTable, element);\n",
              "          const docLink = document.createElement('div');\n",
              "          docLink.innerHTML = docLinkHtml;\n",
              "          element.appendChild(docLink);\n",
              "        }\n",
              "      </script>\n",
              "    </div>\n",
              "  </div>\n",
              "  "
            ]
          },
          "metadata": {},
          "execution_count": 18
        }
      ]
    },
    {
      "cell_type": "code",
      "source": [
        "# Check how many unique values are in the company column\n",
        "ml_df['company'].nunique()"
      ],
      "metadata": {
        "colab": {
          "base_uri": "https://localhost:8080/"
        },
        "id": "ftAKFxG5LyKC",
        "outputId": "faa52324-c136-4a51-9c09-5c60cd2d85fe"
      },
      "id": "ftAKFxG5LyKC",
      "execution_count": 19,
      "outputs": [
        {
          "output_type": "execute_result",
          "data": {
            "text/plain": [
              "927"
            ]
          },
          "metadata": {},
          "execution_count": 19
        }
      ]
    },
    {
      "cell_type": "markdown",
      "source": [
        "### Job Title Column"
      ],
      "metadata": {
        "id": "Jd-6VrQRv4KU"
      },
      "id": "Jd-6VrQRv4KU"
    },
    {
      "cell_type": "code",
      "source": [
        "ml_df['title']"
      ],
      "metadata": {
        "colab": {
          "base_uri": "https://localhost:8080/"
        },
        "id": "cPzxgfSIv6NQ",
        "outputId": "d4fba501-ec08-47e0-9048-1badba6aa0ad"
      },
      "id": "cPzxgfSIv6NQ",
      "execution_count": 20,
      "outputs": [
        {
          "output_type": "execute_result",
          "data": {
            "text/plain": [
              "0                     Product Manager\n",
              "2                     Product Manager\n",
              "3        Software Engineering Manager\n",
              "6        Software Engineering Manager\n",
              "7                   Software Engineer\n",
              "                     ...             \n",
              "52741               Software Engineer\n",
              "52742               Software Engineer\n",
              "52743               Software Engineer\n",
              "52744               Software Engineer\n",
              "52745               Software Engineer\n",
              "Name: title, Length: 50690, dtype: object"
            ]
          },
          "metadata": {},
          "execution_count": 20
        }
      ]
    },
    {
      "cell_type": "code",
      "source": [
        "# Filter to only jobs related to Data Scientist and Analyst\n",
        "ml_df = ml_df[(ml_df.title == \"Data Scientist\") | (ml_df.title == 'Business Analyst')]\n",
        "ml_df.head()\n"
      ],
      "metadata": {
        "colab": {
          "base_uri": "https://localhost:8080/",
          "height": 206
        },
        "id": "V6ynhgIPwOHo",
        "outputId": "c36acc39-ca44-4bd6-df10-ed13e594075d"
      },
      "id": "V6ynhgIPwOHo",
      "execution_count": 21,
      "outputs": [
        {
          "output_type": "execute_result",
          "data": {
            "text/plain": [
              "       company           title  totalyearlycompensation  yearsofexperience  \\\n",
              "399   LINKEDIN  Data Scientist                   233000                4.0   \n",
              "420  MICROSOFT  Data Scientist                   218000               11.0   \n",
              "432    TWITTER  Data Scientist                   500000                4.0   \n",
              "466   FACEBOOK  Data Scientist                   370000                8.0   \n",
              "470     AMAZON  Data Scientist                   200000                3.0   \n",
              "\n",
              "     basesalary  stockgrantvalue    bonus  yearposted yearquarter  \n",
              "399      162000         220000.0  10000.0        2018      2018Q2  \n",
              "420      165000          28000.0  23000.0        2018      2018Q2  \n",
              "432      200000         280000.0  20000.0        2018      2018Q2  \n",
              "466      190000         140000.0  40000.0        2018      2018Q2  \n",
              "470      150000         105000.0  81000.0        2018      2018Q2  "
            ],
            "text/html": [
              "\n",
              "  <div id=\"df-e97e495c-ef14-4ccf-9eb5-1773c176c276\">\n",
              "    <div class=\"colab-df-container\">\n",
              "      <div>\n",
              "<style scoped>\n",
              "    .dataframe tbody tr th:only-of-type {\n",
              "        vertical-align: middle;\n",
              "    }\n",
              "\n",
              "    .dataframe tbody tr th {\n",
              "        vertical-align: top;\n",
              "    }\n",
              "\n",
              "    .dataframe thead th {\n",
              "        text-align: right;\n",
              "    }\n",
              "</style>\n",
              "<table border=\"1\" class=\"dataframe\">\n",
              "  <thead>\n",
              "    <tr style=\"text-align: right;\">\n",
              "      <th></th>\n",
              "      <th>company</th>\n",
              "      <th>title</th>\n",
              "      <th>totalyearlycompensation</th>\n",
              "      <th>yearsofexperience</th>\n",
              "      <th>basesalary</th>\n",
              "      <th>stockgrantvalue</th>\n",
              "      <th>bonus</th>\n",
              "      <th>yearposted</th>\n",
              "      <th>yearquarter</th>\n",
              "    </tr>\n",
              "  </thead>\n",
              "  <tbody>\n",
              "    <tr>\n",
              "      <th>399</th>\n",
              "      <td>LINKEDIN</td>\n",
              "      <td>Data Scientist</td>\n",
              "      <td>233000</td>\n",
              "      <td>4.0</td>\n",
              "      <td>162000</td>\n",
              "      <td>220000.0</td>\n",
              "      <td>10000.0</td>\n",
              "      <td>2018</td>\n",
              "      <td>2018Q2</td>\n",
              "    </tr>\n",
              "    <tr>\n",
              "      <th>420</th>\n",
              "      <td>MICROSOFT</td>\n",
              "      <td>Data Scientist</td>\n",
              "      <td>218000</td>\n",
              "      <td>11.0</td>\n",
              "      <td>165000</td>\n",
              "      <td>28000.0</td>\n",
              "      <td>23000.0</td>\n",
              "      <td>2018</td>\n",
              "      <td>2018Q2</td>\n",
              "    </tr>\n",
              "    <tr>\n",
              "      <th>432</th>\n",
              "      <td>TWITTER</td>\n",
              "      <td>Data Scientist</td>\n",
              "      <td>500000</td>\n",
              "      <td>4.0</td>\n",
              "      <td>200000</td>\n",
              "      <td>280000.0</td>\n",
              "      <td>20000.0</td>\n",
              "      <td>2018</td>\n",
              "      <td>2018Q2</td>\n",
              "    </tr>\n",
              "    <tr>\n",
              "      <th>466</th>\n",
              "      <td>FACEBOOK</td>\n",
              "      <td>Data Scientist</td>\n",
              "      <td>370000</td>\n",
              "      <td>8.0</td>\n",
              "      <td>190000</td>\n",
              "      <td>140000.0</td>\n",
              "      <td>40000.0</td>\n",
              "      <td>2018</td>\n",
              "      <td>2018Q2</td>\n",
              "    </tr>\n",
              "    <tr>\n",
              "      <th>470</th>\n",
              "      <td>AMAZON</td>\n",
              "      <td>Data Scientist</td>\n",
              "      <td>200000</td>\n",
              "      <td>3.0</td>\n",
              "      <td>150000</td>\n",
              "      <td>105000.0</td>\n",
              "      <td>81000.0</td>\n",
              "      <td>2018</td>\n",
              "      <td>2018Q2</td>\n",
              "    </tr>\n",
              "  </tbody>\n",
              "</table>\n",
              "</div>\n",
              "      <button class=\"colab-df-convert\" onclick=\"convertToInteractive('df-e97e495c-ef14-4ccf-9eb5-1773c176c276')\"\n",
              "              title=\"Convert this dataframe to an interactive table.\"\n",
              "              style=\"display:none;\">\n",
              "        \n",
              "  <svg xmlns=\"http://www.w3.org/2000/svg\" height=\"24px\"viewBox=\"0 0 24 24\"\n",
              "       width=\"24px\">\n",
              "    <path d=\"M0 0h24v24H0V0z\" fill=\"none\"/>\n",
              "    <path d=\"M18.56 5.44l.94 2.06.94-2.06 2.06-.94-2.06-.94-.94-2.06-.94 2.06-2.06.94zm-11 1L8.5 8.5l.94-2.06 2.06-.94-2.06-.94L8.5 2.5l-.94 2.06-2.06.94zm10 10l.94 2.06.94-2.06 2.06-.94-2.06-.94-.94-2.06-.94 2.06-2.06.94z\"/><path d=\"M17.41 7.96l-1.37-1.37c-.4-.4-.92-.59-1.43-.59-.52 0-1.04.2-1.43.59L10.3 9.45l-7.72 7.72c-.78.78-.78 2.05 0 2.83L4 21.41c.39.39.9.59 1.41.59.51 0 1.02-.2 1.41-.59l7.78-7.78 2.81-2.81c.8-.78.8-2.07 0-2.86zM5.41 20L4 18.59l7.72-7.72 1.47 1.35L5.41 20z\"/>\n",
              "  </svg>\n",
              "      </button>\n",
              "      \n",
              "  <style>\n",
              "    .colab-df-container {\n",
              "      display:flex;\n",
              "      flex-wrap:wrap;\n",
              "      gap: 12px;\n",
              "    }\n",
              "\n",
              "    .colab-df-convert {\n",
              "      background-color: #E8F0FE;\n",
              "      border: none;\n",
              "      border-radius: 50%;\n",
              "      cursor: pointer;\n",
              "      display: none;\n",
              "      fill: #1967D2;\n",
              "      height: 32px;\n",
              "      padding: 0 0 0 0;\n",
              "      width: 32px;\n",
              "    }\n",
              "\n",
              "    .colab-df-convert:hover {\n",
              "      background-color: #E2EBFA;\n",
              "      box-shadow: 0px 1px 2px rgba(60, 64, 67, 0.3), 0px 1px 3px 1px rgba(60, 64, 67, 0.15);\n",
              "      fill: #174EA6;\n",
              "    }\n",
              "\n",
              "    [theme=dark] .colab-df-convert {\n",
              "      background-color: #3B4455;\n",
              "      fill: #D2E3FC;\n",
              "    }\n",
              "\n",
              "    [theme=dark] .colab-df-convert:hover {\n",
              "      background-color: #434B5C;\n",
              "      box-shadow: 0px 1px 3px 1px rgba(0, 0, 0, 0.15);\n",
              "      filter: drop-shadow(0px 1px 2px rgba(0, 0, 0, 0.3));\n",
              "      fill: #FFFFFF;\n",
              "    }\n",
              "  </style>\n",
              "\n",
              "      <script>\n",
              "        const buttonEl =\n",
              "          document.querySelector('#df-e97e495c-ef14-4ccf-9eb5-1773c176c276 button.colab-df-convert');\n",
              "        buttonEl.style.display =\n",
              "          google.colab.kernel.accessAllowed ? 'block' : 'none';\n",
              "\n",
              "        async function convertToInteractive(key) {\n",
              "          const element = document.querySelector('#df-e97e495c-ef14-4ccf-9eb5-1773c176c276');\n",
              "          const dataTable =\n",
              "            await google.colab.kernel.invokeFunction('convertToInteractive',\n",
              "                                                     [key], {});\n",
              "          if (!dataTable) return;\n",
              "\n",
              "          const docLinkHtml = 'Like what you see? Visit the ' +\n",
              "            '<a target=\"_blank\" href=https://colab.research.google.com/notebooks/data_table.ipynb>data table notebook</a>'\n",
              "            + ' to learn more about interactive tables.';\n",
              "          element.innerHTML = '';\n",
              "          dataTable['output_type'] = 'display_data';\n",
              "          await google.colab.output.renderOutput(dataTable, element);\n",
              "          const docLink = document.createElement('div');\n",
              "          docLink.innerHTML = docLinkHtml;\n",
              "          element.appendChild(docLink);\n",
              "        }\n",
              "      </script>\n",
              "    </div>\n",
              "  </div>\n",
              "  "
            ]
          },
          "metadata": {},
          "execution_count": 21
        }
      ]
    },
    {
      "cell_type": "markdown",
      "source": [
        "### Export dataframe to excel file"
      ],
      "metadata": {
        "id": "Uj9g_V94yl0_"
      },
      "id": "Uj9g_V94yl0_"
    },
    {
      "cell_type": "code",
      "source": [
        "# Check current information\n",
        "ml_df.info()"
      ],
      "metadata": {
        "colab": {
          "base_uri": "https://localhost:8080/"
        },
        "id": "1FSzgaPB7iKV",
        "outputId": "f52a6e2a-82a8-47be-cf54-d937630d7b32"
      },
      "id": "1FSzgaPB7iKV",
      "execution_count": 22,
      "outputs": [
        {
          "output_type": "stream",
          "name": "stdout",
          "text": [
            "<class 'pandas.core.frame.DataFrame'>\n",
            "Int64Index: 2858 entries, 399 to 52727\n",
            "Data columns (total 9 columns):\n",
            " #   Column                   Non-Null Count  Dtype  \n",
            "---  ------                   --------------  -----  \n",
            " 0   company                  2858 non-null   object \n",
            " 1   title                    2858 non-null   object \n",
            " 2   totalyearlycompensation  2858 non-null   int32  \n",
            " 3   yearsofexperience        2858 non-null   float64\n",
            " 4   basesalary               2858 non-null   int32  \n",
            " 5   stockgrantvalue          2858 non-null   float64\n",
            " 6   bonus                    2858 non-null   float64\n",
            " 7   yearposted               2858 non-null   int64  \n",
            " 8   yearquarter              2858 non-null   object \n",
            "dtypes: float64(3), int32(2), int64(1), object(3)\n",
            "memory usage: 201.0+ KB\n"
          ]
        }
      ]
    },
    {
      "cell_type": "code",
      "source": [
        "# # Create the path to your file directory\n",
        "# filepath = path('/Users/mariasevillano/Documents/OneDrive/Data Visualization Bootcamp/Final_Project/GroupProject/Resources/ml_metadata.csv')\n",
        "# # Save Dataframe tp csv file\n",
        "# ml_df.to_csv(filepath, index=False)"
      ],
      "metadata": {
        "id": "-vXKMJNzyax7"
      },
      "id": "-vXKMJNzyax7",
      "execution_count": 23,
      "outputs": []
    },
    {
      "cell_type": "markdown",
      "source": [
        "## Develop quick insights"
      ],
      "metadata": {
        "id": "1SoQMF327vjk"
      },
      "id": "1SoQMF327vjk"
    },
    {
      "cell_type": "markdown",
      "source": [
        "### Scatter Plot"
      ],
      "metadata": {
        "id": "v0TdqMfP8L4_"
      },
      "id": "v0TdqMfP8L4_"
    },
    {
      "cell_type": "code",
      "source": [
        "# Years of Experience\n",
        "plt.figure(figsize=(12,8))\n",
        "sns.scatterplot('yearsofexperience','totalyearlycompensation', data = ml_df, hue = \"title\", palette='mako').set(title='Experience vs. Total Compensation')\n",
        "plt.show()"
      ],
      "metadata": {
        "colab": {
          "base_uri": "https://localhost:8080/",
          "height": 569
        },
        "id": "SlXfFBqj8Kze",
        "outputId": "3a526093-7c8d-41d9-c5d3-e9d841f4bd37"
      },
      "id": "SlXfFBqj8Kze",
      "execution_count": 24,
      "outputs": [
        {
          "output_type": "stream",
          "name": "stderr",
          "text": [
            "/usr/local/lib/python3.7/dist-packages/seaborn/_decorators.py:43: FutureWarning: Pass the following variables as keyword args: x, y. From version 0.12, the only valid positional argument will be `data`, and passing other arguments without an explicit keyword will result in an error or misinterpretation.\n",
            "  FutureWarning\n"
          ]
        },
        {
          "output_type": "display_data",
          "data": {
            "text/plain": [
              "<Figure size 864x576 with 1 Axes>"
            ],
            "image/png": "[encoded data removed]"
          },
          "metadata": {
            "needs_background": "light"
          }
        }
      ]
    },
    {
      "cell_type": "code",
      "source": [
        "# Year Posted\n",
        "plt.figure(figsize=(12,8))\n",
        "sns.barplot('yearposted','totalyearlycompensation', data = ml_df, hue = \"title\", palette='mako').set(title='Year Posted vs. Total Compensation')\n",
        "plt.show()"
      ],
      "metadata": {
        "id": "cpBp_LGT74ZM",
        "colab": {
          "base_uri": "https://localhost:8080/",
          "height": 569
        },
        "outputId": "f0b721ce-0e41-492d-96b1-d94c5a6e2292"
      },
      "id": "cpBp_LGT74ZM",
      "execution_count": 25,
      "outputs": [
        {
          "output_type": "stream",
          "name": "stderr",
          "text": [
            "/usr/local/lib/python3.7/dist-packages/seaborn/_decorators.py:43: FutureWarning: Pass the following variables as keyword args: x, y. From version 0.12, the only valid positional argument will be `data`, and passing other arguments without an explicit keyword will result in an error or misinterpretation.\n",
            "  FutureWarning\n"
          ]
        },
        {
          "output_type": "display_data",
          "data": {
            "text/plain": [
              "<Figure size 864x576 with 1 Axes>"
            ],
            "image/png": "[encoded data removed]"
          },
          "metadata": {
            "needs_background": "light"
          }
        }
      ]
    },
    {
      "cell_type": "markdown",
      "source": [
        "### BoxPlot"
      ],
      "metadata": {
        "id": "TvLzSlncNGBY"
      },
      "id": "TvLzSlncNGBY"
    },
    {
      "cell_type": "code",
      "source": [
        "# From the years of experience scatter plot we see that there are some outliers\n",
        "sns.boxplot(data = ml_df, y = \"yearsofexperience\",palette = \"mako\")"
      ],
      "metadata": {
        "colab": {
          "base_uri": "https://localhost:8080/",
          "height": 270
        },
        "id": "6DhUyNQuGC5C",
        "outputId": "970e01fa-2f8f-45fe-face-8575bbadc63f"
      },
      "id": "6DhUyNQuGC5C",
      "execution_count": 26,
      "outputs": [
        {
          "output_type": "execute_result",
          "data": {
            "text/plain": [
              "<matplotlib.axes._subplots.AxesSubplot at 0x7f0e766bb710>"
            ]
          },
          "metadata": {},
          "execution_count": 26
        },
        {
          "output_type": "display_data",
          "data": {
            "text/plain": [
              "<Figure size 432x288 with 1 Axes>"
            ],
            "image/png": "[encoded data removed]"
          },
          "metadata": {
            "needs_background": "light"
          }
        }
      ]
    },
    {
      "cell_type": "code",
      "source": [
        "# finding the 1st quartile\n",
        "q1 = np.quantile(ml_df.yearsofexperience, 0.25)\n",
        " \n",
        "# finding the 3rd quartile\n",
        "q3 = np.quantile(ml_df.yearsofexperience, 0.75)\n",
        "med = np.median(ml_df.yearsofexperience)\n",
        " \n",
        "# finding the iqr region\n",
        "iqr = q3-q1\n",
        " \n",
        "# finding upper and lower whiskers\n",
        "upper_bound = q3+(1.5*iqr)\n",
        "lower_bound = q1-(1.5*iqr)\n",
        "print(iqr, upper_bound, lower_bound)"
      ],
      "metadata": {
        "colab": {
          "base_uri": "https://localhost:8080/"
        },
        "id": "EZnIy3kzQvR0",
        "outputId": "44f60657-412d-4d4d-9be8-bd47a5f703f3"
      },
      "id": "EZnIy3kzQvR0",
      "execution_count": 27,
      "outputs": [
        {
          "output_type": "stream",
          "name": "stdout",
          "text": [
            "5.0 14.5 -5.5\n"
          ]
        }
      ]
    },
    {
      "cell_type": "code",
      "source": [
        "#Finding Outliers\n",
        "outliers = ml_df[(ml_df.yearsofexperience <= lower_bound) | (ml_df.yearsofexperience >= upper_bound)]\n",
        "print('The following are the outliers in the boxplot:{}'.format(outliers))"
      ],
      "metadata": {
        "colab": {
          "base_uri": "https://localhost:8080/"
        },
        "id": "eNnesPQzQZpB",
        "outputId": "7155c4fe-c5c8-4379-8c05-a3b4dedc1ff7"
      },
      "id": "eNnesPQzQZpB",
      "execution_count": 28,
      "outputs": [
        {
          "output_type": "stream",
          "name": "stdout",
          "text": [
            "The following are the outliers in the boxplot:                company             title  totalyearlycompensation  \\\n",
            "1503         SALESFORCE    Data Scientist                   315000   \n",
            "1680          MICROSOFT    Data Scientist                   216000   \n",
            "3476          MICROSOFT    Data Scientist                   365000   \n",
            "5398           FACEBOOK    Data Scientist                   395000   \n",
            "7479          MICROSOFT    Data Scientist                   350000   \n",
            "...                 ...               ...                      ...   \n",
            "50730            GOOGLE  Business Analyst                   275000   \n",
            "50938  PROCTER & GAMBLE  Business Analyst                   128000   \n",
            "51604       BIGCOMMERCE    Data Scientist                   217000   \n",
            "51707          FACEBOOK    Data Scientist                   700000   \n",
            "52635            GOOGLE    Data Scientist                   685000   \n",
            "\n",
            "       yearsofexperience  basesalary  stockgrantvalue    bonus  yearposted  \\\n",
            "1503                15.0      225000          50000.0  40000.0        2018   \n",
            "1680                15.0      166000          25000.0  25000.0        2018   \n",
            "3476                18.0      230000         100000.0  45000.0        2019   \n",
            "5398                15.0      208000         135000.0  52000.0        2019   \n",
            "7479                15.0      210000          90000.0  50000.0        2019   \n",
            "...                  ...         ...              ...      ...         ...   \n",
            "50730               16.0      167000          75000.0  33000.0        2021   \n",
            "50938               15.0      120000              0.0   8000.0        2021   \n",
            "51604               16.0      213000           4000.0      0.0        2021   \n",
            "51707               16.0      255000         375000.0  70000.0        2021   \n",
            "52635               22.0      221000         296000.0  55000.0        2018   \n",
            "\n",
            "      yearquarter  \n",
            "1503       2018Q3  \n",
            "1680       2018Q4  \n",
            "3476       2019Q1  \n",
            "5398       2019Q2  \n",
            "7479       2019Q2  \n",
            "...           ...  \n",
            "50730      2021Q3  \n",
            "50938      2021Q3  \n",
            "51604      2021Q3  \n",
            "51707      2021Q3  \n",
            "52635      2018Q2  \n",
            "\n",
            "[128 rows x 9 columns]\n"
          ]
        }
      ]
    },
    {
      "cell_type": "code",
      "source": [
        "# Eliminating outliers\n",
        "ml_df = ml_df[(ml_df.yearsofexperience >= lower_bound) & (ml_df.yearsofexperience <= upper_bound)]\n",
        "plt.figure(figsize=(12, 7))\n",
        "sns.boxplot(data = ml_df, y='yearsofexperience', palette = \"mako\")\n",
        "plt.show()"
      ],
      "metadata": {
        "colab": {
          "base_uri": "https://localhost:8080/",
          "height": 415
        },
        "id": "d4p8EI02Rhq7",
        "outputId": "b586ad29-8832-45b3-d2f8-d0ce8cc69dd8"
      },
      "id": "d4p8EI02Rhq7",
      "execution_count": 29,
      "outputs": [
        {
          "output_type": "display_data",
          "data": {
            "text/plain": [
              "<Figure size 864x504 with 1 Axes>"
            ],
            "image/png": "[encoded data removed]"
          },
          "metadata": {
            "needs_background": "light"
          }
        }
      ]
    },
    {
      "cell_type": "code",
      "source": [
        "# Check updated dataframe\n",
        "ml_df.info()"
      ],
      "metadata": {
        "colab": {
          "base_uri": "https://localhost:8080/"
        },
        "id": "09AottgqSP5F",
        "outputId": "1fe2be2a-df13-4854-cee0-2070a2dd30ea"
      },
      "id": "09AottgqSP5F",
      "execution_count": 30,
      "outputs": [
        {
          "output_type": "stream",
          "name": "stdout",
          "text": [
            "<class 'pandas.core.frame.DataFrame'>\n",
            "Int64Index: 2730 entries, 399 to 52727\n",
            "Data columns (total 9 columns):\n",
            " #   Column                   Non-Null Count  Dtype  \n",
            "---  ------                   --------------  -----  \n",
            " 0   company                  2730 non-null   object \n",
            " 1   title                    2730 non-null   object \n",
            " 2   totalyearlycompensation  2730 non-null   int32  \n",
            " 3   yearsofexperience        2730 non-null   float64\n",
            " 4   basesalary               2730 non-null   int32  \n",
            " 5   stockgrantvalue          2730 non-null   float64\n",
            " 6   bonus                    2730 non-null   float64\n",
            " 7   yearposted               2730 non-null   int64  \n",
            " 8   yearquarter              2730 non-null   object \n",
            "dtypes: float64(3), int32(2), int64(1), object(3)\n",
            "memory usage: 192.0+ KB\n"
          ]
        }
      ]
    },
    {
      "cell_type": "markdown",
      "source": [
        "### Correlation Heatmap"
      ],
      "metadata": {
        "id": "pGFZpcbIZWX_"
      },
      "id": "pGFZpcbIZWX_"
    },
    {
      "cell_type": "code",
      "source": [
        "#Look at correlation between total compensation and other variables\n",
        "plt.figure(figsize=(12,8))\n",
        "sns.heatmap(ml_df.corr(), cmap=\"mako\", annot = True)\n",
        "plt.title(\"Correlations Between Variables\")\n",
        "plt.show()"
      ],
      "metadata": {
        "colab": {
          "base_uri": "https://localhost:8080/",
          "height": 613
        },
        "id": "BgbNWXKqZWtc",
        "outputId": "42304697-11c5-49d6-ac7e-83a996197c29"
      },
      "id": "BgbNWXKqZWtc",
      "execution_count": 31,
      "outputs": [
        {
          "output_type": "display_data",
          "data": {
            "text/plain": [
              "<Figure size 864x576 with 2 Axes>"
            ],
            "image/png": "[encoded data removed]"
          },
          "metadata": {
            "needs_background": "light"
          }
        }
      ]
    },
    {
      "cell_type": "markdown",
      "source": [
        "# Machine Learning Model"
      ],
      "metadata": {
        "id": "kt9wJzNLZQCt"
      },
      "id": "kt9wJzNLZQCt"
    },
    {
      "cell_type": "code",
      "source": [
        "# Import dependancies\n",
        "from sklearn.model_selection import train_test_split\n",
        "from sklearn.preprocessing import StandardScaler\n",
        "from sklearn.ensemble import RandomForestRegressor\n",
        "from sklearn.linear_model import LinearRegression\n",
        "from sklearn.metrics  import accuracy_score\n",
        "from sklearn.metrics import explained_variance_score\n",
        "from sklearn.metrics import confusion_matrix"
      ],
      "metadata": {
        "id": "bxFibwaNckfv"
      },
      "id": "bxFibwaNckfv",
      "execution_count": 41,
      "outputs": []
    },
    {
      "cell_type": "markdown",
      "source": [
        "## Split the Data into Training and Testing"
      ],
      "metadata": {
        "id": "E58UNljua-kH"
      },
      "id": "E58UNljua-kH"
    },
    {
      "cell_type": "code",
      "source": [
        "# Add dummies data for categorical variables and drop non-beneficiary columns\n",
        "ml_2 = pd.get_dummies(ml_df.drop([\"company\", \"yearquarter\"], axis = 1))"
      ],
      "metadata": {
        "id": "XzpvP4AZix53"
      },
      "id": "XzpvP4AZix53",
      "execution_count": 36,
      "outputs": []
    },
    {
      "cell_type": "code",
      "source": [
        "# Check correlation\n",
        "plt.figure(figsize=(12,8))\n",
        "sns.heatmap(ml_2.corr(), cmap=\"mako\", annot = True)\n",
        "plt.title(\"Correlations Between Variables\")\n",
        "plt.show()"
      ],
      "metadata": {
        "colab": {
          "base_uri": "https://localhost:8080/",
          "height": 613
        },
        "id": "5sM1lP0VkJjh",
        "outputId": "e6191cdb-e8fa-4cb2-9a1b-47bc3acdd046"
      },
      "id": "5sM1lP0VkJjh",
      "execution_count": 37,
      "outputs": [
        {
          "output_type": "display_data",
          "data": {
            "text/plain": [
              "<Figure size 864x576 with 2 Axes>"
            ],
            "image/png": "[encoded data removed]"
          },
          "metadata": {
            "needs_background": "light"
          }
        }
      ]
    },
    {
      "cell_type": "code",
      "source": [
        "# Define the target and independent features\n",
        "#Independent Variables\n",
        "X = ml_2.drop(columns=\"totalyearlycompensation\")\n",
        "\n",
        "# Target Variables\n",
        "y = ml_2[\"totalyearlycompensation\"]"
      ],
      "metadata": {
        "id": "jeQc1Sdoa7E7"
      },
      "id": "jeQc1Sdoa7E7",
      "execution_count": 38,
      "outputs": []
    },
    {
      "cell_type": "code",
      "source": [
        "X.describe()"
      ],
      "metadata": {
        "colab": {
          "base_uri": "https://localhost:8080/",
          "height": 300
        },
        "id": "4KSkULaRnItE",
        "outputId": "4cb4e97f-0b70-4915-8107-f880b6c192f6"
      },
      "id": "4KSkULaRnItE",
      "execution_count": 39,
      "outputs": [
        {
          "output_type": "execute_result",
          "data": {
            "text/plain": [
              "       yearsofexperience     basesalary  stockgrantvalue          bonus  \\\n",
              "count        2730.000000    2730.000000      2730.000000    2730.000000   \n",
              "mean            4.593773  141434.432234     37406.227106   17400.732601   \n",
              "std             3.251208   52688.582808     56565.972386   21071.512697   \n",
              "min             0.000000   13000.000000         0.000000       0.000000   \n",
              "25%             2.000000  110000.000000         0.000000    5000.000000   \n",
              "50%             4.000000  140000.000000     19000.000000   14000.000000   \n",
              "75%             6.000000  160000.000000     50000.000000   25000.000000   \n",
              "max            14.000000  700000.000000    500000.000000  350000.000000   \n",
              "\n",
              "       yearposted  title_Business Analyst  title_Data Scientist  \n",
              "count  2730.00000             2730.000000           2730.000000  \n",
              "mean   2020.22967                0.252381              0.747619  \n",
              "std       0.78996                0.434458              0.434458  \n",
              "min    2018.00000                0.000000              0.000000  \n",
              "25%    2020.00000                0.000000              0.000000  \n",
              "50%    2020.00000                0.000000              1.000000  \n",
              "75%    2021.00000                1.000000              1.000000  \n",
              "max    2021.00000                1.000000              1.000000  "
            ],
            "text/html": [
              "\n",
              "  <div id=\"df-07b80918-4454-4dc5-ade2-b2a4aa8b3f12\">\n",
              "    <div class=\"colab-df-container\">\n",
              "      <div>\n",
              "<style scoped>\n",
              "    .dataframe tbody tr th:only-of-type {\n",
              "        vertical-align: middle;\n",
              "    }\n",
              "\n",
              "    .dataframe tbody tr th {\n",
              "        vertical-align: top;\n",
              "    }\n",
              "\n",
              "    .dataframe thead th {\n",
              "        text-align: right;\n",
              "    }\n",
              "</style>\n",
              "<table border=\"1\" class=\"dataframe\">\n",
              "  <thead>\n",
              "    <tr style=\"text-align: right;\">\n",
              "      <th></th>\n",
              "      <th>yearsofexperience</th>\n",
              "      <th>basesalary</th>\n",
              "      <th>stockgrantvalue</th>\n",
              "      <th>bonus</th>\n",
              "      <th>yearposted</th>\n",
              "      <th>title_Business Analyst</th>\n",
              "      <th>title_Data Scientist</th>\n",
              "    </tr>\n",
              "  </thead>\n",
              "  <tbody>\n",
              "    <tr>\n",
              "      <th>count</th>\n",
              "      <td>2730.000000</td>\n",
              "      <td>2730.000000</td>\n",
              "      <td>2730.000000</td>\n",
              "      <td>2730.000000</td>\n",
              "      <td>2730.00000</td>\n",
              "      <td>2730.000000</td>\n",
              "      <td>2730.000000</td>\n",
              "    </tr>\n",
              "    <tr>\n",
              "      <th>mean</th>\n",
              "      <td>4.593773</td>\n",
              "      <td>141434.432234</td>\n",
              "      <td>37406.227106</td>\n",
              "      <td>17400.732601</td>\n",
              "      <td>2020.22967</td>\n",
              "      <td>0.252381</td>\n",
              "      <td>0.747619</td>\n",
              "    </tr>\n",
              "    <tr>\n",
              "      <th>std</th>\n",
              "      <td>3.251208</td>\n",
              "      <td>52688.582808</td>\n",
              "      <td>56565.972386</td>\n",
              "      <td>21071.512697</td>\n",
              "      <td>0.78996</td>\n",
              "      <td>0.434458</td>\n",
              "      <td>0.434458</td>\n",
              "    </tr>\n",
              "    <tr>\n",
              "      <th>min</th>\n",
              "      <td>0.000000</td>\n",
              "      <td>13000.000000</td>\n",
              "      <td>0.000000</td>\n",
              "      <td>0.000000</td>\n",
              "      <td>2018.00000</td>\n",
              "      <td>0.000000</td>\n",
              "      <td>0.000000</td>\n",
              "    </tr>\n",
              "    <tr>\n",
              "      <th>25%</th>\n",
              "      <td>2.000000</td>\n",
              "      <td>110000.000000</td>\n",
              "      <td>0.000000</td>\n",
              "      <td>5000.000000</td>\n",
              "      <td>2020.00000</td>\n",
              "      <td>0.000000</td>\n",
              "      <td>0.000000</td>\n",
              "    </tr>\n",
              "    <tr>\n",
              "      <th>50%</th>\n",
              "      <td>4.000000</td>\n",
              "      <td>140000.000000</td>\n",
              "      <td>19000.000000</td>\n",
              "      <td>14000.000000</td>\n",
              "      <td>2020.00000</td>\n",
              "      <td>0.000000</td>\n",
              "      <td>1.000000</td>\n",
              "    </tr>\n",
              "    <tr>\n",
              "      <th>75%</th>\n",
              "      <td>6.000000</td>\n",
              "      <td>160000.000000</td>\n",
              "      <td>50000.000000</td>\n",
              "      <td>25000.000000</td>\n",
              "      <td>2021.00000</td>\n",
              "      <td>1.000000</td>\n",
              "      <td>1.000000</td>\n",
              "    </tr>\n",
              "    <tr>\n",
              "      <th>max</th>\n",
              "      <td>14.000000</td>\n",
              "      <td>700000.000000</td>\n",
              "      <td>500000.000000</td>\n",
              "      <td>350000.000000</td>\n",
              "      <td>2021.00000</td>\n",
              "      <td>1.000000</td>\n",
              "      <td>1.000000</td>\n",
              "    </tr>\n",
              "  </tbody>\n",
              "</table>\n",
              "</div>\n",
              "      <button class=\"colab-df-convert\" onclick=\"convertToInteractive('df-07b80918-4454-4dc5-ade2-b2a4aa8b3f12')\"\n",
              "              title=\"Convert this dataframe to an interactive table.\"\n",
              "              style=\"display:none;\">\n",
              "        \n",
              "  <svg xmlns=\"http://www.w3.org/2000/svg\" height=\"24px\"viewBox=\"0 0 24 24\"\n",
              "       width=\"24px\">\n",
              "    <path d=\"M0 0h24v24H0V0z\" fill=\"none\"/>\n",
              "    <path d=\"M18.56 5.44l.94 2.06.94-2.06 2.06-.94-2.06-.94-.94-2.06-.94 2.06-2.06.94zm-11 1L8.5 8.5l.94-2.06 2.06-.94-2.06-.94L8.5 2.5l-.94 2.06-2.06.94zm10 10l.94 2.06.94-2.06 2.06-.94-2.06-.94-.94-2.06-.94 2.06-2.06.94z\"/><path d=\"M17.41 7.96l-1.37-1.37c-.4-.4-.92-.59-1.43-.59-.52 0-1.04.2-1.43.59L10.3 9.45l-7.72 7.72c-.78.78-.78 2.05 0 2.83L4 21.41c.39.39.9.59 1.41.59.51 0 1.02-.2 1.41-.59l7.78-7.78 2.81-2.81c.8-.78.8-2.07 0-2.86zM5.41 20L4 18.59l7.72-7.72 1.47 1.35L5.41 20z\"/>\n",
              "  </svg>\n",
              "      </button>\n",
              "      \n",
              "  <style>\n",
              "    .colab-df-container {\n",
              "      display:flex;\n",
              "      flex-wrap:wrap;\n",
              "      gap: 12px;\n",
              "    }\n",
              "\n",
              "    .colab-df-convert {\n",
              "      background-color: #E8F0FE;\n",
              "      border: none;\n",
              "      border-radius: 50%;\n",
              "      cursor: pointer;\n",
              "      display: none;\n",
              "      fill: #1967D2;\n",
              "      height: 32px;\n",
              "      padding: 0 0 0 0;\n",
              "      width: 32px;\n",
              "    }\n",
              "\n",
              "    .colab-df-convert:hover {\n",
              "      background-color: #E2EBFA;\n",
              "      box-shadow: 0px 1px 2px rgba(60, 64, 67, 0.3), 0px 1px 3px 1px rgba(60, 64, 67, 0.15);\n",
              "      fill: #174EA6;\n",
              "    }\n",
              "\n",
              "    [theme=dark] .colab-df-convert {\n",
              "      background-color: #3B4455;\n",
              "      fill: #D2E3FC;\n",
              "    }\n",
              "\n",
              "    [theme=dark] .colab-df-convert:hover {\n",
              "      background-color: #434B5C;\n",
              "      box-shadow: 0px 1px 3px 1px rgba(0, 0, 0, 0.15);\n",
              "      filter: drop-shadow(0px 1px 2px rgba(0, 0, 0, 0.3));\n",
              "      fill: #FFFFFF;\n",
              "    }\n",
              "  </style>\n",
              "\n",
              "      <script>\n",
              "        const buttonEl =\n",
              "          document.querySelector('#df-07b80918-4454-4dc5-ade2-b2a4aa8b3f12 button.colab-df-convert');\n",
              "        buttonEl.style.display =\n",
              "          google.colab.kernel.accessAllowed ? 'block' : 'none';\n",
              "\n",
              "        async function convertToInteractive(key) {\n",
              "          const element = document.querySelector('#df-07b80918-4454-4dc5-ade2-b2a4aa8b3f12');\n",
              "          const dataTable =\n",
              "            await google.colab.kernel.invokeFunction('convertToInteractive',\n",
              "                                                     [key], {});\n",
              "          if (!dataTable) return;\n",
              "\n",
              "          const docLinkHtml = 'Like what you see? Visit the ' +\n",
              "            '<a target=\"_blank\" href=https://colab.research.google.com/notebooks/data_table.ipynb>data table notebook</a>'\n",
              "            + ' to learn more about interactive tables.';\n",
              "          element.innerHTML = '';\n",
              "          dataTable['output_type'] = 'display_data';\n",
              "          await google.colab.output.renderOutput(dataTable, element);\n",
              "          const docLink = document.createElement('div');\n",
              "          docLink.innerHTML = docLinkHtml;\n",
              "          element.appendChild(docLink);\n",
              "        }\n",
              "      </script>\n",
              "    </div>\n",
              "  </div>\n",
              "  "
            ]
          },
          "metadata": {},
          "execution_count": 39
        }
      ]
    },
    {
      "cell_type": "code",
      "source": [
        "# Split dataset in training and testing\n",
        "X_train,X_test,y_train,y_test=train_test_split(X,y,test_size=0.2,random_state=0)\n",
        "X_train.shape"
      ],
      "metadata": {
        "colab": {
          "base_uri": "https://localhost:8080/"
        },
        "id": "-i2nx9dXoCGt",
        "outputId": "130d16fb-79ca-4e91-c89b-413e18cb6215"
      },
      "id": "-i2nx9dXoCGt",
      "execution_count": 43,
      "outputs": [
        {
          "output_type": "execute_result",
          "data": {
            "text/plain": [
              "(2184, 7)"
            ]
          },
          "metadata": {},
          "execution_count": 43
        }
      ]
    },
    {
      "cell_type": "code",
      "source": [
        "# Scale data\n",
        "scaler = StandardScaler()\n",
        "X_scaler = scaler.fit(X_train)\n",
        "X_train_scaled = X_scaler.transform(X_train)\n",
        "X_test_scaled = X_scaler.transform(X_test)"
      ],
      "metadata": {
        "id": "-yfib60roCTj"
      },
      "id": "-yfib60roCTj",
      "execution_count": 44,
      "outputs": []
    },
    {
      "cell_type": "markdown",
      "source": [
        "## Multilinear Regression"
      ],
      "metadata": {
        "id": "MkLq1d7cZSka"
      },
      "id": "MkLq1d7cZSka"
    }
  ],
  "metadata": {
    "kernelspec": {
      "display_name": "mlenv",
      "language": "python",
      "name": "mlenv"
    },
    "language_info": {
      "codemirror_mode": {
        "name": "ipython",
        "version": 3
      },
      "file_extension": ".py",
      "mimetype": "text/x-python",
      "name": "python",
      "nbconvert_exporter": "python",
      "pygments_lexer": "ipython3",
      "version": "3.10.4"
    },
    "colab": {
      "provenance": [],
      "collapsed_sections": []
    }
  },
  "nbformat": 4,
  "nbformat_minor": 5
}